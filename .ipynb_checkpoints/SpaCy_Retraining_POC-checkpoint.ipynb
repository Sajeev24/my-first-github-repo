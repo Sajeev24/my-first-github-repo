{
 "cells": [
  {
   "cell_type": "markdown",
   "metadata": {
    "colab_type": "text",
    "id": "5JHW160M7RJ4"
   },
   "source": [
    "We are trying to build a POC to prove if retraining SpaCy's pretrained model on private data improves the performance. This logically seems so. But need to see by how much does it improve.\n",
    "\n",
    "One hurdle in this process is that the annotation labels that SpaCy's NER model is trained is different than that of our dataset. So, we would need to find the equivalence between the labels to make this happen. You can find the labels that SpaCy parses on its [documentation page](https://spacy.io/api/annotation#named-entities). Whereas  [our dataset](https://www.kaggle.com/alaakhaled/conll003-englishversion) has these labels: PER, ORG, LOC, MISC\n",
    "\n",
    "The following are the dependencies of this notebook. Please make sure they are installed before running this notebook:\n",
    "* SpaCy\n",
    "* Sklearn\n",
    "\n",
    "We need to compare the performance on the following scenarios:\n",
    "* Performance on spaCy's vanilla pretrained model 'en_core_web_md'\n",
    "* Performance after retraining vanilla model ('en_core_web_md') on training dataset.\n",
    "* Performance on a model obtained by training from scratch on a training dataset.\n",
    "* Performance on spaCy's vanilla pretrained model 'en_core_web_lg' which is the <b>largest</b> model\n",
    "* Performance after retraining vanilla model ('en_core_web_lg') on training dataset."
   ]
  },
  {
   "cell_type": "code",
   "execution_count": 2,
   "metadata": {},
   "outputs": [
    {
     "data": {
      "text/plain": [
       "True"
      ]
     },
     "execution_count": 2,
     "metadata": {},
     "output_type": "execute_result"
    }
   ],
   "source": [
    "import spacy\n",
    "spacy.prefer_gpu()"
   ]
  },
  {
   "cell_type": "code",
   "execution_count": 3,
   "metadata": {
    "colab": {},
    "colab_type": "code",
    "id": "AKpviA9-7RJ6"
   },
   "outputs": [],
   "source": [
    "import json\n",
    "from pprint import pprint\n",
    "import spacy \n",
    "import random\n",
    "import copy \n",
    "from sklearn.metrics import precision_recall_fscore_support\n",
    "from spacy.gold import GoldParse\n",
    "from sklearn.metrics import accuracy_score"
   ]
  },
  {
   "cell_type": "code",
   "execution_count": 5,
   "metadata": {},
   "outputs": [
    {
     "name": "stdout",
     "output_type": "stream",
     "text": [
      "Google Collab :        False\n",
      "In Jupyter Notebook :  True\n"
     ]
    }
   ],
   "source": [
    "import sys\n",
    "in_ipythonkernel = 'ipykernel' in sys.modules\n",
    "in_collab = 'google.colab' in sys.modules\n",
    "if in_ipythonkernel == True:\n",
    "    in_jupyter = in_collab == False\n",
    "print('Google Collab :       ', in_collab)\n",
    "print('In Jupyter Notebook : ', in_jupyter)\n"
   ]
  },
  {
   "cell_type": "markdown",
   "metadata": {
    "colab_type": "text",
    "id": "pX_hig8ATG9u"
   },
   "source": [
    "**Convert dataset files in NER format to JSON**"
   ]
  },
  {
   "cell_type": "code",
   "execution_count": 2,
   "metadata": {
    "colab": {
     "base_uri": "https://localhost:8080/",
     "height": 118
    },
    "colab_type": "code",
    "id": "ouxmkZ_VRzzW",
    "outputId": "de050cc6-db3f-4370-bf8e-fad3dcbf45f2"
   },
   "outputs": [
    {
     "name": "stdout",
     "output_type": "stream",
     "text": [
      "Google Collab :        False\n",
      "In Jupyter Notebook :  True\n"
     ]
    }
   ],
   "source": [
    "if in_jupyter == True:\n",
    "    ! python -m spacy convert -c ner valid.txt > valid.json\n",
    "    ! python -m spacy convert -c ner test.txt > test.json\n",
    "    ! python -m spacy convert -c ner train.txt > train.json\n",
    "elif in_collab == True:\n",
    "    ! mkdir dir\n",
    "    ! python -m spacy convert -c ner valid.txt dir\n",
    "    ! python -m spacy convert -c ner test.txt dir\n",
    "    ! python -m spacy convert -c ner train.txt dir\n",
    "    ! mv dir/* . \n",
    "    ! rmdir dir"
   ]
  },
  {
   "cell_type": "markdown",
   "metadata": {
    "colab_type": "text",
    "id": "Z_FBWx_b2J-F"
   },
   "source": [
    "# **Utility functions**"
   ]
  },
  {
   "cell_type": "code",
   "execution_count": 18,
   "metadata": {
    "colab": {},
    "colab_type": "code",
    "id": "nOzFHPDc2ZkZ"
   },
   "outputs": [],
   "source": [
    "if in_collab == True:\n",
    "    from IPython.display import display as print\n",
    "\n",
    "# Define a function to convert the ConLL ner data to a format that spaCy understands\n",
    "def convert_conll_ner_to_spacy(json_obj):\n",
    "    if in_collab == True:\n",
    "        return convert_conll_ner_to_spacy_google_collab_(json_obj)\n",
    "    else:\n",
    "        assert in_jupyter == True\n",
    "        return convert_conll_ner_to_spacy_jupyter_nbook_(json_obj)\n",
    "        \n",
    "def process_sentence_token_(sentence_tokens):\n",
    "    end = None\n",
    "    byte_count = 0\n",
    "    entities = []\n",
    "    set1 = set()\n",
    "    for i,token in enumerate(sentence_tokens):\n",
    "        #print('\\n\\t' + str(token))\n",
    "        byte_count += len(token['orth'])\n",
    "        ner_tag_scheme_list = token['ner'].split('-')\n",
    "        biluo_scheme = ner_tag_scheme_list[0]\n",
    "        ner_tag = None\n",
    "\n",
    "        if biluo_scheme == 'O':\n",
    "            #print(f'\\tbc:{byte_count}')\n",
    "            pass\n",
    "        else: \n",
    "            set1.add(token['ner'].split('-')[1])\n",
    "            ner_tag = ner_tag_scheme_list[1]\n",
    "            if biluo_scheme == 'B':\n",
    "                start = byte_count - len(token['orth'])\n",
    "            elif biluo_scheme == 'I':\n",
    "                pass\n",
    "            elif biluo_scheme == 'L':\n",
    "                end = byte_count\n",
    "            elif biluo_scheme == 'U':\n",
    "                start = byte_count - len(token['orth'])\n",
    "                end = byte_count\n",
    "        byte_count += 1      # For a single space between tokens\n",
    "        if end != None:\n",
    "            #print(f'\\ttoken:{full[start:end]} -- start:{start} end:{end} bc:{byte_count} -- tag:{ner_tag}')\n",
    "            entities.append((start, end, ner_tag))\n",
    "            end = None\n",
    "    return entities\n",
    "    \n",
    "\n",
    "def convert_conll_ner_to_spacy_google_collab_(json_obj):\n",
    "    training_data = []\n",
    "    sentences = json_obj[0]['paragraphs'][0]['sentences']\n",
    "    for j,sentence in enumerate(sentences):\n",
    "        byte_count = 0\n",
    "        sentence_tokens = sentence['tokens']\n",
    "        full = \" \".join([token['orth'] for token in sentence_tokens])\n",
    "        entities = process_sentence_token_(sentence_tokens)\n",
    "        training_data.append((full, {\"entities\" : entities}))\n",
    "    #print(set1)\n",
    "    return training_data\n",
    "\n",
    "def convert_conll_ner_to_spacy_jupyter_nbook_(json_obj):\n",
    "    training_data = []\n",
    "    for j,document in enumerate(json_obj):\n",
    "        sentence_tokens = document['paragraphs'][0]['sentences'][0]['tokens']\n",
    "        #print(sentence_tokens)\n",
    "        full = \" \".join([token['orth'] for token in sentence_tokens])\n",
    "        entities = process_sentence_token_(sentence_tokens)\n",
    "        training_data.append((full, {\"entities\" : entities}))\n",
    "    #print(set1)\n",
    "    return training_data\n",
    "\n",
    "\n",
    "# Take convert human annotated examples in spacy format and build a dictionary \n",
    "# that maps annotation labels to annotated text. This wil help up in peering \n",
    "# into the annotations to find what the labels actually mean.\n",
    "def spacy_get_annotations_by_labels(examples_in_spacy_fmt, labels='all'):\n",
    "    if labels != 'all':\n",
    "        raise('Not implemented for specific label')\n",
    "    label_to_text_map =  {} \n",
    "    for text,annotations in examples_in_spacy_fmt:\n",
    "        entities = annotations['entities']\n",
    "        #print(text)\n",
    "        for (start, end, label) in entities:\n",
    "            #print('\\t',start, end, label, '\\''+text[start:end]+'\\'')\n",
    "            if label not in label_to_text_map:\n",
    "                label_to_text_map[ label ] = set()\n",
    "            else:\n",
    "                label_to_text_map[ label ].add( text[start:end] )\n",
    "    return label_to_text_map\n",
    "\n",
    "# To display the this annotations label to text dictionary\n",
    "def display_labels2text_dict(dictionary, num_samples_per_entity):\n",
    "    temp_dict = {}\n",
    "    for key, set_ in dictionary.items():\n",
    "        temp_dict[key] = []\n",
    "        set_list = list(set_)\n",
    "        print(f'set_len({key}) = {len(set_)}')\n",
    "        if len(set_list) < num_samples_per_entity:\n",
    "            [ temp_dict[key].append(e) for e in set_list ]\n",
    "        else: \n",
    "            for i in range(num_samples_per_entity):\n",
    "                temp_dict[key].append( set_list[ int(random.random() * len(set_list)) ] )\n",
    "    pprint(temp_dict, width=200)\n",
    "\n",
    "def copy_dict(src_dict, dest_dict):\n",
    "    for label,set_ in src_dict.items():\n",
    "        if label not in dest_dict:\n",
    "            dest_dict[label] = set()\n",
    "        else:\n",
    "            [ dest_dict[label].add(i) for i in src_dict[label] ]\n",
    "    return\n",
    "    \n",
    "# Help merging the dictionaries for training and test examples\n",
    "def merge_labels_to_text_dict(dict1, dict2):\n",
    "    merged_dict = {}\n",
    "    copy_dict(dict1, merged_dict)\n",
    "    copy_dict(dict2, merged_dict)\n",
    "    return merged_dict\n",
    "\n",
    "import random\n",
    "\n",
    "# Dictionary that maps entities in the pretrained model (en_core_web_xx) to the unique texts of the test set\n",
    "# they resolve to. So that we know what all texts match a particular entity label. This will help us \n",
    "# in understanding which label maps to the labels of the dataset that is used for pre-training.\n",
    "def spacy_ner_predictions_to_dict(examples_in_spacy_fmt, model):\n",
    "    pred_ent_to_text_map = {} \n",
    "    for text,_ in examples_in_spacy_fmt:\n",
    "        pred_doc = model(text)\n",
    "        for ent in pred_doc.ents: \n",
    "            if ent.label_ not in pred_ent_to_text_map:\n",
    "                pred_ent_to_text_map[ ent.label_ ] = set()\n",
    "            else:\n",
    "                pred_ent_to_text_map[ ent.label_ ].add( ent.text )\n",
    "    return pred_ent_to_text_map\n",
    "\n",
    "def print_annotaions_and_predictions(spacy_examples):\n",
    "    for text,annotation in spacy_examples:\n",
    "        pred_doc = pretrained_nlp(text)\n",
    "        ypred = [ (ent.label_,ent.text) for ent in pred_doc.ents ]\n",
    "        \n",
    "        annot_list = [( ent[2], text[ent[0]:ent[1]] ) for ent in annotation['entities']]\n",
    "        \n",
    "        print('Human annotated: ', annot_list)\n",
    "        print('Predictions    : ', ypred)\n",
    "        print('\\n')\n",
    "\n",
    "def map_pred_tag_to_domain(pred_bilou_tag, equivalence_map):\n",
    "    if pred_bilou_tag[0] == 'O':\n",
    "        return 'O'\n",
    "    bilou_part = pred_bilou_tag.split('-')[0]\n",
    "    label_part = pred_bilou_tag.split('-')[1]\n",
    "        \n",
    "    if label_part not in equivalence_map.keys():\n",
    "        return 'O'\n",
    "    return bilou_part + '-' + equivalence_map[label_part]\n",
    "\n",
    "def convert_doc_to_bilou_tags(doc):\n",
    "    list_ = [] \n",
    "    for i in range(len(doc)):\n",
    "        # Process BILOU tag\n",
    "        if doc[i].ent_iob_ == 'O':\n",
    "            bilou_tag = 'O'\n",
    "        else:\n",
    "            if doc[i].ent_iob_ == 'B':\n",
    "                bilou_tag = 'U' if (i+1) < len(doc) and doc[i+1].ent_iob_ != 'I' else 'B'\n",
    "            elif doc[i].ent_iob_ == 'I':\n",
    "                bilou_tag = 'I' if (i+1) < len(doc) and doc[i+1].ent_iob_ == 'I' else 'L'\n",
    "            else:\n",
    "                assert \"This is unexpected\"\n",
    "        bilou_tag = 'O' if doc[i].ent_type_ == '' else bilou_tag + '-' + doc[i].ent_type_\n",
    "        \n",
    "        list_.append( (bilou_tag, doc[i].text) )    \n",
    "    #print('--->> ',list_)\n",
    "    return list_\n",
    "\n",
    "def perf_measure(y_actual, y_hat, label):\n",
    "    TP = 0\n",
    "    FP = 0\n",
    "    TN = 0\n",
    "    FN = 0\n",
    "    for i in range(len(y_hat)):\n",
    "        if y_actual[i]==y_hat[i]==label:\n",
    "            TP += 1\n",
    "        if y_hat[i]==label and y_actual[i]!=label:\n",
    "            FP += 1\n",
    "        if y_actual[i]!=label and y_hat[i]!=label:\n",
    "            TN += 1\n",
    "        if y_hat[i]!=label and y_actual[i]==label:\n",
    "            FN += 1\n",
    "    return(TP, FP, TN, FN)\n",
    "\n",
    "\n",
    "def compute_scores(spacy_examples, model, label_map):\n",
    "    perf_stats_per_tag = { }\n",
    "    for text,annotation in spacy_examples:\n",
    "        doc = model.make_doc(text)\n",
    "        gold = GoldParse(doc, entities=annotation['entities'])\n",
    "        gold_tag_list = [i for i in zip(gold.ner,gold.words)]\n",
    "        #print('\\nGold       : ', gold_tag_list)\n",
    "        \n",
    "        ner_tag_predict_doc = model(text)\n",
    "        ner_tag_predict_list = convert_doc_to_bilou_tags(ner_tag_predict_doc)\n",
    "        ner_tag_predict_list = list( map(lambda e: (map_pred_tag_to_domain(e[0],PRED_LABELS_EQUIV_MAP), e[1]), \n",
    "                                         ner_tag_predict_list) \n",
    "                                   )\n",
    "        #print(  'Predicted  : ', ner_tag_predict_list)\n",
    "        \n",
    "        #for i in range(len(ner_tag_predict_list)):\n",
    "        #    if ner_tag_predict_list[i][0] != gold_tag_list[i][0]:\n",
    "        #        print('\\t',ner_tag_predict_list[i], gold_tag_list[i])\n",
    "        #        continue\n",
    "        #    if ner_tag_predict_list[i][1] != gold_tag_list[i][1]:\n",
    "        #        print('\\t',ner_tag_predict_list[i], gold_tag_list[i])\n",
    "        #        continue\n",
    "        \n",
    "        # Compute unique labels and populate y_true and y_pred\n",
    "        unique_labels = set()\n",
    "        y_true, y_pred = [],[]\n",
    "        for t in gold_tag_list:\n",
    "            if t[0] != 'O':\n",
    "                unique_labels.add( t[0] )\n",
    "            y_true.append( t[0] )\n",
    "        for t in ner_tag_predict_list:\n",
    "            if t[0] != 'O':\n",
    "                unique_labels.add( t[0] )\n",
    "            y_pred.append( t[0] )\n",
    "            \n",
    "        #print('\\tUnique Labels :', unique_labels)\n",
    "        #print('\\ty_true        :', y_true)\n",
    "        #print('\\ty_pred        :', y_pred)\n",
    "        for label in unique_labels:\n",
    "            (TP, FP, TN, FN) = perf_measure(y_true, y_pred, label)\n",
    "            CNT = len(y_true)\n",
    "            #print(label,' ',f'(TP:{TP}, FP:{FP}, TN:{TN}, FN:{FN}, CNT:{CNT})')\n",
    "            \n",
    "            label_part = label.split('-')[1]\n",
    "            if label_part not in perf_stats_per_tag:\n",
    "                perf_stats_per_tag[label_part] = {'TP':0, 'FP':0, 'TN':0, 'FN':0, 'CNT':0}\n",
    "                \n",
    "            perf_stats_per_tag[label_part]['TP'] += TP\n",
    "            perf_stats_per_tag[label_part]['FP'] += FP\n",
    "            perf_stats_per_tag[label_part]['TN'] += TN\n",
    "            perf_stats_per_tag[label_part]['FN'] += FN\n",
    "            perf_stats_per_tag[label_part]['CNT'] += CNT\n",
    "    return perf_stats_per_tag\n",
    "\n",
    "def display_perf_stats_per_tag( stats_per_tag ):\n",
    "    # Now compute the scores\n",
    "    pprint(stats_per_tag)\n",
    "    for tag,st in stats_per_tag.items():\n",
    "        print(f'For label: \"{tag}\"')\n",
    "        accuracy = (st['TP'] + st['TN']) / st['CNT']\n",
    "        print(\"\\tAccuracy : \"  + str(accuracy * 100) + \"%\")\n",
    "        \n",
    "        precision = 0\n",
    "        if (st['TP'] + st['FP']) != 0:\n",
    "            precision = st['TP'] / (st['TP'] + st['FP'])\n",
    "        print(\"\\tPrecision : \" + str(precision))\n",
    "        \n",
    "        recall = 0\n",
    "        if (st['TP'] + st['FN']) != 0:\n",
    "            recall = st['TP'] / (st['TP'] + st['FN'])\n",
    "        print(\"\\tRecall : \"    + str(recall))\n",
    "        \n",
    "        fscore = 0\n",
    "        if (precision + recall) != 0:\n",
    "            fscore = (2 * precision * recall) / (precision + recall)\n",
    "        print(\"\\tF-score : \"   + str(fscore))\n",
    "        \n",
    "\n",
    "def conv_dataset_to_match_domain(spacy_examples, dataset_to_model_tag_map):\n",
    "    spacy_examples = copy.deepcopy(spacy_examples)\n",
    "    for text,annotations in spacy_examples:\n",
    "        entities = annotations['entities']\n",
    "        for i,ent in enumerate(entities):\n",
    "            if ent[2][0] == 'O':\n",
    "                continue\n",
    "            entities[i] = (ent[0],ent[1],dataset_to_model_tag_map[ent[2]])                                        \n",
    "    return spacy_examples\n",
    "\n",
    "# The 'model' parameter could either be a pretrained model. Default behavior is to \n",
    "# training from scratch. \n",
    "def train_spacy_model(train_examples, model=None):\n",
    "    nlp = model  # create blank Language class\n",
    "    if nlp == None:\n",
    "        nlp = spacy.blank('en')\n",
    "    \n",
    "    # create the built-in pipeline components and add them to the pipeline\n",
    "    # nlp.create_pipe works for built-ins that are registered with spaCy\n",
    "    if model == None:\n",
    "        if 'ner' not in nlp.pipe_names:\n",
    "            ner = nlp.create_pipe('ner')\n",
    "            nlp.add_pipe(ner, last=True)\n",
    "        # add labels\n",
    "        for _, annotations in train_examples:\n",
    "             for ent in annotations.get('entities'):\n",
    "                ner.add_label(ent[2])\n",
    "\n",
    "    # get names of other pipes to disable them during training\n",
    "    other_pipes = [pipe for pipe in nlp.pipe_names if pipe != 'ner']\n",
    "    with nlp.disable_pipes(*other_pipes):  # only train NER\n",
    "        optimizer = nlp.begin_training()\n",
    "        for itn in range(10):\n",
    "            print(\"Starting iteration \" + str(itn))\n",
    "            random.shuffle(train_examples)\n",
    "            losses = {}\n",
    "            for text, annotations in train_examples:\n",
    "                try:\n",
    "                    nlp.update(\n",
    "                        [text],         # batch of texts\n",
    "                        [annotations],  # batch of annotations\n",
    "                        drop=0.2,       # dropout - make it harder to memorise data\n",
    "                        sgd=optimizer,  # callable to update weights\n",
    "                        losses=losses)\n",
    "                except:\n",
    "                    continue\n",
    "                    #print('Hello ' + str(sys.exc_info()))\n",
    "            print(losses)\n",
    "    return nlp\n",
    "\n",
    "# Serialize model\n",
    "def save_model_to_file(model, file_name):\n",
    "    model_bytes = model.to_bytes()\n",
    "    with open(file_name, 'wb') as f:\n",
    "        f.write(model_bytes)\n",
    "        f.flush()\n",
    "\n",
    "# Deserialize\n",
    "def load_model_from_file(file_name, nlp_load_into=None):\n",
    "    with open(file_name, 'rb') as f:\n",
    "        read_bytes = f.read()\n",
    "    print(f'#Bytes-read: {len(read_bytes)}')\n",
    "    #if nlp_load_into == None:\n",
    "    #    nlp_load_into = spacy.load('en_core_web_md')\n",
    "    #    #nlp_load_into.remove_pipe('ner')\n",
    "    #    #for pipe_name in ['tagger', 'parser', 'ner']:\n",
    "    #    #    if pipe_name not in nlp_load_into.pipe_names:\n",
    "    #    #        pipe = nlp_load_into.create_pipe(pipe_name)\n",
    "    #    #        nlp_load_into.add_pipe(pipe)\n",
    "    nlp_load_into.from_bytes(read_bytes)\n",
    "    return nlp_load_into\n"
   ]
  },
  {
   "cell_type": "markdown",
   "metadata": {
    "colab_type": "text",
    "id": "uO894N8U4O54"
   },
   "source": [
    "# **Working with datasets**"
   ]
  },
  {
   "cell_type": "markdown",
   "metadata": {
    "colab_type": "text",
    "id": "UWovb_Bg7RJ-"
   },
   "source": [
    "**Loading datasets**"
   ]
  },
  {
   "cell_type": "code",
   "execution_count": 7,
   "metadata": {
    "colab": {
     "base_uri": "https://localhost:8080/",
     "height": 34
    },
    "colab_type": "code",
    "id": "Fdn8DzDl7RJ_",
    "outputId": "0fe58bae-a678-4758-cc5b-f016ddc01e82"
   },
   "outputs": [
    {
     "name": "stdout",
     "output_type": "stream",
     "text": [
      "26772142\n"
     ]
    }
   ],
   "source": [
    "with open('./train.json', 'r') as f:\n",
    "    read_bytes = f.read()\n",
    "print(len(read_bytes))\n",
    "train_obj = json.loads(read_bytes)"
   ]
  },
  {
   "cell_type": "code",
   "execution_count": 8,
   "metadata": {
    "colab": {
     "base_uri": "https://localhost:8080/",
     "height": 34
    },
    "colab_type": "code",
    "id": "SlEMXIUH7RKQ",
    "outputId": "6cde63bf-95ac-4588-a03a-0389326cec43"
   },
   "outputs": [
    {
     "name": "stdout",
     "output_type": "stream",
     "text": [
      "6145341\n"
     ]
    }
   ],
   "source": [
    "with open('./test.json', 'r') as f:\n",
    "    read_bytes = f.read()\n",
    "print(len(read_bytes))\n",
    "test_obj = json.loads(read_bytes)"
   ]
  },
  {
   "cell_type": "markdown",
   "metadata": {
    "colab_type": "text",
    "id": "vvd_h-dH7RKG"
   },
   "source": [
    "**Convert dataset json docs into a format that spaCy understands**"
   ]
  },
  {
   "cell_type": "code",
   "execution_count": 15,
   "metadata": {
    "colab": {},
    "colab_type": "code",
    "id": "B6aqi1MO7RKH"
   },
   "outputs": [],
   "source": [
    "training_examples = convert_conll_ner_to_spacy(train_obj)\n",
    "test_examples = convert_conll_ner_to_spacy(test_obj)"
   ]
  },
  {
   "cell_type": "code",
   "execution_count": 7,
   "metadata": {
    "colab": {},
    "colab_type": "code",
    "id": "_0Nx4UCGS54F"
   },
   "outputs": [
    {
     "name": "stdout",
     "output_type": "stream",
     "text": [
      "('-DOCSTART-', {'entities': []})\n",
      "('EU rejects German call to boycott British lamb .', {'entities': [(0, 2, 'ORG'), (11, 17, 'MISC'), (34, 41, 'MISC')]})\n",
      "('Peter Blackburn', {'entities': [(0, 15, 'PER')]})\n",
      "('BRUSSELS 1996-08-22', {'entities': [(0, 8, 'LOC')]})\n",
      "('The European Commission said on Thursday it disagreed with German advice to consumers to shun British lamb until scientists determine whether mad cow disease can be transmitted to sheep .', {'entities': [(4, 23, 'ORG'), (59, 65, 'MISC'), (94, 101, 'MISC')]})\n",
      "(\"Germany 's representative to the European Union 's veterinary committee Werner Zwingmann said on Wednesday consumers should buy sheepmeat from countries other than Britain until the scientific advice was clearer .\", {'entities': [(0, 7, 'LOC'), (33, 47, 'ORG'), (72, 88, 'PER'), (164, 171, 'LOC')]})\n",
      "('\" We do n\\'t support any such recommendation because we do n\\'t see any grounds for it , \" the Commission \\'s chief spokesman Nikolaus van der Pas told a news briefing .', {'entities': [(93, 103, 'ORG'), (123, 143, 'PER')]})\n",
      "('He said further scientific study was required and if it was found that action was needed it should be taken by the European Union .', {'entities': [(115, 129, 'ORG')]})\n",
      "('He said a proposal last month by EU Farm Commissioner Franz Fischler to ban sheep brains , spleens and spinal cords from the human and animal food chains was a highly specific and precautionary move to protect human health .', {'entities': [(33, 35, 'ORG'), (54, 68, 'PER')]})\n",
      "('Fischler proposed EU-wide measures after reports from Britain and France that under laboratory conditions sheep could contract Bovine Spongiform Encephalopathy ( BSE ) -- mad cow disease .', {'entities': [(0, 8, 'PER'), (18, 25, 'MISC'), (54, 61, 'LOC'), (66, 72, 'LOC'), (127, 159, 'MISC'), (162, 165, 'MISC')]})\n",
      "(\"But Fischler agreed to review his proposal after the EU 's standing veterinary committee , mational animal health officials , questioned if such action was justified as there was only a slight risk to human health .\", {'entities': [(4, 12, 'PER'), (53, 55, 'ORG')]})\n",
      "('Spanish Farm Minister Loyola de Palacio had earlier accused Fischler at an EU farm ministers \\' meeting of causing unjustified alarm through \" dangerous generalisation . \"', {'entities': [(0, 7, 'MISC'), (22, 39, 'PER'), (60, 68, 'PER'), (75, 77, 'ORG')]})\n",
      "('.', {'entities': []})\n",
      "(\"Only France and Britain backed Fischler 's proposal .\", {'entities': [(5, 11, 'LOC'), (16, 23, 'LOC'), (31, 39, 'PER')]})\n",
      "(\"The EU 's scientific veterinary and multidisciplinary committees are due to re-examine the issue early next month and make recommendations to the senior veterinary officials .\", {'entities': [(4, 6, 'ORG')]})\n",
      "('Sheep have long been known to contract scrapie , a brain-wasting disease similar to BSE which is believed to have been transferred to cattle through feed containing animal waste .', {'entities': [(84, 87, 'MISC')]})\n",
      "('British farmers denied on Thursday there was any danger to human health from their sheep , but expressed concern that German government advice to consumers to avoid British lamb might influence consumers across Europe .', {'entities': [(0, 7, 'MISC'), (118, 124, 'MISC'), (165, 172, 'MISC'), (211, 217, 'LOC')]})\n",
      "('\" What we have to be extremely careful of is how other countries are going to take Germany \\'s lead , \" Welsh National Farmers \\' Union ( NFU ) chairman John Lloyd Jones said on BBC radio .', {'entities': [(83, 90, 'LOC'), (103, 133, 'ORG'), (136, 139, 'ORG'), (151, 167, 'PER'), (176, 185, 'ORG')]})\n",
      "('Bonn has led efforts to protect public health after consumer confidence collapsed in March after a British report suggested humans could contract an illness similar to mad cow disease by eating contaminated beef .', {'entities': [(0, 4, 'LOC'), (99, 106, 'MISC')]})\n",
      "('Germany imported 47,600 sheep from Britain last year , nearly half of total imports .', {'entities': [(0, 7, 'LOC'), (35, 42, 'LOC')]})\n",
      "('It brought in 4,275 tonnes of British mutton , some 10 percent of overall imports .', {'entities': [(30, 37, 'MISC')]})\n",
      "('-DOCSTART-', {'entities': []})\n",
      "('Rare Hendrix song draft sells for almost $ 17,000 .', {'entities': [(5, 12, 'PER')]})\n",
      "('LONDON 1996-08-22', {'entities': [(0, 6, 'LOC')]})\n",
      "(\"A rare early handwritten draft of a song by U.S. guitar legend Jimi Hendrix was sold for almost $ 17,000 on Thursday at an auction of some of the late musician 's favourite possessions .\", {'entities': [(44, 48, 'LOC'), (63, 75, 'PER')]})\n",
      "('A Florida restaurant paid 10,925 pounds ( $ 16,935 ) for the draft of \" Ai n\\'t no telling \" , which Hendrix penned on a piece of London hotel stationery in late 1966 .', {'entities': [(2, 9, 'LOC'), (72, 89, 'MISC'), (100, 107, 'PER'), (129, 135, 'LOC')]})\n",
      "('At the end of a January 1967 concert in the English city of Nottingham he threw the sheet of paper into the audience , where it was retrieved by a fan .', {'entities': [(44, 51, 'MISC'), (60, 70, 'LOC')]})\n",
      "(\"Buyers also snapped up 16 other items that were put up for auction by Hendrix 's former girlfriend Kathy Etchingham , who lived with him from 1966 to 1969 .\", {'entities': [(70, 77, 'PER'), (99, 115, 'PER')]})\n",
      "('They included a black lacquer and mother of pearl inlaid box used by Hendrix to store his drugs , which an anonymous Australian purchaser bought for 5,060 pounds ( $ 7,845 ) .', {'entities': [(69, 76, 'PER'), (117, 127, 'MISC')]})\n",
      "('The guitarist died of a drugs overdose in 1970 aged 27 .', {'entities': []})\n",
      "('-DOCSTART-', {'entities': []})\n",
      "('China says Taiwan spoils atmosphere for talks .', {'entities': [(0, 5, 'LOC'), (11, 17, 'LOC')]})\n",
      "('BEIJING 1996-08-22', {'entities': [(0, 7, 'LOC')]})\n",
      "('China on Thursday accused Taipei of spoiling the atmosphere for a resumption of talks across the Taiwan Strait with a visit to Ukraine by Taiwanese Vice President Lien Chan this week that infuriated Beijing .', {'entities': [(0, 5, 'LOC'), (26, 32, 'LOC'), (97, 110, 'LOC'), (127, 134, 'LOC'), (138, 147, 'MISC'), (163, 172, 'PER'), (199, 206, 'LOC')]})\n",
      "('Speaking only hours after Chinese state media said the time was right to engage in political talks with Taiwan , Foreign Ministry spokesman Shen Guofang told Reuters : \" The necessary atmosphere for the opening of the talks has been disrupted by the Taiwan authorities . \"', {'entities': [(26, 33, 'MISC'), (104, 110, 'LOC'), (113, 129, 'ORG'), (140, 152, 'PER'), (158, 165, 'ORG'), (250, 256, 'LOC')]})\n",
      "(\"State media quoted China 's top negotiator with Taipei , Tang Shubei , as telling a visiting group from Taiwan on Wednesday that it was time for the rivals to hold political talks .\", {'entities': [(19, 24, 'LOC'), (48, 54, 'LOC'), (57, 68, 'PER'), (104, 110, 'LOC')]})\n",
      "('\" Now is the time for the two sides to engage in political talks ...', {'entities': []})\n",
      "('that is to end the state of hostility , \" Thursday \\'s overseas edition of the People \\'s Daily quoted Tang as saying .', {'entities': [(78, 93, 'ORG'), (101, 105, 'PER')]})\n",
      "(\"The foreign ministry 's Shen told Reuters Television in an interview he had read reports of Tang 's comments but gave no details of why the negotiator had considered the time right for talks with Taiwan , which Beijing considers a renegade province .\", {'entities': [(24, 28, 'ORG'), (34, 52, 'ORG'), (92, 96, 'PER'), (196, 202, 'LOC'), (211, 218, 'LOC')]})\n",
      "('China , which has long opposed all Taipei efforts to gain greater international recognition , was infuriated by a visit to Ukraine this week by Taiwanese Vice President Lien .', {'entities': [(0, 5, 'LOC'), (35, 41, 'LOC'), (123, 130, 'LOC'), (144, 153, 'MISC'), (169, 173, 'PER')]})\n",
      "('-DOCSTART-', {'entities': []})\n",
      "('China says time right for Taiwan talks .', {'entities': [(0, 5, 'LOC'), (26, 32, 'LOC')]})\n",
      "('BEIJING 1996-08-22', {'entities': [(0, 7, 'LOC')]})\n",
      "('China has said it was time for political talks with Taiwan and that the rival island should take practical steps towards that goal .', {'entities': [(0, 5, 'LOC'), (52, 58, 'LOC')]})\n",
      "('Consultations should be held to set the time and format of the talks , the official Xinhua news agency quoted Tang Shubei , executive vice chairman of the Association for Relations Across the Taiwan Straits , as saying late on Wednesday .', {'entities': [(84, 90, 'ORG'), (110, 121, 'PER'), (155, 206, 'ORG')]})\n",
      "('-DOCSTART-', {'entities': []})\n",
      "('German July car registrations up 14.2 pct yr / yr .', {'entities': [(0, 6, 'MISC')]})\n",
      "('FRANKFURT 1996-08-22', {'entities': [(0, 9, 'LOC')]})\n",
      "('German first-time registrations of motor vehicles jumped 14.2 percent in July this year from the year-earlier period , the Federal office for motor vehicles said on Thursday .', {'entities': [(0, 6, 'MISC'), (123, 156, 'ORG')]})\n",
      "('The office said 356,725 new cars were registered in July 1996 -- 304,850 passenger cars and 15,613 trucks .', {'entities': []})\n",
      "('The figures represent a 13.6 percent increase for passenger cars and a 2.2 percent decline for trucks from July 1995 .', {'entities': []})\n",
      "('Motor-bike registration rose 32.7 percent in the period .', {'entities': []})\n",
      "('The growth was partly due to an increased number of Germans buying German cars abroad , while manufacturers said that domestic demand was weak , the federal office said .', {'entities': [(52, 59, 'MISC'), (67, 73, 'MISC')]})\n",
      "('Almost all German car manufacturers posted gains in registration numbers in the period .', {'entities': [(11, 17, 'MISC')]})\n",
      "('Volkswagen AG won 77,719 registrations , slightly more than a quarter of the total .', {'entities': [(0, 13, 'ORG')]})\n",
      "('Opel AG together with General Motors came in second place with 49,269 registrations , 16.4 percent of the overall figure .', {'entities': [(0, 7, 'ORG'), (22, 36, 'ORG')]})\n",
      "('Third was Ford with 35,563 registrations , or 11.7 percent .', {'entities': [(10, 14, 'ORG')]})\n",
      "(\"Only Seat and Porsche had fewer registrations in July 1996 compared to last year 's July .\", {'entities': [(5, 9, 'ORG'), (14, 21, 'ORG')]})\n",
      "('Seat posted 3,420 registrations compared with 5522 registrations in July a year earlier .', {'entities': [(0, 4, 'ORG')]})\n",
      "(\"Porsche 's registrations fell to 554 from 643 .\", {'entities': [(0, 7, 'ORG')]})\n",
      "('-DOCSTART-', {'entities': []})\n",
      "('GREEK SOCIALISTS GIVE GREEN LIGHT TO PM FOR ELECTIONS .', {'entities': [(0, 5, 'MISC')]})\n",
      "('ATHENS 1996-08-22', {'entities': [(0, 6, 'LOC')]})\n",
      "(\"The Greek socialist party 's executive bureau gave the green light to Prime Minister Costas Simitis to call snap elections , its general secretary Costas Skandalidis told reporters .\", {'entities': [(4, 9, 'MISC'), (85, 99, 'PER'), (147, 165, 'PER')]})\n",
      "('Prime Minister Costas Simitis is going to make an official announcement after a cabinet meeting later on Thursday , said Skandalidis .', {'entities': [(15, 29, 'PER'), (121, 132, 'PER')]})\n",
      "('-- Dimitris Kontogiannis , Athens Newsroom +301 3311812-4', {'entities': [(3, 24, 'PER'), (27, 42, 'ORG')]})\n",
      "('-DOCSTART-', {'entities': []})\n",
      "('BayerVB sets C$ 100 million six-year bond .', {'entities': [(0, 7, 'ORG'), (13, 15, 'MISC')]})\n",
      "('LONDON 1996-08-22', {'entities': [(0, 6, 'LOC')]})\n",
      "('The following bond was announced by lead manager Toronto Dominion .', {'entities': [(49, 65, 'PER')]})\n",
      "('BORROWER BAYERISCHE VEREINSBANK', {'entities': [(9, 31, 'ORG')]})\n",
      "('AMT C$ 100 MLN COUPON 6.625 MATURITY 24.SEP.02', {'entities': [(4, 6, 'MISC')]})\n",
      "('TYPE STRAIGHT ISS PRICE 100.92 PAY DATE 24.SEP.96', {'entities': []})\n",
      "('FULL FEES 1.875 REOFFER 99.32 SPREAD +20 BP', {'entities': []})\n",
      "('MOODY AA1 LISTING LUX PAY FREQ =', {'entities': []})\n",
      "('S&P = DENOMS ( K ) 1-10-100 SALE LIMITS US / UK / CA', {'entities': [(0, 3, 'ORG'), (40, 42, 'LOC'), (45, 47, 'LOC'), (50, 52, 'LOC')]})\n",
      "('NEG PLG NO CRS DEFLT NO FORCE MAJ =', {'entities': []})\n",
      "('GOV LAW GERMAN HOME CTRY = TAX PROVS STANDARD', {'entities': [(8, 14, 'MISC')]})\n",
      "('MGT / UND 0.275 SELL CONC 1.60 PRAECIP =', {'entities': []})\n",
      "('UNDERLYING GOVT BOND 7.0 PCT SEPT 2001', {'entities': []})\n",
      "('NOTES BAYERISCHE VEREINSBANK IS JOINT LEAD MANAGER', {'entities': [(6, 28, 'ORG')]})\n",
      "('-- London Newsroom +44 171 542 7658', {'entities': [(3, 18, 'ORG')]})\n",
      "('-DOCSTART-', {'entities': []})\n",
      "('Venantius sets $ 300 million January 1999 FRN .', {'entities': [(0, 9, 'ORG')]})\n",
      "('LONDON 1996-08-22', {'entities': [(0, 6, 'LOC')]})\n",
      "('The following floating-rate issue was announced by lead manager Lehman Brothers International .', {'entities': [(64, 93, 'ORG')]})\n",
      "('BORROWER VENANTIUS AB ( SWEDISH NATIONAL MORTGAGE AGENCY )', {'entities': [(9, 21, 'ORG'), (24, 31, 'MISC')]})\n",
      "('AMT $ 300 MLN SPREAD - 12.5 BP MATURITY 21.JAN.99', {'entities': []})\n",
      "('TYPE FRN BASE 3M LIBOR PAY DATE S23.SEP.96', {'entities': [(14, 16, 'ORG')]})\n",
      "('LAST MOODY AA3 ISS PRICE 99.956 FULL FEES 10 BP', {'entities': []})\n",
      "('LAST S&P AA+ REOFFER =', {'entities': [(5, 8, 'ORG')]})\n",
      "('NOTES S SHORT FIRST COUPON', {'entities': []})\n",
      "('LISTING LONDON DENOMS ( K ) 1-10-100 SALE LIMITS US / UK / JP / FR', {'entities': [(8, 14, 'LOC'), (49, 51, 'LOC'), (54, 56, 'LOC'), (59, 61, 'LOC'), (64, 66, 'LOC')]})\n",
      "('NEG PLG YES CRS DEFLT NO FORCE MAJ IPMA 2', {'entities': []})\n",
      "('GOV LAW ENGLISH HOME CTRY SWEDEN TAX PROVS STANDARD', {'entities': [(8, 15, 'MISC'), (26, 32, 'LOC')]})\n",
      "('MGT / UND 5 BP SELL CONC 5 BP PRAECIP =', {'entities': []})\n",
      "('NOTES ISSUED OFF EMTN PROGRAMME', {'entities': []})\n",
      "('-- London Newsroom +44 171 542 8863', {'entities': [(3, 18, 'ORG')]})\n",
      "('-DOCSTART-', {'entities': []})\n",
      "('Port conditions update - Syria - Lloyds Shipping .', {'entities': [(25, 30, 'LOC'), (33, 48, 'ORG')]})\n",
      "('Port conditions from Lloyds Shipping Intelligence Service --', {'entities': [(21, 57, 'ORG')]})\n",
      "('LATTAKIA , Aug 10 - waiting time at Lattakia and Tartous presently 24 hours .', {'entities': [(0, 8, 'LOC'), (36, 44, 'LOC'), (49, 56, 'LOC')]})\n",
      "('-DOCSTART-', {'entities': []})\n",
      "('Israel plays down fears of war with Syria .', {'entities': [(0, 6, 'LOC'), (36, 41, 'LOC')]})\n",
      "('Colleen Siegel', {'entities': [(0, 14, 'PER')]})\n",
      "('JERUSALEM 1996-08-22', {'entities': [(0, 9, 'LOC')]})\n",
      "(\"Israel 's outgoing peace negotiator with Syria said on Thursday current tensions between the two countries appeared to be a storm in a teacup .\", {'entities': [(0, 6, 'LOC'), (41, 46, 'LOC')]})\n",
      "(\"Itamar Rabinovich , who as Israel 's ambassador to Washington conducted unfruitful negotiations with Syria , told Israel Radio it looked like Damascus wanted to talk rather than fight .\", {'entities': [(0, 17, 'PER'), (27, 33, 'LOC'), (51, 61, 'LOC'), (101, 106, 'LOC'), (114, 126, 'ORG'), (142, 150, 'LOC')]})\n",
      "('\" It appears to me the Syrian priority is still to negotiate .', {'entities': [(23, 29, 'MISC')]})\n",
      "('The Syrians are confused , they are definitely tense , but the general assessment here in Washington is that this is essentially a storm in a teacup , \" he said .', {'entities': [(4, 11, 'MISC'), (90, 100, 'LOC')]})\n",
      "('Rabinovich is winding up his term as ambassador .', {'entities': [(0, 10, 'PER')]})\n",
      "('He will be replaced by Eliahu Ben-Elissar , a former Israeli envoy to Egypt and right-wing Likud party politician .', {'entities': [(23, 41, 'PER'), (53, 60, 'MISC'), (70, 75, 'LOC'), (91, 96, 'ORG')]})\n",
      "('Israel on Wednesday sent Syria a message , via Washington , saying it was committed to peace and wanted to open negotiations without preconditions .', {'entities': [(0, 6, 'LOC'), (25, 30, 'LOC'), (47, 57, 'LOC')]})\n",
      "('But it slammed Damascus for creating what it called a dangerous atmosphere .', {'entities': [(15, 23, 'LOC')]})\n",
      "('Syria accused Israel on Wednesday of launching a hysterical campaign against it after Israeli television reported that Damascus had recently test fired a missile .', {'entities': [(0, 5, 'LOC'), (14, 20, 'LOC'), (86, 93, 'MISC'), (119, 127, 'LOC')]})\n",
      "('It said its arms purchases were for defensive purposes .', {'entities': []})\n",
      "('\" The message that we sent to ( Syrian President Hafez al- ) Assad is that Israel is ready at any time without preconditions to enter peace negotiations , \" Israeli Foreign Minister David Levy told Israel Radio in an interview .', {'entities': [(32, 38, 'MISC'), (49, 58, 'PER'), (61, 66, 'PER'), (75, 81, 'LOC'), (157, 164, 'MISC'), (182, 192, 'PER'), (198, 210, 'ORG')]})\n"
     ]
    },
    {
     "name": "stdout",
     "output_type": "stream",
     "text": [
      "('Tension has mounted since Israeli Prime Minister Benjamin Netanyahu took office in June vowing to retain the Golan Heights Israel captured from Syria in the 1967 Middle East war .', {'entities': [(26, 33, 'MISC'), (49, 67, 'PER'), (109, 122, 'LOC'), (123, 129, 'LOC'), (144, 149, 'LOC'), (162, 173, 'LOC')]})\n",
      "(\"Israeli-Syrian peace talks have been deadlocked over the Golan since 1991 despite the previous government 's willingness to make Golan concessions .\", {'entities': [(0, 14, 'MISC'), (57, 62, 'LOC'), (129, 134, 'LOC')]})\n",
      "('Peace talks between the two sides were last held in February .', {'entities': []})\n",
      "('\" The voices coming out of Damascus are bad , not good .', {'entities': [(27, 35, 'LOC')]})\n",
      "('The media ...', {'entities': []})\n",
      "('are full of expressions and declarations that must be worrying ...', {'entities': []})\n",
      "('this artificial atmosphere is very dangerous because those who spread it could become its prisoners , \" Levy said .', {'entities': [(104, 108, 'PER')]})\n",
      "('\" We expect from Syria , if its face is to peace , that it will answer Israel \\'s message to enter peace negotiations because that is our goal , \" he said . \"', {'entities': [(17, 22, 'LOC'), (71, 77, 'LOC')]})\n",
      "('We do not want a war , God forbid .', {'entities': [(23, 26, 'PER')]})\n",
      "('No one benefits from wars . \"', {'entities': []})\n",
      "('Israel \\'s Channel Two television said Damascus had sent a \" calming signal \" to Israel .', {'entities': [(0, 6, 'LOC'), (10, 21, 'ORG'), (38, 46, 'LOC'), (80, 86, 'LOC')]})\n",
      "('It gave no source for the report .', {'entities': []})\n",
      "(\"Netanyahu and Levy 's spokesmen said they could not confirm it .\", {'entities': [(0, 9, 'PER'), (14, 18, 'PER')]})\n",
      "('The television also said that Netanyahu had sent messages to reassure Syria via Cairo , the United States and Moscow .', {'entities': [(30, 39, 'PER'), (70, 75, 'LOC'), (80, 85, 'LOC'), (92, 105, 'LOC'), (110, 116, 'LOC')]})\n",
      "('-DOCSTART-', {'entities': []})\n",
      "('Polish diplomat denies nurses stranded in Libya .', {'entities': [(0, 6, 'MISC'), (42, 47, 'LOC')]})\n",
      "('TUNIS 1996-08-22', {'entities': [(0, 5, 'LOC')]})\n",
      "('A Polish diplomat on Thursday denied a Polish tabloid report this week that Libya was refusing exit visas to 100 Polish nurses trying to return home after working in the North African country .', {'entities': [(2, 8, 'MISC'), (39, 45, 'MISC'), (76, 81, 'LOC'), (113, 119, 'MISC'), (170, 183, 'MISC')]})\n",
      "('\" This is not true .', {'entities': []})\n",
      "('Up to today , we have no knowledge of any nurse stranded or kept in Libya without her will , and we have not received any complaint , \" the Polish embassy \\'s charge d\\'affaires in Tripoli , Tadeusz Awdankiewicz , told Reuters by telephone .', {'entities': [(68, 73, 'LOC'), (140, 146, 'MISC'), (179, 186, 'LOC'), (189, 209, 'PER'), (217, 224, 'ORG')]})\n",
      "(\"Poland 's labour ministry said this week it would send a team to Libya to investigate , but Awdankiewicz said the probe was prompted by some nurses complaining about their work conditions such as non-payment of their salaries .\", {'entities': [(0, 6, 'LOC'), (65, 70, 'LOC'), (92, 104, 'PER')]})\n",
      "('He said that there are an estimated 800 Polish nurses working in Libya .', {'entities': [(40, 46, 'MISC'), (65, 70, 'LOC')]})\n",
      "('-DOCSTART-', {'entities': []})\n",
      "('Two Iranian opposition leaders meet in Baghdad .', {'entities': [(4, 11, 'MISC'), (39, 46, 'LOC')]})\n",
      "('Hassan Hafidh', {'entities': [(0, 13, 'PER')]})\n",
      "('BAGHDAD 1996-08-22', {'entities': [(0, 7, 'LOC')]})\n",
      "(\"An Iranian exile group based in Iraq vowed on Thursday to extend support to Iran 's Kurdish rebels after they were attacked by Iranian troops deep inside Iraq last month .\", {'entities': [(3, 10, 'MISC'), (32, 36, 'LOC'), (76, 80, 'LOC'), (84, 91, 'MISC'), (127, 134, 'MISC'), (154, 158, 'LOC')]})\n",
      "(\"A Mujahideen Khalq statement said its leader Massoud Rajavi met in Baghdad the Secretary-General of the Kurdistan Democratic Party of Iran ( KDPI ) Hassan Rastegar on Wednesday and voiced his support to Iran 's rebel Kurds .\", {'entities': [(2, 18, 'ORG'), (45, 59, 'PER'), (67, 74, 'LOC'), (104, 138, 'ORG'), (141, 145, 'ORG'), (148, 163, 'PER'), (203, 207, 'LOC'), (217, 222, 'MISC')]})\n",
      "('\" Rajavi emphasised that the Iranian Resistance would continue to stand side by side with their Kurdish compatriots and the resistance movement in Iranian Kurdistan , \" it said .', {'entities': [(2, 8, 'MISC'), (29, 36, 'MISC'), (37, 47, 'ORG'), (96, 103, 'MISC'), (147, 164, 'LOC')]})\n",
      "('A spokesman for the group said the meeting \" signals a new level of cooperation between Mujahideen Khalq and the Iranian Kurdish oppositions \" .', {'entities': [(88, 104, 'ORG'), (113, 128, 'MISC')]})\n",
      "('Iran heavily bombarded targets in northern Iraq in July in pursuit of KDPI guerrillas based in Iraqi Kurdish areas outside the control of the government in Baghdad .', {'entities': [(0, 4, 'LOC'), (43, 47, 'LOC'), (70, 74, 'ORG'), (95, 108, 'MISC'), (156, 163, 'LOC')]})\n",
      "('Iraqi Kurdish areas bordering Iran are under the control of guerrillas of the Iraqi Kurdish Patriotic Union of Kurdistan ( PUK ) group .', {'entities': [(0, 13, 'MISC'), (30, 34, 'LOC'), (78, 120, 'ORG'), (123, 126, 'ORG')]})\n",
      "(\"PUK and Iraq 's Kurdistan Democratic Party ( KDP ) the two main Iraqi Kurdish factions , have had northern Iraq under their control since Iraqi forces were ousted from Kuwait in the 1991 Gulf War .\", {'entities': [(0, 3, 'ORG'), (8, 12, 'LOC'), (16, 42, 'ORG'), (45, 48, 'ORG'), (64, 77, 'MISC'), (107, 111, 'LOC'), (138, 143, 'MISC'), (168, 174, 'LOC'), (187, 195, 'MISC')]})\n",
      "('Clashes between the two parties broke out at the weekend in the most serious fighting since a U.S.-sponsored ceasefire last year .', {'entities': [(94, 108, 'MISC')]})\n",
      "('Mujahideen Khalq said Iranian troops had also been shelling KDP positions in Qasri region in Suleimaniya province near the Iranian border over the last two days .', {'entities': [(0, 16, 'ORG'), (22, 29, 'MISC'), (60, 63, 'ORG'), (77, 82, 'LOC'), (93, 104, 'LOC'), (123, 130, 'MISC')]})\n",
      "('It said about 100 Iraqi Kurds were killed or wounded in the attack .', {'entities': [(18, 29, 'MISC')]})\n",
      "('Both Iran and Turkey mount air and land strikes at targets in northern Iraq in pursuit of their own Kurdish rebels .', {'entities': [(5, 9, 'LOC'), (14, 20, 'LOC'), (71, 75, 'LOC'), (100, 107, 'MISC')]})\n",
      "('A U.S.-led air force in southern Turkey protects Iraqi Kurds from possible attacks by Baghdad troops .', {'entities': [(2, 10, 'MISC'), (33, 39, 'LOC'), (49, 60, 'MISC'), (86, 93, 'LOC')]})\n",
      "('-DOCSTART-', {'entities': []})\n",
      "('Saudi riyal rates steady in quiet summer trade .', {'entities': [(0, 5, 'MISC')]})\n",
      "('MANAMA 1996-08-22', {'entities': [(0, 6, 'LOC')]})\n",
      "('The spot Saudi riyal against the dollar and riyal interbank deposit rates were mainly steady this week in quiet summer trade , dealers in the kingdom said .', {'entities': [(9, 14, 'MISC')]})\n",
      "('\" There were no changes in Saudi riyal rates .', {'entities': [(27, 32, 'MISC')]})\n",
      "('The market was very quiet because of summer holidays , \" one dealer said .', {'entities': []})\n",
      "('The spot riyal was put at 3.7504 / 06 to the dollar .', {'entities': []})\n",
      "('One-month interbank deposits were at 5-1/2 , 3/8 percent , three months were 5-5/8 , 1/2 percent and six months were 5-3/4 , 5/8 percent .', {'entities': [(0, 9, 'MISC')]})\n",
      "('One-year funds were at six , 5-7/8 percent .', {'entities': [(0, 8, 'MISC')]})\n",
      "('-DOCSTART-', {'entities': []})\n",
      "(\"Israel approves Arafat 's flight to West Bank .\", {'entities': [(0, 6, 'LOC'), (16, 22, 'PER'), (36, 45, 'LOC')]})\n",
      "('JERUSALEM 1996-08-22', {'entities': [(0, 9, 'LOC')]})\n",
      "('Israel gave Palestinian President Yasser Arafat permission on Thursday to fly over its territory to the West Bank , ending a brief Israeli-PLO crisis , an Arafat adviser said .', {'entities': [(0, 6, 'LOC'), (12, 23, 'MISC'), (34, 47, 'PER'), (104, 113, 'LOC'), (131, 142, 'MISC'), (155, 161, 'PER')]})\n",
      "('\" The problem is over .', {'entities': []})\n",
      "('The president \\'s aircraft has received permission to pass through Israeli airspace but the president is not expected to travel to the West Bank before Monday , \" Nabil Abu Rdainah told Reuters .', {'entities': [(66, 73, 'MISC'), (134, 143, 'LOC'), (162, 179, 'PER'), (185, 192, 'ORG')]})\n",
      "(\"Arafat had been scheduled to meet former Israeli prime minister Shimon Peres in the West Bank town of Ramallah on Thursday but the venue was changed to Gaza after Israel denied flight clearance to the Palestinian leader 's helicopters .\", {'entities': [(0, 6, 'PER'), (41, 48, 'MISC'), (64, 76, 'PER'), (84, 93, 'LOC'), (102, 110, 'LOC'), (152, 156, 'LOC'), (163, 169, 'LOC'), (201, 212, 'MISC')]})\n",
      "('Palestinian officials accused right-wing Prime Minister Benjamin Netanyahu of trying to stop the Ramallah meeting by keeping Arafat grounded .', {'entities': [(0, 11, 'MISC'), (56, 74, 'PER'), (97, 105, 'LOC'), (125, 131, 'PER')]})\n",
      "('Arafat subsequently cancelled a meeting between Israeli and PLO officials , on civilian affairs , at the Allenby Bridge crossing between Jordan and the West Bank .', {'entities': [(0, 6, 'PER'), (48, 55, 'MISC'), (60, 63, 'ORG'), (105, 119, 'LOC'), (137, 143, 'LOC'), (152, 161, 'LOC')]})\n",
      "('Abu Rdainah said Arafat had decided against flying to the West Bank on Thursday , after Israel lifted the ban , because he had a busy schedule in Gaza and would not be free until Monday .', {'entities': [(0, 11, 'PER'), (17, 23, 'PER'), (58, 67, 'LOC'), (88, 94, 'LOC'), (146, 150, 'LOC')]})\n",
      "('-DOCSTART-', {'entities': []})\n",
      "('Arafat to meet Peres in Gaza after flight ban .', {'entities': [(0, 6, 'PER'), (15, 20, 'PER'), (24, 28, 'LOC')]})\n",
      "('JERUSALEM 1996-08-22', {'entities': [(0, 9, 'LOC')]})\n",
      "('Yasser Arafat will meet Shimon Peres in Gaza on Thursday after Palestinians said the right-wing Israeli government had barred the Palestinian leader from flying to the West Bank for talks with the former prime minister .', {'entities': [(0, 13, 'PER'), (24, 36, 'PER'), (40, 44, 'LOC'), (63, 75, 'MISC'), (96, 103, 'MISC'), (130, 141, 'MISC'), (168, 177, 'LOC')]})\n",
      "('\" The meeting between Peres and Arafat will take place at Erez checkpoint in Gaza and not in Ramallah as planned , \" Peres \\' office said .', {'entities': [(22, 27, 'PER'), (32, 38, 'PER'), (58, 62, 'LOC'), (77, 81, 'LOC'), (93, 101, 'LOC'), (117, 122, 'PER')]})\n",
      "('Palestinian officials said the Israeli government had barred Arafat from overflying Israel in a Palestinian helicopter to the West Bank in an attempt to bar the meeting with Peres .', {'entities': [(0, 11, 'MISC'), (31, 38, 'MISC'), (61, 67, 'PER'), (84, 90, 'LOC'), (96, 107, 'MISC'), (126, 135, 'LOC'), (174, 179, 'PER')]})\n",
      "(\"Israeli Prime Minister Benjamin Netanyahu has accused opposition leader Peres , who he defeated in May elections , of trying to undermine his Likud government 's authority to conduct peace talks .\", {'entities': [(0, 7, 'MISC'), (23, 41, 'PER'), (72, 77, 'PER'), (142, 147, 'ORG')]})\n",
      "('-DOCSTART-', {'entities': []})\n",
      "('Afghan UAE embassy says Taleban guards going home .', {'entities': [(0, 6, 'MISC'), (7, 10, 'LOC'), (24, 31, 'MISC')]})\n",
      "('Hilary Gush', {'entities': [(0, 11, 'PER')]})\n",
      "('DUBAI 1996-08-22', {'entities': [(0, 5, 'LOC')]})\n",
      "('Three Afghan guards brought to the United Arab Emirates last week by Russian hostages who escaped from the Taleban militia will return to Afghanistan in a few days , the Afghan embassy in Abu Dhabi said on Thursday .', {'entities': [(6, 12, 'MISC'), (35, 55, 'LOC'), (69, 76, 'MISC'), (107, 114, 'MISC'), (138, 149, 'LOC'), (170, 176, 'MISC'), (188, 197, 'LOC')]})\n",
      "('\" Our ambassador is in touch with the UAE foreign ministry .', {'entities': [(38, 41, 'LOC')]})\n",
      "('Their return to Afghanistan will take place in two or three days , \" an embassy official said .', {'entities': [(16, 27, 'LOC')]})\n",
      "('\" The embassy is issuing them travel documents for their return to their homeland .', {'entities': []})\n",
      "('There is no objection to their travel , \" he added .', {'entities': []})\n",
      "('The three Islamic Taleban guards were overpowered by seven Russian aircrew who escaped to UAE state Sharjah last Friday on board their own aircraft after a year in the captivity of Taleban militia in Kandahar in southern Afghanistan .', {'entities': [(10, 25, 'MISC'), (59, 66, 'MISC'), (90, 93, 'LOC'), (100, 107, 'LOC'), (181, 188, 'MISC'), (200, 208, 'LOC'), (221, 232, 'LOC')]})\n",
      "('The UAE said on Monday it would hand over the three to the International Red Crescent , possibly last Tuesday .', {'entities': [(4, 7, 'LOC'), (59, 85, 'ORG')]})\n",
      "('It has since been silent on the issue .', {'entities': []})\n",
      "('When asked whether the three guards would travel back to Kandahar or the Afghan capital Kabul , the embassy official said : \" That has not been decided , but possibly Kandahar . \"', {'entities': [(57, 65, 'LOC'), (73, 79, 'MISC'), (88, 93, 'LOC'), (167, 175, 'LOC')]})\n",
      "('Kandahar is the headquarters of the opposition Taleban militia .', {'entities': [(0, 8, 'LOC'), (47, 54, 'MISC')]})\n",
      "(\"Kabul is controlled by President Burhanuddin Rabbani 's government , which Taleban is fighting to overthrow .\", {'entities': [(0, 5, 'LOC'), (33, 52, 'PER'), (75, 82, 'MISC')]})\n",
      "('The embassy official said the three men , believed to be in their 20s , were currently in Abu Dhabi .', {'entities': [(90, 99, 'LOC')]})\n",
      "('He did not elaborate .', {'entities': []})\n",
      "('The Russians , working for the Aerostan firm in the Russian republic of Tatarstan , were taken hostage after a Taleban MiG-19 fighter forced their cargo plane to land in August 1995 .', {'entities': [(4, 12, 'MISC'), (31, 39, 'ORG'), (52, 59, 'MISC'), (72, 81, 'LOC'), (111, 118, 'MISC'), (119, 125, 'MISC')]})\n",
      "(\"Taleban said its shipment of ammunition from Albania was evidence of Russian military support for Rabbani 's government .\", {'entities': [(0, 7, 'MISC'), (45, 52, 'LOC'), (69, 76, 'MISC'), (98, 105, 'PER')]})\n",
      "(\"Moscow said the crew 's nationality was coincidental .\", {'entities': [(0, 6, 'LOC')]})\n",
      "('Numerous diplomatic attempts to free the seven failed .', {'entities': []})\n",
      "('The Russians , who said they overpowered the guards -- two armed with Kalashnikov automatic rifles -- while doing regular maintenance work on their Ilyushin 76 cargo plane last Friday , left the UAE capital Abu Dhabi for home on Sunday .', {'entities': [(4, 12, 'MISC'), (70, 81, 'MISC'), (148, 159, 'MISC'), (195, 198, 'LOC'), (207, 216, 'LOC')]})\n",
      "('-DOCSTART-', {'entities': []})\n",
      "(\"Iraq 's Saddam meets Russia 's Zhirinovsky .\", {'entities': [(0, 4, 'LOC'), (8, 14, 'PER'), (21, 27, 'LOC'), (31, 42, 'PER')]})\n",
      "('BAGHDAD 1996-08-22', {'entities': [(0, 7, 'LOC')]})\n",
      "('Iraqi President Saddam Hussein has told visiting Russian ultra-nationalist Vladimir Zhirinovsky that Baghdad wanted to maintain \" friendship and cooperation \" with Moscow , official Iraqi newspapers said on Thursday .', {'entities': [(0, 5, 'MISC'), (16, 30, 'PER'), (49, 56, 'MISC'), (75, 95, 'PER'), (101, 108, 'LOC'), (164, 170, 'LOC'), (182, 187, 'MISC')]})\n",
      "('\" President Saddam Hussein stressed during the meeting Iraq \\'s keenness to maintain friendship and cooperation with Russia , \" the papers said .', {'entities': [(12, 26, 'PER'), (55, 59, 'LOC'), (116, 122, 'LOC')]})\n",
      "('They said Zhirinovsky told Saddam before he left Baghdad on Wednesday that his Liberal Democratic party and the Russian Duma ( parliament ) \" are calling for an immediate lifting of the embargo \" imposed on Iraq after its 1990 invasion of Kuwait .', {'entities': [(10, 21, 'PER'), (27, 33, 'PER'), (49, 56, 'LOC'), (79, 103, 'ORG'), (112, 119, 'MISC'), (120, 124, 'ORG'), (207, 211, 'LOC'), (239, 245, 'LOC')]})\n",
      "('Zhirinovsky said on Tuesday he would press the Russian government to help end U.N. trade sanctions on Iraq and blamed Moscow for delaying establishment of good ties with Baghdad .', {'entities': [(0, 11, 'PER'), (47, 54, 'MISC'), (78, 82, 'ORG'), (102, 106, 'LOC'), (118, 124, 'LOC'), (170, 177, 'LOC')]})\n"
     ]
    },
    {
     "name": "stdout",
     "output_type": "stream",
     "text": [
      "('\" Our stand is firm , namely we are calling on ( the Russian ) government to end the economic embargo on Iraq and resume trade ties between Russia and Iraq , \" he told reporters .', {'entities': [(53, 60, 'MISC'), (105, 109, 'LOC'), (140, 146, 'LOC'), (151, 155, 'LOC')]})\n",
      "('Zhirinovsky visited Iraq twice in 1995 .', {'entities': [(0, 11, 'PER'), (20, 24, 'LOC')]})\n",
      "(\"Last October he was invited to attend the referendum held on Iraq 's presidency , which extended Saddam 's term for seven more years .\", {'entities': [(61, 65, 'LOC'), (97, 103, 'PER')]})\n",
      "('-DOCSTART-', {'entities': []})\n",
      "('PRESS DIGEST - Iraq - Aug 22 .', {'entities': [(15, 19, 'LOC')]})\n",
      "('BAGHDAD 1996-08-22', {'entities': [(0, 7, 'LOC')]})\n",
      "('These are some of the leading stories in the official Iraqi press on Thursday .', {'entities': [(54, 59, 'MISC')]})\n",
      "('Reuters has not verified these stories and does not vouch for their accuracy .', {'entities': [(0, 7, 'ORG')]})\n",
      "('THAWRA', {'entities': [(0, 6, 'ORG')]})\n",
      "(\"- Iraq 's President Saddam Hussein meets with chairman of the Russian liberal democratic party Vladimir Zhirinovsky .\", {'entities': [(2, 6, 'LOC'), (20, 34, 'PER'), (62, 69, 'MISC'), (95, 115, 'PER')]})\n",
      "('- Turkish foreign minister says Turkey will take part in the Baghdad trade fair that will be held in November .', {'entities': [(2, 9, 'MISC'), (32, 38, 'LOC'), (61, 68, 'LOC')]})\n",
      "('IRAQ', {'entities': [(0, 4, 'LOC')]})\n",
      "('- A shipload of 12 tonnes of rice arrives in Umm Qasr port in the Gulf .', {'entities': [(45, 53, 'LOC'), (66, 70, 'LOC')]})\n",
      "('-DOCSTART-', {'entities': []})\n",
      "('PRESS DIGEST - Lebanon - Aug 22 .', {'entities': [(15, 22, 'LOC')]})\n",
      "('BEIRUT 1996-08-22', {'entities': [(0, 6, 'LOC')]})\n",
      "('These are the leading stories in the Beirut press on Thursday .', {'entities': [(37, 43, 'LOC')]})\n",
      "('Reuters has not verified these stories and does not vouch for their accuracy .', {'entities': [(0, 7, 'ORG')]})\n",
      "('AN-NAHAR', {'entities': [(0, 8, 'ORG')]})\n",
      "('- Confrontation is escalating between Hizbollah and the government .', {'entities': [(38, 47, 'ORG')]})\n",
      "('- Prime Minister Hariri : Israeli threats do no serve peace .', {'entities': [(17, 23, 'PER'), (26, 33, 'MISC')]})\n",
      "('AS-SAFIR', {'entities': [(0, 8, 'ORG')]})\n",
      "('- Parliament Speaker Berri : Israel is preparing for war against Syria and Lebanon .', {'entities': [(21, 26, 'PER'), (29, 35, 'LOC'), (65, 70, 'LOC'), (75, 82, 'LOC')]})\n",
      "('- Parliamentary battle in Beirut ..', {'entities': [(26, 32, 'LOC')]})\n",
      "('The three main lists have been prepared .', {'entities': []})\n",
      "('AL-ANWAR', {'entities': [(0, 8, 'ORG')]})\n",
      "('- Continued criticism of law violation incidents -- which occurred in the Mount Lebanon elections last Sunday .', {'entities': [(74, 87, 'LOC')]})\n",
      "('AD-DIYAR', {'entities': [(0, 8, 'ORG')]})\n",
      "('- Financial negotiations between Lebanon and Pakistan .', {'entities': [(33, 40, 'LOC'), (45, 53, 'LOC')]})\n",
      "('- Hariri to step into the election battle with an incomplete list .', {'entities': [(2, 8, 'PER')]})\n",
      "(\"NIDA'A AL-WATAN\", {'entities': [(0, 15, 'ORG')]})\n",
      "(\"- Maronite Patriarch Sfeir expressed sorrow over the violations in Sunday ' elections .\", {'entities': [(2, 10, 'ORG'), (21, 26, 'PER')]})\n",
      "('-DOCSTART-', {'entities': []})\n",
      "('CME live and feeder cattle calls range mixed .', {'entities': [(0, 3, 'ORG')]})\n",
      "('CHICAGO 1996-08-22', {'entities': [(0, 7, 'LOC')]})\n",
      "('Early calls on CME live and feeder cattle futures ranged from 0.200 cent higher to 0.100 lower , livestock analysts said .', {'entities': [(15, 18, 'ORG')]})\n",
      "('The continued strong tone to cash cattle and beef markets should prompt further support .', {'entities': []})\n",
      "('Outlook for a bullish cattle-on-feed report is also expected to lend support and prompt some bull spreading , analysts said .', {'entities': []})\n",
      "('However , trade will likely be light and prices could drift on evening up ahead of the report .', {'entities': []})\n",
      "('Cash markets are also expected to be quiet after the record amount of feedlot cattle traded this week , they said .', {'entities': []})\n",
      "('-DOCSTART-', {'entities': []})\n",
      "('Kindercare says debt buy to hit Q1 results .', {'entities': []})\n",
      "('MONTGOMERY , Ala .', {'entities': [(0, 10, 'LOC'), (13, 16, 'LOC')]})\n",
      "('1996-08-22', {'entities': []})\n",
      "('KinderCare Learning Centers Inc said on Thursday that a debt buyback would mean an extraordinary loss of $ 1.2 million in its fiscal 1997 first quarter .', {'entities': [(0, 31, 'ORG')]})\n",
      "('The company said that during the quarter , which began June 1 , it bought $ 30 million par value of its outstanding 10-3/8 percent senior notes due 2001 .', {'entities': []})\n",
      "('The notes were bought for $ 31.5 million .', {'entities': []})\n",
      "('Philip Maslowe , chief financial officer of the preschool and child care company , said the buyback \" offered an opportunity to reduce the company \\'s weighted average interest costs and improve future cash flows and earnings . \"', {'entities': [(0, 14, 'PER')]})\n",
      "('-DOCSTART-', {'entities': []})\n",
      "('RESEARCH ALERT - Lehman starts SNET .', {'entities': [(17, 23, 'ORG'), (31, 35, 'ORG')]})\n",
      "('-- Lehman analyst Blake Bath started Southern New England Telecommunciations Corp with an outperform rating , his office said .', {'entities': [(3, 9, 'ORG'), (18, 28, 'PER'), (37, 81, 'ORG')]})\n",
      "('-- The analyst set a 12-month price target of $ 45 and a fiscal 1996 year earnings estimate of $ 3.09 per share , his office said .', {'entities': []})\n",
      "('-- The analyst also set an earnings estimate for the 1997 year , but the figure was not immediately available .', {'entities': []})\n",
      "('-- Southern New England closed at 38-1/2 Wednesday .', {'entities': [(3, 23, 'ORG')]})\n",
      "('-- E. Auchard , Wall Street bureau , 212-859-1736', {'entities': [(3, 13, 'PER'), (16, 34, 'ORG')]})\n",
      "('-DOCSTART-', {'entities': []})\n",
      "('Gateway Data Sciences Q2 net rises .', {'entities': [(0, 21, 'ORG')]})\n",
      "('PHOENIX 1996-08-22', {'entities': [(0, 7, 'LOC')]})\n",
      "('Summary of Consolidated Financial Data', {'entities': [(11, 38, 'ORG')]})\n",
      "('( In Thousands , except per share data )', {'entities': []})\n",
      "('Six Months Ended Quarter Ended', {'entities': []})\n",
      "('Jul 31 , Jul 31 , Jul 31 , Jul 31 ,', {'entities': []})\n",
      "('1996 1995 1996 1995', {'entities': []})\n",
      "('Income Statement Data :', {'entities': []})\n",
      "('Total Revenue $ 10,756 $ 13,102 $ 7,961 $ 5,507', {'entities': []})\n",
      "('Software Revenue 2,383 1,558 1,086 1,074', {'entities': []})\n",
      "('Services Revenue 1,154 692 624 465', {'entities': []})\n",
      "('Operating Income 906 962 599 515', {'entities': []})\n",
      "('Net Income 821 512 565 301', {'entities': []})\n",
      "('Earnings Per Share 0.31 0.34 0.19 0.20', {'entities': []})\n",
      "('Jul 31 , 1996 Jan 31 , 1996', {'entities': []})\n",
      "('Balance Sheet Data :', {'entities': []})\n",
      "('Working Capital $ 5,755 ( $ 881 )', {'entities': []})\n",
      "('Cash and Cash Equivalents 2,386 93', {'entities': []})\n",
      "('Total Assets 14,196 7,138', {'entities': []})\n",
      "(\"Shareholders ' Equity 5,951 ( 1,461 )\", {'entities': []})\n",
      "('-DOCSTART-', {'entities': []})\n",
      "('Greek socialists give PM green light for election .', {'entities': [(0, 5, 'MISC')]})\n",
      "('ATHENS 1996-08-22', {'entities': [(0, 6, 'LOC')]})\n",
      "(\"The Greek socialist party 's executive bureau gave Prime Minister Costas Simitis its backing if he chooses to call snap elections , its general secretary Costas Skandalidis told reporters on Thursday .\", {'entities': [(4, 9, 'MISC'), (66, 80, 'PER'), (154, 172, 'PER')]})\n",
      "('Prime Minister Costas Simitis will make an official announcement after a cabinet meeting later on Thursday , said Skandalidis .', {'entities': [(15, 29, 'PER'), (114, 125, 'PER')]})\n",
      "('-- Dimitris Kontogiannis , Athens Newsroom +301 3311812-4', {'entities': [(3, 24, 'PER'), (27, 42, 'ORG')]})\n",
      "('-DOCSTART-', {'entities': []})\n",
      "('PRESS DIGEST - France - Le Monde Aug 22 .', {'entities': [(15, 21, 'LOC'), (24, 32, 'ORG')]})\n",
      "('PARIS 1996-08-22', {'entities': [(0, 5, 'LOC')]})\n",
      "(\"These are leading stories in Thursday 's afternoon daily Le Monde , dated Aug 23 .\", {'entities': [(57, 65, 'ORG')]})\n",
      "('FRONT PAGE', {'entities': []})\n",
      "(\"-- Africans seeking to renew or obtain work and residence rights say Prime Minister Alain Juppe 's proposals are insufficient as hunger strike enters 49th day in Paris church and Wednesday rally attracts 8,000 sympathisers .\", {'entities': [(3, 11, 'MISC'), (84, 95, 'PER'), (162, 167, 'LOC')]})\n",
      "(\"-- FLNC Corsican nationalist movement announces end of truce after last night 's attacks .\", {'entities': [(3, 7, 'ORG'), (8, 16, 'MISC')]})\n",
      "('BUSINESS PAGES', {'entities': []})\n",
      "(\"-- Shutdown of Bally 's French factories points up shoe industry crisis , with French manufacturers undercut by low-wage country competition and failure to keep abreast of trends .\", {'entities': [(15, 20, 'ORG'), (24, 30, 'MISC'), (79, 85, 'MISC')]})\n",
      "('-- Secretary general of the Sud-PTT trade union at France Telecom all the elements are in place for social unrest in the next few weeks .', {'entities': [(28, 35, 'MISC'), (51, 65, 'ORG')]})\n",
      "('-- Paris Newsroom +33 1 42 21 53 81', {'entities': [(3, 17, 'ORG')]})\n",
      "('-DOCSTART-', {'entities': []})\n",
      "('Well repairs to lift Heidrun oil output - Statoil .', {'entities': [(21, 28, 'LOC'), (42, 49, 'ORG')]})\n",
      "('OSLO 1996-08-22', {'entities': [(0, 4, 'LOC')]})\n",
      "('Three plugged water injection wells on the Heidrun oilfield off mid-Norway will be reopened over the next month , operator Den Norske Stats Oljeselskap AS ( Statoil ) said on Thursday .', {'entities': [(43, 50, 'LOC'), (64, 74, 'MISC'), (123, 154, 'ORG'), (157, 164, 'ORG')]})\n",
      "(\"The plugged wells have accounted for a dip of 30,000 barrels per day ( bpd ) in Heidrun output to roughly 220,000 bpd , according to the company 's Status Weekly newsletter .\", {'entities': [(80, 87, 'LOC'), (148, 161, 'ORG')]})\n",
      "('The wells will be reperforated and gravel will be pumped into the reservoir through one of the wells to avoid plugging problems in the future , it said .', {'entities': []})\n",
      "('-- Oslo newsroom +47 22 42 50 41', {'entities': [(3, 7, 'LOC')]})\n",
      "('-DOCSTART-', {'entities': []})\n",
      "('Finnish April trade surplus 3.8 billion markka - NCB .', {'entities': [(0, 7, 'MISC'), (49, 52, 'ORG')]})\n",
      "('HELSINKI 1996-08-22', {'entities': [(0, 8, 'LOC')]})\n",
      "(\"Finland 's trade surplus rose to 3.83 billion markka in April from 3.43 billion in March , the National Customs Board ( NCB ) said in a statement on Thursday .\", {'entities': [(0, 7, 'LOC'), (95, 117, 'ORG'), (120, 123, 'ORG')]})\n",
      "('The value of exports fell one percent year-on-year in April and the value of imports fell two percent , NCB said .', {'entities': [(104, 107, 'ORG')]})\n",
      "('Trade balance ( million markka ) :', {'entities': []})\n",
      "(\"April ' 96 March ' 96 Jan-April ' 96 Jan-April ' 95\", {'entities': []})\n",
      "('Imports 10,663 10,725 43,430 40,989', {'entities': []})\n",
      "('Exports 14,494 14,153 56,126 56,261', {'entities': []})\n",
      "('Balance +3,831 +3,428 +12,696 +15,272', {'entities': []})\n",
      "('The January-April 1995 import figure was revised from 39,584 million markka and the export figure from 55,627 million markka .', {'entities': []})\n",
      "('The Bank of Finland earlier estimated the April trade surplus at 3.2 billion markka with exports projected at 14.5 billion and imports at 11.3 billion .', {'entities': [(4, 19, 'ORG')]})\n",
      "(\"The NCB 's official monthly trade statistics are lagging behind due to changes in customs procedures when Finland joined the European Union at the start of 1995 .\", {'entities': [(4, 7, 'ORG'), (106, 113, 'LOC'), (125, 139, 'ORG')]})\n",
      "('-- Helsinki Newsroom +358 - 0 - 680 50 245', {'entities': [(3, 20, 'ORG')]})\n",
      "('-DOCSTART-', {'entities': []})\n",
      "('Dutch state raises tap sale price to 99.95 .', {'entities': [(0, 5, 'MISC')]})\n",
      "('AMSTERDAM 1996-08-22', {'entities': [(0, 9, 'LOC')]})\n",
      "(\"The Finance Ministry raised the price for tap sales of the Dutch government 's new 5.75 percent bond due September 2002 to 99.95 from 99.90 .\", {'entities': [(4, 20, 'ORG'), (59, 64, 'MISC')]})\n",
      "('Tap sales began on Monday and are being held daily from 07.00 GMT to 15.00 GMT until further notice .', {'entities': [(62, 65, 'MISC'), (75, 78, 'MISC')]})\n",
      "('The ministry had raised 2.3 billion guilders from sales of the new bond by the close of trade on Wednesday .', {'entities': []})\n",
      "('-- Amsterdam newsroom +31 20 504 5000', {'entities': [(3, 12, 'LOC')]})\n",
      "('-DOCSTART-', {'entities': []})\n",
      "('German farm ministry tells consumers to avoid British mutton .', {'entities': [(0, 6, 'MISC'), (46, 53, 'MISC')]})\n",
      "('BONN 1996-08-22', {'entities': [(0, 4, 'LOC')]})\n",
      "(\"Germany 's Agriculture Ministry suggested on Wednesday that consumers avoid eating meat from British sheep until scientists determine whether mad cow disease can be transmitted to the animals .\", {'entities': [(0, 7, 'LOC'), (11, 31, 'ORG'), (93, 100, 'MISC')]})\n",
      "('\" Until this is cleared up by the European Union \\'s scientific panels -- and we have asked this to be done as quickly as possible -- ( consumers ) should if at all possible give preference to sheepmeat from other countries , \" ministry official Werner Zwingmann told ZDF television .', {'entities': [(34, 48, 'ORG'), (245, 261, 'PER'), (267, 270, 'ORG')]})\n",
      "('\" I do not want to say that there is a concrete danger for consumers , \" he added . \"', {'entities': []})\n",
      "('There are too many holes in what we know , and these must be filled very quickly . \"', {'entities': []})\n",
      "('Bonn has led efforts to ensure consumer protection tops the list of priorities in dealing with the mad cow crisis , which erupted in March when Britain acknowledged humans could contract a similar illness by eating contaminated beef .', {'entities': [(0, 4, 'LOC'), (144, 151, 'LOC')]})\n",
      "('The European Commission agreed this month to rethink a proposal to ban the use of suspect sheep tissue after some EU veterinary experts questioned whether it was justified .', {'entities': [(4, 23, 'ORG'), (114, 116, 'ORG')]})\n",
      "('EU Farm Commissioner Franz Fischler had proposed banning sheep brains , spleens and spinal cords from the human and animal food chains after reports from Britain and France that under laboratory conditions sheep could contract Bovine Spongiform Encephalopathy ( BSE ) -- mad cow disease .', {'entities': [(0, 2, 'ORG'), (21, 35, 'PER'), (154, 161, 'LOC'), (166, 172, 'LOC'), (227, 259, 'MISC'), (262, 265, 'MISC')]})\n",
      "(\"But some members of the EU 's standing veterinary committee questioned whether the action was necessary given the slight risk to human health .\", {'entities': [(24, 26, 'ORG')]})\n",
      "('The question is being studied separately by two EU scientific committees .', {'entities': [(48, 50, 'ORG')]})\n",
      "('Sheep have long been known to contract scrapie , a similar brain-wasting disease to BSE which is believed to have been transferred to cattle through feed containing animal waste .', {'entities': [(84, 87, 'MISC')]})\n",
      "('British officials say sheep meat is perfectly safe to eat .', {'entities': [(0, 7, 'MISC')]})\n",
      "('ZDF said Germany imported 47,600 sheep from Britain last year , nearly half of total imports .', {'entities': [(0, 3, 'ORG'), (9, 16, 'LOC'), (44, 51, 'LOC')]})\n",
      "('It brought in 4,275 tonnes of British mutton , some 10 percent of overall imports .', {'entities': [(30, 37, 'MISC')]})\n",
      "('After the British government admitted a possible link between mad cow disease and its fatal human equivalent , the EU imposed a worldwide ban on British beef exports .', {'entities': [(10, 17, 'MISC'), (115, 117, 'ORG'), (145, 152, 'MISC')]})\n",
      "('EU leaders agreed at a summit in June to a progressive lifting of the ban as Britain takes parallel measures to eradicate the disease .', {'entities': [(0, 2, 'ORG'), (77, 84, 'LOC')]})\n",
      "('-DOCSTART-', {'entities': []})\n",
      "('GOLF - SCORES AT WORLD SERIES OF GOLF .', {'entities': [(17, 37, 'MISC')]})\n",
      "('AKRON , Ohio 1996-08-22', {'entities': [(0, 5, 'LOC'), (8, 12, 'LOC')]})\n",
      "('Scores from the $ 2.1', {'entities': []})\n",
      "('million NEC World Series of Golf after the first round', {'entities': [(8, 32, 'MISC')]})\n",
      "('Thursday at the 7,149 yard , par 70 Firestone C.C course', {'entities': [(36, 49, 'LOC')]})\n",
      "('( players U.S. unless stated ) :', {'entities': [(10, 14, 'LOC')]})\n",
      "('66 Paul Goydos , Billy Mayfair , Hidemichi Tanaka ( Japan )', {'entities': [(3, 14, 'PER'), (17, 30, 'PER'), (33, 49, 'PER'), (52, 57, 'LOC')]})\n"
     ]
    },
    {
     "name": "stdout",
     "output_type": "stream",
     "text": [
      "('68 Steve Stricker', {'entities': [(3, 17, 'PER')]})\n",
      "('69 Justin Leonard , Mark Brooks', {'entities': [(3, 17, 'PER'), (20, 31, 'PER')]})\n",
      "('70 Tim Herron , Duffy Waldorf , Davis Love , Anders Forsbrand', {'entities': [(3, 13, 'PER'), (16, 29, 'PER'), (32, 42, 'PER'), (45, 61, 'PER')]})\n",
      "('( Sweden ) , Nick Faldo ( Britain ) , John Cook , Steve Jones , Phil', {'entities': [(2, 8, 'LOC'), (13, 23, 'PER'), (26, 33, 'LOC'), (38, 47, 'PER'), (50, 61, 'PER'), (64, 68, 'PER')]})\n",
      "('Mickelson , Greg Norman ( Australia )', {'entities': [(0, 9, 'PER'), (12, 23, 'PER'), (26, 35, 'LOC')]})\n",
      "('71 Ernie Els ( South Africa ) , Scott Hoch', {'entities': [(3, 12, 'PER'), (15, 27, 'LOC'), (32, 42, 'PER')]})\n",
      "('72 Clarence Rose , Loren Roberts , Fred Funk , Sven Struver', {'entities': [(3, 16, 'PER'), (19, 32, 'PER'), (35, 44, 'PER'), (47, 59, 'PER')]})\n",
      "('( Germany ) , Alexander Cejka ( Germany ) , Hal Sutton , Tom Lehman', {'entities': [(2, 9, 'LOC'), (14, 29, 'PER'), (32, 39, 'LOC'), (44, 54, 'PER'), (57, 67, 'PER')]})\n",
      "('73 D.A. Weibring , Brad Bryant , Craig Parry ( Australia ) ,', {'entities': [(3, 16, 'PER'), (19, 30, 'PER'), (33, 44, 'PER'), (47, 56, 'LOC')]})\n",
      "('Stewart Ginn ( Australia ) , Corey Pavin , Craig Stadler , Mark', {'entities': [(0, 12, 'PER'), (15, 24, 'LOC'), (29, 40, 'PER'), (43, 56, 'PER'), (59, 63, 'PER')]})\n",
      "(\"O'Meara , Fred Couples\", {'entities': [(0, 7, 'PER'), (10, 22, 'PER')]})\n",
      "('74 Paul Stankowski , Costantino Rocca ( Italy )', {'entities': [(3, 18, 'PER'), (21, 37, 'PER'), (40, 45, 'LOC')]})\n",
      "('75 Jim Furyk , Satoshi Higashi ( Japan ) , Willie Wood , Shigeki', {'entities': [(3, 12, 'PER'), (15, 30, 'PER'), (33, 38, 'LOC'), (43, 54, 'PER'), (57, 64, 'PER')]})\n",
      "('Maruyama ( Japan )', {'entities': [(0, 8, 'PER'), (11, 16, 'LOC')]})\n",
      "('76 Scott McCarron', {'entities': [(3, 17, 'PER')]})\n",
      "('77 Wayne Westner ( South Africa ) , Steve Schneiter', {'entities': [(3, 16, 'PER'), (19, 31, 'LOC'), (36, 51, 'PER')]})\n",
      "('79 Tom Watson', {'entities': [(3, 13, 'PER')]})\n",
      "('81 Seiki Okuda ( Japan )', {'entities': [(3, 14, 'PER'), (17, 22, 'LOC')]})\n",
      "('-DOCSTART-', {'entities': []})\n",
      "('SOCCER - GLORIA BISTRITA BEAT 2-1 F.C. VALLETTA .', {'entities': [(9, 24, 'ORG'), (34, 47, 'ORG')]})\n",
      "('BISTRITA 1996-08-22', {'entities': [(0, 8, 'LOC')]})\n",
      "('Gloria Bistrita ( Romania ) beat 2-1 ( halftime 1-1 ) F.C. Valletta ( Malta ) in their Cup winners Cup match , second leg of the preliminary round , on Thursday .', {'entities': [(0, 15, 'ORG'), (18, 25, 'LOC'), (54, 67, 'ORG'), (70, 75, 'LOC'), (87, 102, 'MISC')]})\n",
      "('Scorers :', {'entities': []})\n",
      "('Gloria Bistrita - Ilie Lazar ( 32nd ) , Eugen Voica ( 84th )', {'entities': [(0, 15, 'ORG'), (18, 28, 'PER'), (40, 51, 'PER')]})\n",
      "('F.C. La Valletta - Gilbert Agius ( 24th )', {'entities': [(0, 16, 'ORG'), (19, 32, 'PER')]})\n",
      "('Attendance : 8,000', {'entities': []})\n",
      "('Gloria Bistrita won 4-2 on aggregate and qualified for the first round of the Cup winners Cup .', {'entities': [(0, 15, 'ORG'), (78, 93, 'MISC')]})\n",
      "('REUTER', {'entities': [(0, 6, 'PER')]})\n",
      "('-DOCSTART-', {'entities': []})\n",
      "('HORSE RACING - PIVOTAL ENDS 25-YEAR WAIT FOR TRAINER PRESCOTT .', {'entities': [(15, 22, 'PER'), (53, 61, 'PER')]})\n",
      "('YORK , England 1996-08-22', {'entities': [(0, 4, 'LOC'), (7, 14, 'LOC')]})\n",
      "('Sir Mark Prescott landed his first group one victory in 25 years as a trainer when his top sprinter Pivotal , a 100-30 chance , won the Nunthorpe Stakes on Thursday .', {'entities': [(4, 17, 'PER'), (100, 107, 'PER'), (136, 152, 'MISC')]})\n",
      "('The three-year-old , partnered by veteran George Duffield , snatched a short head verdict in the last stride to deny Eveningperformance ( 16-1 ) , trained by Henry Candy and ridden by Chris Rutter .', {'entities': [(42, 57, 'PER'), (117, 135, 'PER'), (158, 169, 'PER'), (184, 196, 'PER')]})\n",
      "(\"Hever Golf Rose ( 11-4 ) , last year 's Prix de l ' Abbaye winner at Longchamp , finished third , a further one and a quarter lengths away with the 7-4 favourite Mind Games in fourth .\", {'entities': [(0, 15, 'PER'), (40, 58, 'MISC'), (69, 78, 'LOC'), (162, 172, 'PER')]})\n",
      "(\"Pivotal , a Royal Ascot winner in June , may now be aimed at this season 's Abbaye , Europe 's top sprint race .\", {'entities': [(0, 7, 'PER'), (12, 23, 'PER'), (76, 82, 'MISC'), (85, 91, 'LOC')]})\n",
      "('Prescott , reluctant to go into the winner \\'s enclosure until the result of the photo-finish was announced , said : \" Twenty-five years and I have never been there so I thought I had better wait a bit longer . \"', {'entities': [(0, 8, 'PER')]})\n",
      "('He added : \" It \\'s very sad to beat Henry Candy because I am godfather to his daughter . \"', {'entities': [(36, 47, 'PER')]})\n",
      "(\"Like Prescott , Jack Berry , trainer of Mind Games , had gone into Thursday 's race in search of a first group one success after many years around the top of his profession .\", {'entities': [(5, 13, 'PER'), (16, 26, 'PER'), (40, 50, 'PER')]})\n",
      "('Berry said : \" I`m disappointed but I do n\\'t feel suicidal .', {'entities': [(0, 5, 'PER')]})\n",
      "('He ( Mind Games ) was going as well as any of them one and a half furlongs ( 300 metres ) out but he just did n\\'t quicken . \"', {'entities': [(5, 15, 'PER')]})\n",
      "('-DOCSTART-', {'entities': []})\n",
      "('HORSE RACING - NUNTHORPE STAKES RESULTS .', {'entities': []})\n",
      "('YORK , England 1996-08-22', {'entities': [(0, 4, 'LOC'), (7, 14, 'LOC')]})\n",
      "('Result of the Nunthorpe Stakes , a group one race for two-year-olds and upwards , run over five furlongs ( 1 km ) on Thursday :', {'entities': [(14, 30, 'MISC')]})\n",
      "('1. Pivotal 100-30 ( ridden by George Duffield )', {'entities': [(3, 10, 'PER'), (30, 45, 'PER')]})\n",
      "('2. Eveningperformance 16-1 ( Chris Rutter )', {'entities': [(3, 21, 'PER'), (29, 41, 'PER')]})\n",
      "('3. Hever Golf Rose 11-4 ( Jason Weaver )', {'entities': [(3, 18, 'PER'), (26, 38, 'PER')]})\n",
      "('Eight ran .', {'entities': []})\n",
      "('Favourite : Mind Games ( 7-4 ) finished 4th', {'entities': [(12, 22, 'PER')]})\n",
      "('Distances : a short head , 1-1/4 lengths .', {'entities': []})\n",
      "('Winner owned by the Cheveley Park Stud and trained by Sir', {'entities': [(20, 38, 'ORG')]})\n",
      "('Mark Prescott at Newmarket .', {'entities': [(0, 13, 'PER'), (17, 26, 'LOC')]})\n",
      "('Value to winner : 72,464 pounds sterling ( $ 112,200 )', {'entities': []})\n",
      "('-DOCSTART-', {'entities': []})\n",
      "('TENNIS - RESULTS AT TOSHIBA CLASSIC .', {'entities': [(20, 35, 'MISC')]})\n",
      "('CARLSBAD , California 1996-08-21', {'entities': [(0, 8, 'LOC'), (11, 21, 'LOC')]})\n",
      "('Results from the', {'entities': []})\n",
      "('$ 450,000 Toshiba Classic tennis tournament on Wednesday', {'entities': [(10, 25, 'MISC')]})\n",
      "('( prefix number denotes seeding ) :', {'entities': []})\n",
      "('Second round', {'entities': []})\n",
      "('1 - Arantxa Sanchez Vicario ( Spain ) beat Naoko Kijimuta ( Japan )', {'entities': [(4, 27, 'PER'), (30, 35, 'LOC'), (43, 57, 'PER'), (60, 65, 'LOC')]})\n",
      "('1-6 6-4 6-3', {'entities': []})\n",
      "('4 - Kimiko Date ( Japan ) beat Yone Kamio ( Japan ) 6-2 7-5', {'entities': [(4, 15, 'PER'), (18, 23, 'LOC'), (31, 41, 'PER'), (44, 49, 'LOC')]})\n",
      "('Sandrine Testud ( France ) beat 7 - Ai Sugiyama ( Japan ) 6-3 4-6', {'entities': [(0, 15, 'PER'), (18, 24, 'LOC'), (36, 47, 'PER'), (50, 55, 'LOC')]})\n",
      "('6-4', {'entities': []})\n",
      "('8 - Nathalie Tauziat ( France ) beat Shi-Ting Wang ( Taiwan ) 6-4', {'entities': [(4, 20, 'PER'), (23, 29, 'LOC'), (37, 50, 'PER'), (53, 59, 'LOC')]})\n",
      "('6-2', {'entities': []})\n",
      "('-DOCSTART-', {'entities': []})\n",
      "('TENNIS - RESULTS AT HAMLET CUP .', {'entities': [(20, 30, 'MISC')]})\n",
      "('COMMACK , New York 1996-08-21', {'entities': [(0, 7, 'LOC'), (10, 18, 'LOC')]})\n",
      "('Results from the', {'entities': []})\n",
      "('Waldbaum Hamlet Cup tennis tournament on Wednesday ( prefix', {'entities': [(0, 19, 'MISC')]})\n",
      "('number denotes seeding ) :', {'entities': []})\n",
      "('Second round', {'entities': []})\n",
      "('1 - Michael Chang ( U.S. ) beat Sergi Bruguera ( Spain ) 6-3 6-2', {'entities': [(4, 17, 'PER'), (20, 24, 'LOC'), (32, 46, 'PER'), (49, 54, 'LOC')]})\n",
      "('Michael Joyce ( U.S. ) beat 3 - Richey Reneberg ( U.S. ) 3-6 6-4', {'entities': [(0, 13, 'PER'), (16, 20, 'LOC'), (32, 47, 'PER'), (50, 54, 'LOC')]})\n",
      "('6-3', {'entities': []})\n",
      "('Martin Damm ( Czech Republic ) beat 6 - Younes El Aynaoui', {'entities': [(0, 11, 'PER'), (14, 28, 'LOC'), (40, 57, 'PER')]})\n",
      "('( Morocco ) 5-7 6-3 3-0 retired', {'entities': [(2, 9, 'LOC')]})\n",
      "('Karol Kucera ( Slovakia ) beat Hicham Arazi ( Morocco ) 7-6 ( 7-4 )', {'entities': [(0, 12, 'PER'), (15, 23, 'LOC'), (31, 43, 'PER'), (46, 53, 'LOC')]})\n",
      "('7-5', {'entities': []})\n",
      "('-DOCSTART-', {'entities': []})\n",
      "('SOCCER - DALGLISH SAD OVER BLACKBURN PARTING .', {'entities': [(9, 17, 'PER'), (27, 36, 'ORG')]})\n",
      "('LONDON 1996-08-22', {'entities': [(0, 6, 'LOC')]})\n",
      "('Kenny Dalglish spoke on Thursday of his sadness at leaving Blackburn , the club he led to the English premier league title in 1994-95 .', {'entities': [(0, 14, 'PER'), (59, 68, 'ORG'), (94, 101, 'MISC')]})\n",
      "('Blackburn announced on Wednesday they and Dalglish had parted by mutual consent .', {'entities': [(0, 9, 'ORG'), (42, 50, 'PER')]})\n",
      "('But the ex-manager confessed on Thursday to being \" sad \" at leaving after taking Blackburn from the second division to the premier league title inside three and a half years .', {'entities': [(82, 91, 'ORG')]})\n",
      "('In a telephone call to a local newspaper from his holiday home in Spain , Dalglish said : \" We came to the same opinion , albeit the club came to it a little bit earlier than me . \"', {'entities': [(66, 71, 'LOC'), (74, 82, 'PER')]})\n",
      "('He added : \" If no one asked , I never opened my mouth .', {'entities': []})\n",
      "('I have stayed out of the way and let them get on with the job .', {'entities': []})\n",
      "('The club thought it ( the job ) had run its course and I came to the same conclusion . \"', {'entities': []})\n",
      "('Dalglish had been with Blackburn for nearly five years , first as manager and then , for the past 15 months , as director of football .', {'entities': [(0, 8, 'PER'), (23, 32, 'ORG')]})\n",
      "('-DOCSTART-', {'entities': []})\n",
      "('CRICKET - ENGLISH COUNTY CHAMPIONSHIP SCORES .', {'entities': [(10, 37, 'MISC')]})\n",
      "('LONDON 1996-08-22', {'entities': [(0, 6, 'LOC')]})\n",
      "('Close of play scores in four-day', {'entities': []})\n",
      "('English County Championship cricket matches on Thursday :', {'entities': [(0, 7, 'MISC'), (8, 27, 'MISC')]})\n",
      "('Second day', {'entities': []})\n",
      "('At Weston-super-Mare : Durham 326 ( D. Cox 95 not out ,', {'entities': [(3, 20, 'LOC'), (23, 29, 'ORG'), (36, 42, 'PER')]})\n",
      "('S. Campbell 69 ; G. Rose 7-73 ) .', {'entities': [(0, 11, 'PER'), (17, 24, 'PER')]})\n",
      "('Somerset 236-4 ( M. Lathwell 85 ) .', {'entities': [(0, 8, 'ORG'), (17, 28, 'PER')]})\n",
      "('Firsy day', {'entities': []})\n",
      "('At Colchester : Gloucestershire 280 ( J. Russell 63 , A. Symonds', {'entities': [(3, 13, 'LOC'), (16, 31, 'ORG'), (38, 48, 'PER'), (54, 64, 'PER')]})\n",
      "('52 ; A. Cowan 5-68 ) .', {'entities': [(5, 13, 'PER')]})\n",
      "('Essex 72-0 .', {'entities': [(0, 5, 'ORG')]})\n",
      "('At Cardiff : Kent 128-1 ( M. Walker 59 , D. Fulton 53 not out ) v', {'entities': [(3, 10, 'LOC'), (13, 17, 'ORG'), (26, 35, 'PER'), (41, 50, 'PER')]})\n",
      "('Glamorgan .', {'entities': [(0, 9, 'ORG')]})\n",
      "('At Leicester : Leicestershire 343-8 ( P. Simmons 108 , P. Nixon', {'entities': [(3, 12, 'LOC'), (15, 29, 'ORG'), (38, 48, 'PER'), (55, 63, 'PER')]})\n",
      "('67 not out ) v Hampshire .', {'entities': [(15, 24, 'ORG')]})\n",
      "('At Northampton : Sussex 368-7 ( N. Lenham 145 , V. Drakes 59 not', {'entities': [(3, 14, 'LOC'), (17, 23, 'ORG'), (32, 41, 'PER'), (48, 57, 'PER')]})\n",
      "('out , A. Wells 51 ) v Northamptonshire .', {'entities': [(6, 14, 'PER'), (22, 38, 'ORG')]})\n",
      "('At Trent Bridge : Nottinghamshire 392-6 ( G. Archer 143 not', {'entities': [(3, 15, 'LOC'), (18, 33, 'ORG'), (42, 51, 'PER')]})\n",
      "('out , M. Dowman 107 ) v Surrey .', {'entities': [(6, 15, 'PER'), (24, 30, 'ORG')]})\n",
      "('At Worcester : Warwickshire 255-9 ( A. Giles 57 not out , W. Khan', {'entities': [(3, 12, 'LOC'), (15, 27, 'ORG'), (36, 44, 'PER'), (58, 65, 'PER')]})\n",
      "('52 ) v Worcestershire .', {'entities': [(7, 21, 'ORG')]})\n",
      "('At Headingley : Yorkshire 305-5 ( C. White 66 not out , M. Moxon', {'entities': [(3, 13, 'LOC'), (16, 25, 'ORG'), (34, 42, 'PER'), (56, 64, 'PER')]})\n",
      "('66 , M. Vaughan 57 ) v Lancashire .', {'entities': [(5, 15, 'PER'), (23, 33, 'ORG')]})\n",
      "('-DOCSTART-', {'entities': []})\n",
      "('CRICKET - ENGLAND V PAKISTAN FINAL TEST SCOREBOARD .', {'entities': [(10, 17, 'LOC'), (20, 28, 'LOC')]})\n",
      "('LONDON 1996-08-22', {'entities': [(0, 6, 'LOC')]})\n",
      "('Scoreboard on the first day of the', {'entities': []})\n",
      "('third and final test between England and Pakistan at The Oval on', {'entities': [(29, 36, 'LOC'), (41, 49, 'LOC'), (53, 61, 'LOC')]})\n",
      "('Thursday :', {'entities': []})\n",
      "('England first innings', {'entities': [(0, 7, 'LOC')]})\n",
      "('M. Atherton b Waqar Younis 31', {'entities': [(0, 11, 'PER'), (14, 26, 'PER')]})\n",
      "('A. Stewart b Mushtaq Ahmed 44', {'entities': [(0, 10, 'PER'), (13, 26, 'PER')]})\n",
      "('N. Hussain c Saeed Anwar b Waqar Younis 12', {'entities': [(0, 10, 'PER'), (13, 24, 'PER'), (27, 39, 'PER')]})\n",
      "('G. Thorpe lbw b Mohammad Akram 54', {'entities': [(0, 9, 'PER'), (16, 30, 'PER')]})\n",
      "('J. Crawley not out 94', {'entities': [(0, 10, 'PER')]})\n",
      "('N. Knight b Mushtaq Ahmed 17', {'entities': [(0, 9, 'PER'), (12, 25, 'PER')]})\n",
      "('C. Lewis b Wasim Akram 5', {'entities': [(0, 8, 'PER'), (11, 22, 'PER')]})\n",
      "('I. Salisbury not out 1', {'entities': [(0, 12, 'PER')]})\n",
      "('Extras ( lb-11 w-1 nb-8 ) 20', {'entities': []})\n",
      "('Total ( for six wickets ) 278', {'entities': []})\n",
      "('Fall of wickets : 1-64 2-85 3-116 4-205 5-248 6-273', {'entities': []})\n",
      "('To bat : R. Croft , D. Cork , A. Mullally', {'entities': [(9, 17, 'PER'), (20, 27, 'PER'), (30, 41, 'PER')]})\n",
      "('Bowling ( to date ) : Wasim Akram 25-8-61-1 , Waqar Younis', {'entities': [(22, 33, 'PER'), (46, 58, 'PER')]})\n",
      "('20-6-70-2 , Mohammad Akram 12-1-41-1 , Mushtaq Ahmed 27-5-78-2 ,', {'entities': [(12, 26, 'PER'), (39, 52, 'PER')]})\n",
      "('Aamir Sohail 6-1-17-0', {'entities': [(0, 12, 'PER')]})\n",
      "('Pakistan : Aamir Sohail , Saeed Anwar , Ijaz Ahmed ,', {'entities': [(0, 8, 'LOC'), (11, 23, 'PER'), (26, 37, 'PER'), (40, 50, 'PER')]})\n",
      "('Inzamam-ul-Haq , Salim Malik , Asif Mujtaba , Wasim Akram , Moin', {'entities': [(0, 14, 'PER'), (17, 28, 'PER'), (31, 43, 'PER'), (46, 57, 'PER'), (60, 64, 'PER')]})\n",
      "('Khan , Mushtaq Ahmed , Waqar Younis , Mohammad Akam', {'entities': [(0, 4, 'PER'), (7, 20, 'PER'), (23, 35, 'PER'), (38, 51, 'PER')]})\n",
      "('-DOCSTART-', {'entities': []})\n",
      "('SOCCER - FERGUSON BACK IN SCOTTISH SQUAD AFTER 20 MONTHS .', {'entities': [(9, 17, 'PER'), (26, 34, 'MISC')]})\n",
      "('GLASGOW 1996-08-22', {'entities': [(0, 7, 'LOC')]})\n",
      "(\"Everton 's Duncan Ferguson , who scored twice against Manchester United on Wednesday , was picked on Thursday for the Scottish squad after a 20-month exile .\", {'entities': [(0, 7, 'ORG'), (11, 26, 'PER'), (54, 71, 'ORG'), (118, 126, 'MISC')]})\n",
      "('Glasgow Rangers striker Ally McCoist , another man in form after two hat-tricks in four days , was also named for the August 31 World Cup qualifier against Austria in Vienna .', {'entities': [(0, 15, 'ORG'), (24, 36, 'PER'), (128, 137, 'MISC'), (156, 163, 'LOC'), (167, 173, 'LOC')]})\n",
      "('Ferguson , who served six weeks in jail in late 1995 for head-butting an opponent , won the last of his five Scotland caps in December 1994 .', {'entities': [(0, 8, 'PER'), (109, 117, 'LOC')]})\n",
      "('Scotland manager Craig Brown said on Thursday : \" I \\'ve watched Duncan Ferguson in action twice recently and he \\'s bang in form .', {'entities': [(0, 8, 'LOC'), (17, 28, 'PER'), (64, 79, 'PER')]})\n",
      "('Ally McCoist is also in great scoring form at the moment . \"', {'entities': [(0, 12, 'PER')]})\n",
      "(\"Celtic 's Jackie McNamara , who did well with last season 's successful under-21 team , earns a call-up to the senior squad .\", {'entities': [(0, 6, 'ORG'), (10, 25, 'PER')]})\n",
      "('-DOCSTART-', {'entities': []})\n",
      "('CRICKET - ENGLAND 100-2 AT LUNCH ON FIRST DAY OF THIRD TEST .', {'entities': [(10, 17, 'LOC')]})\n",
      "('LONDON 1996-08-22', {'entities': [(0, 6, 'LOC')]})\n",
      "('England were 100 for two at lunch on the first day of the third and final test against Pakistan at The Oval on Thursday .', {'entities': [(0, 7, 'LOC'), (87, 95, 'LOC'), (99, 107, 'LOC')]})\n",
      "('-DOCSTART-', {'entities': []})\n",
      "('SOCCER - KEANE SIGNS FOUR-YEAR CONTRACT WITH MANCHESTER UNITED .', {'entities': [(9, 14, 'PER'), (45, 62, 'LOC')]})\n",
      "('LONDON 1996-08-22', {'entities': [(0, 6, 'LOC')]})\n"
     ]
    },
    {
     "name": "stdout",
     "output_type": "stream",
     "text": [
      "('Ireland midfielder Roy Keane has signed a new four-year contract with English league and F.A. Cup champions Manchester United .', {'entities': [(0, 7, 'LOC'), (19, 28, 'PER'), (70, 77, 'MISC'), (89, 97, 'MISC'), (108, 125, 'ORG')]})\n",
      "('\" Roy agreed a new deal before last night \\'s game against Everton and we are delighted , \" said United manager Alex Ferguson on Thursday .', {'entities': [(2, 5, 'PER'), (58, 65, 'ORG'), (96, 102, 'ORG'), (111, 124, 'PER')]})\n",
      "('-DOCSTART-', {'entities': []})\n",
      "('TENNIS - RESULTS AT CANADIAN OPEN .', {'entities': [(20, 33, 'MISC')]})\n",
      "('TORONTO 1996-08-21', {'entities': [(0, 7, 'LOC')]})\n",
      "('Results from the Canadian Open', {'entities': [(17, 30, 'MISC')]})\n",
      "('tennis tournament on Wednesday ( prefix number denotes', {'entities': []})\n",
      "('seeding ) :', {'entities': []})\n",
      "('Second round', {'entities': []})\n",
      "('Daniel Nestor ( Canada ) beat 1 - Thomas Muster ( Austria ) 6-3 7-5', {'entities': [(0, 13, 'PER'), (16, 22, 'LOC'), (34, 47, 'PER'), (50, 57, 'LOC')]})\n",
      "('Mikael Tillstrom ( Sweden ) beat 2 - Goran Ivanisevic ( Croatia )', {'entities': [(0, 16, 'PER'), (19, 25, 'LOC'), (37, 53, 'PER'), (56, 63, 'LOC')]})\n",
      "('6-7 ( 3-7 ) 6-4 6-4', {'entities': []})\n",
      "('3 - Wayne Ferreira ( South Africa ) beat Jiri Novak ( Czech', {'entities': [(4, 18, 'PER'), (21, 33, 'LOC'), (41, 51, 'PER'), (54, 59, 'LOC')]})\n",
      "('Republic ) 7-5 6-3', {'entities': [(0, 8, 'LOC')]})\n",
      "('4 - Marcelo Rios ( Chile ) beat Kenneth Carlsen ( Denmark ) 6-3 6-2', {'entities': [(4, 16, 'PER'), (19, 24, 'LOC'), (32, 47, 'PER'), (50, 57, 'LOC')]})\n",
      "('6 - MaliVai Washington ( U.S. ) beat Alex Corretja ( Spain ) 6-4', {'entities': [(4, 22, 'PER'), (25, 29, 'LOC'), (37, 50, 'PER'), (53, 58, 'LOC')]})\n",
      "('6-2', {'entities': []})\n",
      "('7 - Todd Martin ( U.S. ) beat Renzo Furlan ( Italy ) 7-6 ( 7-3 ) 6-3', {'entities': [(4, 15, 'PER'), (18, 22, 'LOC'), (30, 42, 'PER'), (45, 50, 'LOC')]})\n",
      "('Mark Philippoussis ( Australia ) beat 8 - Marc Rosset', {'entities': [(0, 18, 'PER'), (21, 30, 'LOC'), (42, 53, 'PER')]})\n",
      "('( Switzerland ) 6-3 3-6 7-6 ( 8-6 )', {'entities': [(2, 13, 'LOC')]})\n",
      "('9 - Cedric Pioline ( France ) beat Gregory Carraz ( France ) 7-6', {'entities': [(4, 18, 'PER'), (21, 27, 'LOC'), (35, 49, 'PER'), (52, 58, 'LOC')]})\n",
      "('( 7-1 ) 6-4', {'entities': []})\n",
      "('Patrick Rafter ( Australia ) beat 11 - Alberto Berasategui', {'entities': [(0, 14, 'PER'), (17, 26, 'LOC'), (39, 58, 'PER')]})\n",
      "('( Spain ) 6-1 6-2', {'entities': [(2, 7, 'LOC')]})\n",
      "('Petr Korda ( Czech Republic ) beat 12 - Francisco Clavet ( Spain )', {'entities': [(0, 10, 'PER'), (13, 27, 'LOC'), (40, 56, 'PER'), (59, 64, 'LOC')]})\n",
      "('6-3 6-4', {'entities': []})\n",
      "('Daniel Vacek ( Czech Republic ) beat 13 - Jason Stoltenberg', {'entities': [(0, 12, 'PER'), (15, 29, 'LOC'), (42, 59, 'PER')]})\n",
      "('( Australia ) 5-7 7-6 ( 7-1 ) 7-6 ( 13-11 )', {'entities': [(2, 11, 'LOC')]})\n",
      "('Todd Woodbridge ( Australia beat Sebastien Lareau ( Canada ) 6-3', {'entities': [(0, 15, 'PER'), (18, 27, 'LOC'), (33, 49, 'PER'), (52, 58, 'LOC')]})\n",
      "('1-6 6-3', {'entities': []})\n",
      "(\"Alex O'Brien ( U.S. ) beat Byron Black ( Zimbabwe ) 7-6 ( 7-2 ) 6-2\", {'entities': [(0, 12, 'PER'), (15, 19, 'LOC'), (27, 38, 'PER'), (41, 49, 'LOC')]})\n",
      "('Bohdan Ulihrach ( Czech Republic ) beat Andrea Gaudenzi ( Italy )', {'entities': [(0, 15, 'PER'), (18, 32, 'LOC'), (40, 55, 'PER'), (58, 63, 'LOC')]})\n",
      "('6-3 4-6 6-1', {'entities': []})\n",
      "('Tim Henman ( Britain ) beat Chris Woodruff ( U.S. ) , walkover', {'entities': [(0, 10, 'PER'), (13, 20, 'LOC'), (28, 42, 'PER'), (45, 49, 'LOC')]})\n",
      "('-DOCSTART-', {'entities': []})\n",
      "('CRICKET - MILLNS SIGNS FOR BOLAND .', {'entities': [(10, 16, 'PER'), (27, 33, 'ORG')]})\n",
      "('CAPE TOWN 1996-08-22', {'entities': [(0, 9, 'LOC')]})\n",
      "('South African provincial side Boland said on Thursday they had signed Leicestershire fast bowler David Millns on a one year contract .', {'entities': [(0, 13, 'MISC'), (30, 36, 'ORG'), (70, 84, 'ORG'), (97, 109, 'PER')]})\n",
      "(\"Millns , who toured Australia with England A in 1992/93 , replaces former England all-rounder Phillip DeFreitas as Boland 's overseas professional .\", {'entities': [(0, 6, 'MISC'), (20, 29, 'LOC'), (35, 42, 'LOC'), (74, 81, 'LOC'), (94, 111, 'PER'), (115, 121, 'ORG')]})\n",
      "('-DOCSTART-', {'entities': []})\n",
      "(\"SOCCER - EUROPEAN CUP WINNERS ' CUP RESULTS .\", {'entities': [(9, 35, 'MISC')]})\n",
      "('TIRANA 1996-08-22', {'entities': [(0, 6, 'LOC')]})\n",
      "(\"Results of European Cup Winners '\", {'entities': [(11, 33, 'MISC')]})\n",
      "('Cup qualifying round , second leg soccer matches on Thursday :', {'entities': [(0, 3, 'MISC')]})\n",
      "('In Tirana : Flamurtari Vlore ( Albania ) 0 Chemlon Humenne', {'entities': [(3, 9, 'LOC'), (12, 28, 'ORG'), (31, 38, 'LOC'), (43, 58, 'ORG')]})\n",
      "('( Slovakia ) 2 ( halftime 0-0 )', {'entities': [(2, 10, 'LOC')]})\n",
      "('Scorers : Lubarskij ( 50th minute ) , Valkucak ( 54th )', {'entities': [(10, 19, 'PER'), (38, 46, 'PER')]})\n",
      "('Attendance : 5,000', {'entities': []})\n",
      "('Chemlon Humenne win 3-0 on aggregate', {'entities': [(0, 15, 'ORG')]})\n",
      "('In Bistrita : Gloria Bistrita ( Romania ) 2 Valletta ( Malta ) 1', {'entities': [(3, 11, 'LOC'), (14, 29, 'ORG'), (32, 39, 'LOC'), (44, 52, 'LOC'), (55, 60, 'LOC')]})\n",
      "('( 1-1 )', {'entities': []})\n",
      "('Scorers :', {'entities': []})\n",
      "('Gloria Bistrita - Ilie Lazar ( 32nd ) , Eugen Voica ( 84th )', {'entities': [(0, 15, 'ORG'), (18, 28, 'PER'), (40, 51, 'PER')]})\n",
      "('Valletta - Gilbert Agius ( 24th )', {'entities': [(0, 8, 'LOC'), (11, 24, 'PER')]})\n",
      "('Attendance : 8,000', {'entities': []})\n",
      "('Gloria Bistrita win 4-2 on aggregate .', {'entities': [(0, 15, 'ORG')]})\n",
      "('In Chorzow : Ruch Chorzow ( Poland ) 5 Llansantffraid ( Wales ) 0', {'entities': [(3, 10, 'LOC'), (13, 25, 'ORG'), (28, 34, 'LOC'), (39, 53, 'ORG'), (56, 61, 'LOC')]})\n",
      "('( 1-0 )', {'entities': []})\n",
      "('Scorers : Arkadiusz Bak ( 1st and 55th ) , Arwel Jones ( 47th ,', {'entities': [(10, 23, 'PER'), (43, 54, 'PER')]})\n",
      "('own goal ) , Miroslav Bak ( 62nd and 63rd )', {'entities': [(13, 25, 'PER')]})\n",
      "('Attendance : 6,500', {'entities': []})\n",
      "('Ruch Chorzow win 6-1 on aggregate', {'entities': [(0, 12, 'ORG')]})\n",
      "('In Larnaca : AEK Larnaca ( Cyprus ) 5 Kotaik Abovyan ( Armenia )', {'entities': [(3, 10, 'LOC'), (13, 24, 'ORG'), (27, 33, 'LOC'), (38, 52, 'ORG'), (55, 62, 'LOC')]})\n",
      "('0 ( 2-0 )', {'entities': []})\n",
      "('Scorers : Zoran Kundic ( 28th ) , Klimis Alexandrou ( 41st ) ,', {'entities': [(10, 22, 'PER'), (34, 51, 'PER')]})\n",
      "('Milenko Kovasevic ( 60th , penalty ) , Goran Koprinovic ( 82nd ) ,', {'entities': [(0, 17, 'PER'), (39, 55, 'PER')]})\n",
      "('Pavlos Markou ( 84th )', {'entities': [(0, 13, 'PER')]})\n",
      "('Attendance : 5,000', {'entities': []})\n",
      "('AEK Larnaca win 5-1 on aggregate', {'entities': [(0, 11, 'ORG')]})\n",
      "('In Siauliai : Kareda Siauliai ( Lithuania ) 0 Sion', {'entities': [(3, 11, 'LOC'), (14, 29, 'ORG'), (32, 41, 'LOC'), (46, 50, 'ORG')]})\n",
      "('( Switzerland ) 0', {'entities': [(2, 13, 'LOC')]})\n",
      "('Attendance : 5,000', {'entities': []})\n",
      "('Sion win 4-2 on agrregate .', {'entities': [(0, 4, 'ORG')]})\n",
      "('In Vinnytsya :', {'entities': [(3, 12, 'LOC')]})\n",
      "('Nyva Vinnytsya ( Ukraine ) 1 Tallinna Sadam ( Estonia ) 0 ( 0-0 )', {'entities': [(0, 14, 'ORG'), (17, 24, 'LOC'), (29, 43, 'ORG'), (46, 53, 'LOC')]})\n",
      "('Attendance : 3,000', {'entities': []})\n",
      "('Aggregate score 2-2 .', {'entities': []})\n",
      "('Nyva qualified on away goals rule .', {'entities': [(0, 4, 'ORG')]})\n",
      "('In Bergen : Brann ( Norway ) 2 Shelbourne ( Ireland ) 1 ( 1-1 )', {'entities': [(3, 9, 'LOC'), (12, 17, 'ORG'), (20, 26, 'LOC'), (31, 41, 'ORG'), (44, 51, 'LOC')]})\n",
      "('Scorers :', {'entities': []})\n",
      "('Brann - Mons Ivar Mjelde ( 10th ) , Jan Ove Pedersen ( 72nd )', {'entities': [(0, 5, 'ORG'), (8, 24, 'PER'), (36, 52, 'PER')]})\n",
      "('Shelbourne - Mark Rutherford ( 5th )', {'entities': [(0, 10, 'ORG'), (13, 28, 'PER')]})\n",
      "('Attendance : 2,189', {'entities': []})\n",
      "('Brann win 5-2 on aggregate', {'entities': [(0, 5, 'ORG')]})\n",
      "('In Sofia : Levski Sofia ( Bulgaria ) 1 Olimpija ( Slovenia ) 0', {'entities': [(3, 8, 'LOC'), (11, 23, 'ORG'), (26, 34, 'LOC'), (39, 47, 'ORG'), (50, 58, 'LOC')]})\n",
      "('( 0-0 )', {'entities': []})\n",
      "('Scorer : Ilian Simeonov ( 58th )', {'entities': [(9, 23, 'PER')]})\n",
      "('Attendance : 25,000', {'entities': []})\n",
      "('Aggregate 1-1 .', {'entities': []})\n",
      "('Olimpija won 4-3 on penalties .', {'entities': [(0, 8, 'ORG')]})\n",
      "('In Vaduz : Vaduz ( Liechtenstein ) 1 RAF Riga ( Latvia ) 1 ( 0-0 )', {'entities': [(3, 8, 'LOC'), (11, 16, 'LOC'), (19, 32, 'LOC'), (37, 45, 'ORG'), (48, 54, 'LOC')]})\n",
      "('Scorers :', {'entities': []})\n",
      "('Vaduz - Daniele Polverino ( 90th )', {'entities': [(0, 5, 'LOC'), (8, 25, 'PER')]})\n",
      "('RAF Riga - Agrins Zarins ( 47th )', {'entities': [(0, 8, 'ORG'), (11, 24, 'PER')]})\n",
      "('Aggregate 2-2 .', {'entities': []})\n",
      "('Vaduz won 4-2 on penalties .', {'entities': [(0, 5, 'LOC')]})\n",
      "('In Luxembourg : US Luxembourg ( Luxembourg ) 0 Varteks Varazdin', {'entities': [(3, 13, 'LOC'), (16, 29, 'ORG'), (32, 42, 'LOC'), (47, 63, 'ORG')]})\n",
      "('( Croatia ) 3 ( 0-0 )', {'entities': [(2, 9, 'LOC')]})\n",
      "('Scorers : Drazen Beser ( 63rd ) , Miljenko Mumler ( penalty ,', {'entities': [(10, 22, 'PER'), (34, 49, 'PER')]})\n",
      "('78th ) , Jamir Cvetko ( 87th )', {'entities': [(9, 21, 'PER')]})\n",
      "('Attendance : 800', {'entities': []})\n",
      "('Varteks Varazdin win 5-1 on aggregate .', {'entities': [(0, 16, 'ORG')]})\n",
      "('In Torshavn : Havnar Boltfelag ( Faroe Islands ) 0 Dynamo', {'entities': [(3, 11, 'LOC'), (14, 30, 'ORG'), (33, 46, 'LOC'), (51, 57, 'ORG')]})\n",
      "('Batumi ( Georgia ) 3 ( 0-2 )', {'entities': [(0, 6, 'ORG'), (9, 16, 'LOC')]})\n",
      "('Dynamo Batumi win 9-0 on aggregate .', {'entities': [(0, 13, 'ORG')]})\n",
      "('In Prague : Sparta Prague ( Czech Republic ) 8 Glentoran', {'entities': [(3, 9, 'LOC'), (12, 25, 'ORG'), (28, 42, 'LOC'), (47, 56, 'ORG')]})\n",
      "('( Northern Ireland ) 0 ( 4-0 )', {'entities': [(2, 18, 'LOC')]})\n",
      "('Scorers : Petr Gunda ( 1st and 26th ) , Lumir Mistr ( 19th ) ,', {'entities': [(10, 20, 'PER'), (40, 51, 'PER')]})\n",
      "('Horst Siegl ( 24th , 48th , 80th ) , Zdenek Svoboda ( 76th ) , Petr', {'entities': [(0, 11, 'PER'), (37, 51, 'PER'), (63, 67, 'PER')]})\n",
      "('Gabriel ( 86th )', {'entities': [(0, 7, 'PER')]})\n",
      "('Sparta win 10-1 on aggregate .', {'entities': [(0, 6, 'ORG')]})\n",
      "('In Edinburgh : Hearts ( Scotland ) 1 Red Star Belgrade', {'entities': [(3, 12, 'LOC'), (15, 21, 'ORG'), (24, 32, 'LOC'), (37, 54, 'ORG')]})\n",
      "('( Yugoslavia ) 1 ( 1-0 )', {'entities': [(2, 12, 'LOC')]})\n",
      "('Scorers :', {'entities': []})\n",
      "('Hearts - Dave McPherson ( 44th )', {'entities': [(0, 6, 'ORG'), (9, 23, 'PER')]})\n",
      "('Red Star - Vinko Marinovic ( 59th )', {'entities': [(0, 8, 'ORG'), (11, 26, 'MISC')]})\n",
      "('Attendance : 15,062', {'entities': []})\n",
      "('Aggregate 1-1 .', {'entities': []})\n",
      "('Red Star win on away goals rule .', {'entities': [(0, 8, 'ORG')]})\n",
      "('In Rishon-Lezion : Hapoel Ironi ( Israel ) 3 Constructorul', {'entities': [(3, 16, 'LOC'), (19, 31, 'ORG'), (34, 40, 'LOC'), (45, 58, 'ORG')]})\n",
      "('Chisinau ( Moldova ) 2 ( 2-1 )', {'entities': [(0, 8, 'ORG'), (11, 18, 'LOC')]})\n",
      "('Aggregate 3-3 .', {'entities': []})\n",
      "('Constructorul win on away goals rule .', {'entities': [(0, 13, 'ORG')]})\n",
      "('In Anjalonkoski : MyPa-47 ( Finland ) 1 Karabach Agdam', {'entities': [(3, 15, 'MISC'), (18, 25, 'ORG'), (28, 35, 'LOC'), (40, 54, 'ORG')]})\n",
      "('( Azerbaijan ) 1 ( 0-0 )', {'entities': [(2, 12, 'LOC')]})\n",
      "('Mypa-47 win 2-1 on aggregate .', {'entities': [(0, 7, 'ORG')]})\n",
      "('In Skopje : Sloga Jugomagnat ( Macedonia ) 0 Kispest Honved', {'entities': [(3, 9, 'LOC'), (12, 28, 'ORG'), (31, 40, 'LOC'), (45, 59, 'ORG')]})\n",
      "('( Hungary 1 ( 0-0 )', {'entities': [(2, 9, 'LOC')]})\n",
      "('Kispest Honved win 2-0 on aggregate .', {'entities': [(0, 14, 'ORG')]})\n",
      "('Add Hapoel Ironi v Constructorul Chisinau', {'entities': [(0, 16, 'ORG'), (19, 41, 'ORG')]})\n",
      "('Scorers :', {'entities': []})\n",
      "('Rishon - Moshe Sabag ( 10th minute ) , Nissan Kapeta ( 26th ) ,', {'entities': [(0, 6, 'ORG'), (9, 20, 'PER'), (39, 52, 'PER')]})\n",
      "('Tomas Cibola ( 58th ) .', {'entities': [(0, 12, 'PER')]})\n",
      "('Constructorol - Sergei Rogachev ( 42nd ) , Gennadi Skidan', {'entities': [(0, 13, 'ORG'), (16, 31, 'PER'), (43, 57, 'PER')]})\n",
      "('( 87th ) .', {'entities': []})\n",
      "('Attendance : 1,500 .', {'entities': []})\n",
      "('-DOCSTART-', {'entities': []})\n",
      "('SOCCER - GOTHENBURG PUT FERENCVAROS OUT OF EURO CUP .', {'entities': [(9, 19, 'LOC'), (24, 35, 'ORG'), (43, 51, 'MISC')]})\n",
      "('BUDAPEST 1996-08-21', {'entities': [(0, 8, 'LOC')]})\n",
      "('IFK Gothenburg of Sweden drew 1-1 ( 1-0 ) with Ferencvaros of Hungary in the second leg of their European Champions Cup preliminary round tie played on Wednesday .', {'entities': [(0, 14, 'ORG'), (18, 24, 'LOC'), (47, 58, 'ORG'), (62, 69, 'LOC'), (97, 119, 'MISC')]})\n",
      "('Gothenburg go through 4-1 on aggregate .', {'entities': [(0, 10, 'LOC')]})\n",
      "('Scorers :', {'entities': []})\n",
      "('Ferencvaros :', {'entities': [(0, 11, 'ORG')]})\n",
      "('Ferenc Horvath ( 15th )', {'entities': [(0, 14, 'PER')]})\n",
      "('IFK Gothenburg :', {'entities': [(0, 14, 'ORG')]})\n",
      "('Andreas Andersson ( 87th )', {'entities': [(0, 17, 'PER')]})\n",
      "('Attendance : 9,000', {'entities': []})\n",
      "('-DOCSTART-', {'entities': []})\n",
      "('SOCCER - BRAZILIAN CHAMPIONSHIP RESULTS .', {'entities': [(9, 18, 'MISC')]})\n",
      "('RIO DE JANEIRO 1996-08-22', {'entities': [(0, 14, 'LOC')]})\n",
      "('Results of midweek', {'entities': []})\n",
      "('matches in the Brazilian soccer championship .', {'entities': [(15, 24, 'MISC')]})\n",
      "('Bahia 2 Atletico Paranaense 0', {'entities': [(0, 5, 'ORG'), (8, 27, 'ORG')]})\n",
      "('Corinthians 1 Guarani 0', {'entities': [(0, 11, 'ORG'), (14, 21, 'ORG')]})\n",
      "('Coritiba 1 Atletico Mineiro 0', {'entities': [(0, 8, 'ORG'), (11, 27, 'ORG')]})\n",
      "('Cruzeiro 2 Vitoria 1', {'entities': [(0, 8, 'ORG'), (11, 18, 'ORG')]})\n",
      "('Flamengo 0 Juventude 1', {'entities': [(0, 8, 'ORG'), (11, 20, 'ORG')]})\n",
      "('Goias 3 Sport Recife 1', {'entities': [(0, 5, 'ORG'), (8, 20, 'ORG')]})\n",
      "('Gremio 6 Bragantino 1', {'entities': [(0, 6, 'ORG'), (9, 19, 'ORG')]})\n",
      "('Palmeiras 3 Vasco da Gama 1', {'entities': [(0, 9, 'ORG'), (12, 25, 'ORG')]})\n",
      "('Portuguesa 2 Parana 0', {'entities': [(0, 10, 'ORG'), (13, 19, 'ORG')]})\n",
      "('-DOCSTART-', {'entities': []})\n",
      "('TENNIS - NEWCOMBE PONDERS HIS DAVIS CUP FUTURE .', {'entities': [(9, 17, 'PER'), (30, 39, 'MISC')]})\n",
      "('SYDNEY 1996-08-22', {'entities': [(0, 6, 'LOC')]})\n",
      "('Australian Davis Cup captain John Newcombe on Thursday signalled his possible resignation if his team loses an away tie against Croatia next month .', {'entities': [(0, 10, 'MISC'), (11, 20, 'MISC'), (29, 42, 'PER'), (128, 135, 'LOC')]})\n",
      "(\"The former Wimbledon champion said the immediate future of Australia 's Davis Cup coach Tony Roche could also be determined by events in Split .\", {'entities': [(11, 20, 'MISC'), (59, 68, 'LOC'), (72, 81, 'MISC'), (88, 98, 'PER'), (137, 142, 'LOC')]})\n",
      "('\" If we lose this one , Tony and I will have to have a good look at giving someone else a go , \" Newcombe was quoted as saying in Sydney \\'s Daily Telegraph newspaper .', {'entities': [(24, 28, 'PER'), (97, 105, 'PER'), (130, 136, 'LOC'), (140, 155, 'ORG')]})\n",
      "('Australia face Croatia in the world group qualifying tie on clay from September 20-22 .', {'entities': [(0, 9, 'LOC'), (15, 22, 'LOC')]})\n",
      "(\"Under Newcombe 's leadership , Australia were relegated from the elite world group last year , the first time the 26-time Davis Cup winners had slipped from the top rank .\", {'entities': [(6, 14, 'PER'), (31, 40, 'LOC'), (122, 131, 'MISC')]})\n",
      "(\"Since taking over as captain from Neale Fraser in 1994 , Newcombe 's record in tandem with Roche , his former doubles partner , has been three wins and three losses .\", {'entities': [(34, 46, 'PER'), (57, 65, 'PER'), (91, 96, 'PER')]})\n",
      "('Newcombe has selected Wimbledon semifinalist Jason Stoltenberg , Patrick Rafter , Mark Philippoussis , and Olympic doubles champions Todd Woodbridge and Mark Woodforde to face the Croatians .', {'entities': [(0, 8, 'PER'), (22, 31, 'MISC'), (45, 62, 'PER'), (65, 79, 'PER'), (82, 100, 'PER'), (107, 114, 'MISC'), (133, 148, 'PER'), (153, 167, 'PER'), (180, 189, 'MISC')]})\n",
      "('The home side boasts world number six Goran Ivanisevic , and Newcombe conceded his players would be hard-pressed to beat the Croatian number one .', {'entities': [(38, 54, 'PER'), (61, 69, 'PER'), (125, 133, 'MISC')]})\n",
      "('\" We are ready to fight to our last breath -- Australia must play at its absolute best to win , \" said Newcombe , who described the tie as the toughest he has faced as captain .', {'entities': [(46, 55, 'LOC'), (103, 111, 'PER')]})\n"
     ]
    },
    {
     "name": "stdout",
     "output_type": "stream",
     "text": [
      "(\"Australia last won the Davis Cup in 1986 , but they were beaten finalists against Germany three years ago under Fraser 's guidance .\", {'entities': [(0, 9, 'LOC'), (23, 32, 'MISC'), (82, 89, 'LOC'), (112, 118, 'PER')]})\n",
      "('-DOCSTART-', {'entities': []})\n",
      "('BADMINTON - MALAYSIAN OPEN RESULTS .', {'entities': [(12, 26, 'MISC')]})\n",
      "('KUALA LUMPUR 1996-08-22', {'entities': [(0, 12, 'LOC')]})\n",
      "('Results in the Malaysian', {'entities': [(15, 24, 'MISC')]})\n",
      "('Open badminton tournament on Thursday ( prefix number denotes', {'entities': [(0, 4, 'MISC')]})\n",
      "('seeding ) :', {'entities': []})\n",
      "(\"Men 's singles , third round\", {'entities': []})\n",
      "('9/16 - Luo Yigang ( China ) beat Hwang Sun-ho ( South Korea ) 15-3', {'entities': [(7, 17, 'PER'), (20, 25, 'LOC'), (33, 38, 'PER'), (39, 45, 'MISC'), (48, 59, 'LOC')]})\n",
      "('15-7', {'entities': []})\n",
      "('Jason Wong ( Malaysia ) beat Abdul Samad Ismail ( Malaysia ) 16-18', {'entities': [(0, 10, 'PER'), (13, 21, 'LOC'), (29, 47, 'PER'), (50, 58, 'LOC')]})\n",
      "('15-2 17-14', {'entities': []})\n",
      "('P. Kantharoopan ( Malaysia ) beat 3/4 - Jeroen Van Dijk', {'entities': [(0, 15, 'PER'), (18, 26, 'LOC'), (40, 55, 'PER')]})\n",
      "('( Netherlands ) 15-11 18-14', {'entities': [(2, 13, 'LOC')]})\n",
      "('Wijaya Indra ( Indonesia ) beat 5/8 - Pang Chen ( Malaysia ) 15-6', {'entities': [(0, 12, 'PER'), (15, 24, 'LOC'), (38, 47, 'PER'), (50, 58, 'LOC')]})\n",
      "('6-15 15-7', {'entities': []})\n",
      "('3/4 - Hu Zhilan ( China ) beat Nunung Subandoro ( Indonesia ) 5-15', {'entities': [(6, 15, 'PER'), (18, 23, 'LOC'), (31, 47, 'PER'), (50, 59, 'LOC')]})\n",
      "('18-15 15-6', {'entities': []})\n",
      "('9/16 - Hermawan Susanto ( Indonesia ) beat 1 - Fung Permadi ( Taiwan )', {'entities': [(7, 23, 'PER'), (26, 35, 'LOC'), (47, 59, 'PER'), (62, 68, 'LOC')]})\n",
      "('15-8 15-12', {'entities': []})\n",
      "(\"Women 's singles 2nd round\", {'entities': []})\n",
      "('1 - Wang Chen ( China ) beat Cindana ( Indonesia ) 11-3 1ama ( Japan ) beat Margit Borg ( Sweden ) 11-6 11-6', {'entities': [(4, 13, 'PER'), (16, 21, 'LOC'), (29, 36, 'PER'), (39, 48, 'LOC'), (56, 60, 'PER'), (63, 68, 'LOC'), (76, 87, 'PER'), (90, 96, 'LOC')]})\n",
      "('Sun Jian ( China ) beat Marina Andrievskaqya ( Sweden ) 11-8 11-2', {'entities': [(0, 8, 'PER'), (11, 16, 'LOC'), (24, 44, 'PER'), (47, 53, 'LOC')]})\n",
      "('5/8 - Meluawati ( Indonesia ) beat Chan Chia Fong ( Malaysia ) 11-6', {'entities': [(6, 15, 'PER'), (18, 27, 'LOC'), (35, 49, 'PER'), (52, 60, 'LOC')]})\n",
      "('11-1', {'entities': []})\n",
      "('Gong Zhichao ( China ) beat Liu Lufung ( China ) 6-11 11-7 11-3', {'entities': [(0, 12, 'PER'), (15, 20, 'LOC'), (28, 38, 'PER'), (41, 46, 'LOC')]})\n",
      "('Zeng Yaqiong ( China ) beat Li Feng ( New Zealand ) 11-9 11-6', {'entities': [(0, 12, 'PER'), (15, 20, 'LOC'), (28, 35, 'PER'), (38, 49, 'LOC')]})\n",
      "('5/8 - Christine Magnusson ( Sweden ) beat Ishwari Boopathy', {'entities': [(6, 25, 'PER'), (28, 34, 'LOC'), (42, 58, 'PER')]})\n",
      "('( Malaysia ) 11-1 10-12 11-4', {'entities': [(2, 10, 'LOC')]})\n",
      "('2 - Zhang Ning ( China ) beat Olivia ( Indonesia ) 11-8 11-6', {'entities': [(4, 14, 'PER'), (17, 22, 'LOC'), (30, 36, 'PER'), (39, 48, 'LOC')]})\n",
      "('-DOCSTART-', {'entities': []})\n",
      "(\"TENNIS - REVISED MEN 'S DRAW FOR U.S. OPEN .\", {'entities': [(33, 42, 'MISC')]})\n",
      "('NEW YORK 1996-08-22', {'entities': [(0, 8, 'LOC')]})\n",
      "('Revised singles draw for the', {'entities': []})\n",
      "('U.S. Open tennis championships beginning Monday at the U.S .', {'entities': [(0, 9, 'MISC'), (55, 58, 'LOC')]})\n",
      "('National Tennis Centre ( prefix denotes seeding ) :', {'entities': [(0, 22, 'LOC')]})\n",
      "(\"Men 's Draw\", {'entities': []})\n",
      "('1 - Pete Sampras ( U.S. ) vs. Adrian Voinea ( Romania )', {'entities': [(4, 16, 'PER'), (19, 23, 'LOC'), (30, 43, 'PER'), (46, 53, 'LOC')]})\n",
      "('Jiri Novak ( Czech Republic ) vs. qualifier', {'entities': [(0, 10, 'PER'), (13, 27, 'LOC')]})\n",
      "('Magnus Larsson ( Sweden ) vs. Alexander Volkov ( Russia )', {'entities': [(0, 14, 'PER'), (17, 23, 'LOC'), (30, 46, 'PER'), (49, 55, 'LOC')]})\n",
      "('Mikael Tillstrom ( Sweden ) vs qualifier', {'entities': [(0, 16, 'PER'), (19, 25, 'LOC')]})\n",
      "('Qualifier vs. Andrei Olhovskiy ( Russia )', {'entities': [(14, 30, 'PER'), (33, 39, 'LOC')]})\n",
      "('Mark Woodforde ( Australia ) vs. Mark Philippoussis ( Australia )', {'entities': [(0, 14, 'PER'), (17, 26, 'LOC'), (33, 51, 'PER'), (54, 63, 'LOC')]})\n",
      "('Roberto Carretero ( Spain ) vs. Jordi Burillo ( Spain )', {'entities': [(0, 17, 'PER'), (20, 25, 'LOC'), (32, 45, 'PER'), (48, 53, 'LOC')]})\n",
      "('Francisco Clavet ( Spain ) vs. 16 - Cedric Pioline ( France )', {'entities': [(0, 16, 'PER'), (19, 24, 'LOC'), (36, 50, 'PER'), (53, 59, 'LOC')]})\n",
      "('------------------------', {'entities': []})\n",
      "('9 - Wayne Ferreira ( South Africa ) vs. qualifier', {'entities': [(4, 18, 'PER'), (21, 33, 'LOC')]})\n",
      "('Karol Kucera ( Slovakia ) vs. Jonas Bjorkman ( Sweden )', {'entities': [(0, 12, 'PER'), (15, 23, 'LOC'), (30, 44, 'PER'), (47, 53, 'LOC')]})\n",
      "('Qualifier vs. Christian Rudd ( Norway )', {'entities': [(14, 28, 'PER'), (31, 37, 'LOC')]})\n",
      "('Alex Corretja ( Spain ) vs. Byron Black ( Zimbabwe )', {'entities': [(0, 13, 'PER'), (16, 21, 'LOC'), (28, 39, 'PER'), (42, 50, 'LOC')]})\n",
      "('David Rikl ( Czech Republic ) vs. Hicham Arazi ( Morocco )', {'entities': [(0, 10, 'PER'), (13, 27, 'LOC'), (34, 46, 'PER'), (49, 56, 'LOC')]})\n",
      "('Sjeng Schalken ( Netherlands ) vs. Gilbert Schaller ( Austria )', {'entities': [(0, 14, 'PER'), (17, 28, 'LOC'), (35, 51, 'PER'), (54, 61, 'LOC')]})\n",
      "('Grant Stafford ( South Africa ) vs. Guy Forget ( France )', {'entities': [(0, 14, 'PER'), (17, 29, 'LOC'), (36, 46, 'PER'), (49, 55, 'LOC')]})\n",
      "('Fernando Meligeni ( Brazil ) vs. 7 - Yevgeny Kafelnikov ( Russia )', {'entities': [(0, 17, 'PER'), (20, 26, 'LOC'), (37, 55, 'PER'), (58, 64, 'LOC')]})\n",
      "('------------------------', {'entities': []})\n",
      "('4 - Goran Ivanisevic ( Croatia ) vs. Andrei Chesnokov ( Russia )', {'entities': [(4, 20, 'PER'), (23, 30, 'LOC'), (37, 53, 'PER'), (56, 62, 'LOC')]})\n",
      "('Scott Draper ( Australia ) vs. Galo Blanco ( Spain )', {'entities': [(0, 12, 'PER'), (15, 24, 'LOC'), (31, 42, 'PER'), (45, 50, 'LOC')]})\n",
      "('Renzo Furlan ( Italy ) vs. Thomas Johansson ( Sweden )', {'entities': [(0, 12, 'PER'), (15, 20, 'LOC'), (27, 43, 'PER'), (46, 52, 'LOC')]})\n",
      "('Hendrik Dreekman ( Germany ) vs. Greg Rusedski ( Britain )', {'entities': [(0, 16, 'PER'), (19, 26, 'LOC'), (33, 46, 'PER'), (49, 56, 'LOC')]})\n",
      "('Andrei Medvedev ( Ukraine ) vs. Jean-Philippe Fleurian ( France )', {'entities': [(0, 15, 'PER'), (18, 25, 'LOC'), (32, 54, 'PER'), (57, 63, 'LOC')]})\n",
      "('Jan Kroslak ( Slovakia ) vs. Chris Woodruff ( U.S. )', {'entities': [(0, 11, 'PER'), (14, 22, 'LOC'), (29, 43, 'PER'), (46, 50, 'LOC')]})\n",
      "('Qualifier vs. Petr Korda ( Czech Republic )', {'entities': [(14, 24, 'PER'), (27, 41, 'LOC')]})\n",
      "('Bohdan Ulihrach ( Czech Republic ) vs. 14 - Alberto Costa', {'entities': [(0, 15, 'PER'), (18, 32, 'LOC'), (44, 57, 'PER')]})\n",
      "('( Spain )', {'entities': [(2, 7, 'LOC')]})\n",
      "('------------------------', {'entities': []})\n",
      "('12 - Todd Martin ( U.S. ) vs. Younnes El Aynaoui ( Morocco )', {'entities': [(5, 16, 'PER'), (19, 23, 'LOC'), (30, 48, 'PER'), (51, 58, 'LOC')]})\n",
      "('Andrea Gaudenzi ( Italy ) vs. Shuzo Matsuoka ( Japan )', {'entities': [(0, 15, 'PER'), (18, 23, 'LOC'), (30, 44, 'PER'), (47, 52, 'LOC')]})\n",
      "('Doug Flach ( U.S. ) vs. qualifier', {'entities': [(0, 10, 'PER'), (13, 17, 'LOC')]})\n",
      "('Mats Wilander ( Sweden ) vs. Tim Henman ( Britain )', {'entities': [(0, 13, 'PER'), (16, 22, 'LOC'), (29, 39, 'PER'), (42, 49, 'LOC')]})\n",
      "('Paul Haarhuis ( Netherlands ) vs. Michael Joyce ( U.S. )', {'entities': [(0, 13, 'PER'), (16, 27, 'LOC'), (34, 47, 'PER'), (50, 54, 'LOC')]})\n",
      "('Michael Tebbutt ( Australia ) vs. Richey Reneberg ( U.S. )', {'entities': [(0, 15, 'PER'), (18, 27, 'LOC'), (34, 49, 'PER'), (52, 56, 'LOC')]})\n",
      "('Jonathan Stark ( U.S. ) vs. Bernd Karbacher ( Germany )', {'entities': [(0, 14, 'PER'), (17, 21, 'LOC'), (28, 43, 'PER'), (46, 53, 'LOC')]})\n",
      "('Stefan Edberg ( Sweden ) vs. 5 - Richard Krajicek ( Netherlands )', {'entities': [(0, 13, 'PER'), (16, 22, 'LOC'), (33, 49, 'PER'), (52, 63, 'LOC')]})\n",
      "('------------------------', {'entities': []})\n",
      "('6 - Andre Agassi ( U.S. ) vs. Mauricio Hadad ( Colombia )', {'entities': [(4, 16, 'PER'), (19, 23, 'LOC'), (30, 44, 'PER'), (47, 55, 'LOC')]})\n",
      "('Marcos Ondruska ( South Africa ) vs. Felix Mantilla ( Spain )', {'entities': [(0, 15, 'PER'), (18, 30, 'LOC'), (37, 51, 'PER'), (54, 59, 'LOC')]})\n",
      "('Carlos Moya ( Spain ) vs. Scott Humphries ( U.S. )', {'entities': [(0, 11, 'PER'), (14, 19, 'LOC'), (26, 41, 'PER'), (44, 48, 'LOC')]})\n",
      "('Jan Siemerink ( Netherlands ) vs. Carl-Uwe Steeb ( Germany )', {'entities': [(0, 13, 'PER'), (16, 27, 'LOC'), (34, 48, 'PER'), (51, 58, 'LOC')]})\n",
      "('Qualifier vs. qualifier', {'entities': []})\n",
      "('David Wheaton ( U.S. ) vs. Kevin Kim ( U.S. )', {'entities': [(0, 13, 'PER'), (16, 20, 'LOC'), (27, 36, 'PER'), (39, 43, 'LOC')]})\n",
      "(\"Nicolas Lapentti ( Ecuador ) vs. Alex O'Brien ( U.S. )\", {'entities': [(0, 16, 'PER'), (19, 26, 'LOC'), (33, 45, 'PER'), (48, 52, 'LOC')]})\n",
      "('Karim Alami ( Morocco ) vs. 11 - MaliVai Washington ( U.S. )', {'entities': [(0, 11, 'PER'), (14, 21, 'LOC'), (33, 51, 'PER'), (54, 58, 'LOC')]})\n",
      "('------------------------', {'entities': []})\n",
      "('13 - Thomas Enqvist ( Sweden ) vs. Stephane Simian ( France )', {'entities': [(5, 19, 'PER'), (22, 28, 'LOC'), (35, 50, 'PER'), (53, 59, 'LOC')]})\n",
      "('Guillaume Raoux ( France ) vs. Filip Dewulf ( Belgium )', {'entities': [(0, 15, 'PER'), (18, 24, 'LOC'), (31, 43, 'PER'), (46, 53, 'LOC')]})\n",
      "('Mark Knowles ( Bahamas ) vs. Marcelo Filippini ( Uruguay )', {'entities': [(0, 12, 'PER'), (15, 22, 'LOC'), (29, 46, 'PER'), (49, 56, 'LOC')]})\n",
      "('Todd Woodbridge ( Australia ) vs. qualifier', {'entities': [(0, 15, 'PER'), (18, 27, 'LOC')]})\n",
      "('Kris Goossens ( Belgium ) vs. Sergi Bruguera ( Spain )', {'entities': [(0, 13, 'PER'), (16, 23, 'LOC'), (30, 44, 'PER'), (47, 52, 'LOC')]})\n",
      "('Qualifier vs. Michael Stich ( Germany )', {'entities': [(14, 27, 'PER'), (30, 37, 'LOC')]})\n",
      "('Qualifier vs. Chuck Adams ( U.S. )', {'entities': [(14, 25, 'PER'), (28, 32, 'LOC')]})\n",
      "('Javier Frana ( Argentina ) vs. 3 - Thomas Muster ( Austria )', {'entities': [(0, 12, 'PER'), (15, 24, 'LOC'), (35, 48, 'PER'), (51, 58, 'LOC')]})\n",
      "('------------------------', {'entities': []})\n",
      "('8 - Jim Courier ( U.S. ) vs. Javier Sanchez ( Spain )', {'entities': [(4, 15, 'PER'), (18, 22, 'LOC'), (29, 43, 'PER'), (46, 51, 'LOC')]})\n",
      "('Jim Grabb ( U.S. ) vs. Sandon Stolle ( Australia )', {'entities': [(0, 9, 'PER'), (12, 16, 'LOC'), (23, 36, 'PER'), (39, 48, 'LOC')]})\n",
      "('Patrick Rafter ( Australia ) vs. Kenneth Carlsen ( Denmark )', {'entities': [(0, 14, 'PER'), (17, 26, 'LOC'), (33, 48, 'PER'), (51, 58, 'LOC')]})\n",
      "('Jason Stoltenberg ( Australia ) vs. Stefano Pescosolido ( Italy )', {'entities': [(0, 17, 'PER'), (20, 29, 'LOC'), (36, 55, 'PER'), (58, 63, 'LOC')]})\n",
      "('Arnaud Boetsch ( France ) vs. Nicolas Pereira ( Venezuela )', {'entities': [(0, 14, 'PER'), (17, 23, 'LOC'), (30, 45, 'PER'), (48, 57, 'LOC')]})\n",
      "('Carlos Costa ( Spain ) vs. Magnus Gustafsson ( Sweden )', {'entities': [(0, 12, 'PER'), (15, 20, 'LOC'), (27, 44, 'PER'), (47, 53, 'LOC')]})\n",
      "('Jeff Tarango ( U.S. ) vs. Alex Radulescu ( Germany )', {'entities': [(0, 12, 'PER'), (15, 19, 'LOC'), (26, 40, 'PER'), (43, 50, 'LOC')]})\n",
      "('Qualifier vs. 10 - Marcelo Rios ( Chile )', {'entities': [(19, 31, 'PER'), (34, 39, 'LOC')]})\n",
      "('------------------------', {'entities': []})\n",
      "('15 - Marc Rosset ( Switzerland vs. Jared Palmer ( U.S. )', {'entities': [(5, 16, 'PER'), (19, 30, 'LOC'), (35, 47, 'PER'), (50, 54, 'LOC')]})\n",
      "('Martin Damm ( Czech Republic ) vs. Hernan Gumy ( Argentina )', {'entities': [(0, 11, 'PER'), (14, 28, 'LOC'), (35, 46, 'PER'), (49, 58, 'LOC')]})\n",
      "('Nicklas Kulti ( Sweden ) vs. Jakob Hlasek ( Switzerland )', {'entities': [(0, 13, 'PER'), (16, 22, 'LOC'), (29, 41, 'PER'), (44, 55, 'LOC')]})\n",
      "('Cecil Mamiit ( U.S. ) vs. Alberto Berasategui ( Spain )', {'entities': [(0, 12, 'PER'), (15, 19, 'LOC'), (26, 45, 'PER'), (48, 53, 'LOC')]})\n",
      "('Vince Spadea ( U.S. ) vs. Daniel Vacek ( Czech Republic )', {'entities': [(0, 12, 'PER'), (15, 19, 'LOC'), (26, 38, 'PER'), (41, 55, 'LOC')]})\n",
      "('David Prinosil ( Germany ) vs. qualifier', {'entities': [(0, 14, 'PER'), (17, 24, 'LOC')]})\n",
      "('Qualifier vs. Tomas Carbonell ( Spain )', {'entities': [(14, 29, 'PER'), (32, 37, 'LOC')]})\n",
      "('Qualifier vs. 2 - Michael Chang ( U.S. )', {'entities': [(18, 31, 'PER'), (34, 38, 'LOC')]})\n",
      "('-DOCSTART-', {'entities': []})\n",
      "(\"BASEBALL - ORIOLES ' MANAGER DAVEY JOHNSON HOSPITALIZED .\", {'entities': [(11, 18, 'ORG'), (29, 42, 'PER')]})\n",
      "('BALTIMORE 1996-08-22', {'entities': [(0, 9, 'LOC')]})\n",
      "(\"Baltimore Orioles manager Davey Johnson will miss Thursday night 's game against the Seattle Mariners after being admitted to a hospital with an irregular heartbeat .\", {'entities': [(0, 17, 'ORG'), (26, 39, 'PER'), (85, 101, 'ORG')]})\n",
      "('The 53-year-old Johnson was hospitalized after experiencing dizziness .', {'entities': [(16, 23, 'PER')]})\n",
      "('\" He is in no danger and will be treated and observed this evening , \" said Orioles team physician Dr. William Goldiner , adding that Johnson is expected to be released on Friday .', {'entities': [(76, 83, 'ORG'), (103, 119, 'PER'), (134, 141, 'PER')]})\n",
      "(\"Orioles ' bench coach Andy Etchebarren will manage the club in Johnson 's absence .\", {'entities': [(0, 7, 'ORG'), (22, 38, 'PER'), (63, 70, 'PER')]})\n",
      "(\"Johnson is the second manager to be hospitalized this week after California Angels skipper John McNamara was admitted to New York 's Columbia Presbyterian Hospital on Wednesday with a blood clot in his left calf .\", {'entities': [(0, 7, 'PER'), (65, 82, 'ORG'), (91, 104, 'PER'), (121, 129, 'LOC'), (133, 163, 'LOC')]})\n",
      "('Johnson , who played eight seasons in Baltimore , was named Orioles manager in the off-season replacing Phil Regan .', {'entities': [(0, 7, 'PER'), (38, 47, 'LOC'), (60, 67, 'ORG'), (104, 114, 'PER')]})\n",
      "('He led the Cincinnati Reds to the National League Championship Series last year and guided the New York Mets to a World Series championship in 1986 .', {'entities': [(11, 26, 'ORG'), (34, 69, 'MISC'), (95, 108, 'ORG'), (114, 126, 'MISC')]})\n",
      "('Baltimore has won 16 of its last 22 games to pull within five games of the slumping New York Yankees in the American League East Division .', {'entities': [(0, 9, 'ORG'), (84, 100, 'ORG'), (108, 137, 'MISC')]})\n",
      "('-DOCSTART-', {'entities': []})\n",
      "(\"BASEBALL - MAJOR LEAGUE STANDINGS AFTER WEDNESDAY 'S GAMES .\", {'entities': [(11, 23, 'MISC')]})\n",
      "('NEW YORK 1996-08-22', {'entities': [(0, 8, 'LOC')]})\n",
      "('Major League Baseball', {'entities': [(0, 21, 'MISC')]})\n",
      "('standings after games played on Wednesday ( tabulate under won ,', {'entities': []})\n",
      "('lost , winning percentage and games behind ) :', {'entities': []})\n",
      "('AMERICAN LEAGUE', {'entities': [(0, 15, 'MISC')]})\n",
      "('EASTERN DIVISION', {'entities': [(0, 16, 'MISC')]})\n",
      "('W L PCT GB', {'entities': []})\n",
      "('NEW YORK 72 53 .576 -', {'entities': [(0, 8, 'ORG')]})\n",
      "('BALTIMORE 67 58 .536 5', {'entities': [(0, 9, 'ORG')]})\n",
      "('BOSTON 63 64 .496 10', {'entities': [(0, 6, 'ORG')]})\n",
      "('TORONTO 58 69 .457 15', {'entities': [(0, 7, 'ORG')]})\n",
      "('DETROIT 44 82 .349 28 1/2', {'entities': [(0, 7, 'ORG')]})\n",
      "('CENTRAL DIVISION', {'entities': [(0, 16, 'MISC')]})\n",
      "('CLEVELAND 76 51 .598 -', {'entities': [(0, 9, 'ORG')]})\n",
      "('CHICAGO 69 59 .539 7 1/2', {'entities': [(0, 7, 'ORG')]})\n",
      "('MINNESOTA 63 63 .500 12 1/2', {'entities': [(0, 9, 'ORG')]})\n",
      "('MILWAUKEE 60 68 .469 16 1/2', {'entities': [(0, 9, 'ORG')]})\n",
      "('KANSAS CITY 58 70 .453 18 1/2', {'entities': [(0, 11, 'ORG')]})\n",
      "('WESTERN DIVISION', {'entities': [(0, 16, 'MISC')]})\n",
      "('TEXAS 73 54 .575 -', {'entities': [(0, 5, 'ORG')]})\n",
      "('SEATTLE 64 61 .512 8', {'entities': [(0, 7, 'ORG')]})\n",
      "('OAKLAND 62 67 .481 12', {'entities': [(0, 7, 'ORG')]})\n",
      "('CALIFORNIA 58 68 .460 14 1/2', {'entities': [(0, 10, 'ORG')]})\n",
      "('THURSDAY , AUGUST 22 SCHEDULE', {'entities': []})\n",
      "('OAKLAND AT BOSTON', {'entities': [(0, 7, 'ORG'), (11, 17, 'LOC')]})\n",
      "('SEATTLE AT BALTIMORE', {'entities': [(0, 7, 'ORG'), (11, 20, 'LOC')]})\n",
      "('CALIFORNIA AT NEW YORK', {'entities': [(0, 10, 'ORG'), (14, 22, 'LOC')]})\n",
      "('TORONTO AT CHICAGO', {'entities': [(0, 7, 'ORG'), (11, 18, 'LOC')]})\n",
      "('DETROIT AT KANSAS CITY', {'entities': [(0, 7, 'ORG'), (11, 22, 'LOC')]})\n"
     ]
    },
    {
     "name": "stdout",
     "output_type": "stream",
     "text": [
      "('TEXAS AT MINNESOTA', {'entities': [(0, 5, 'ORG'), (9, 18, 'LOC')]})\n",
      "('NATIONAL LEAGUE', {'entities': [(0, 15, 'MISC')]})\n",
      "('EASTERN DIVISION', {'entities': [(0, 16, 'MISC')]})\n",
      "('W L PCT GB', {'entities': []})\n",
      "('ATLANTA 79 46 .632 -', {'entities': [(0, 7, 'ORG')]})\n",
      "('MONTREAL 67 58 .536 12', {'entities': [(0, 8, 'ORG')]})\n",
      "('NEW YORK 59 69 .461 21 1/2', {'entities': [(0, 8, 'ORG')]})\n",
      "('FLORIDA 58 69 .457 22', {'entities': [(0, 7, 'ORG')]})\n",
      "('PHILADELPHIA 52 75 .409 28', {'entities': [(0, 12, 'ORG')]})\n",
      "('CENTRAL DIVISION', {'entities': [(0, 16, 'MISC')]})\n",
      "('HOUSTON 68 59 .535 -', {'entities': [(0, 7, 'ORG')]})\n",
      "('ST LOUIS 67 59 .532 1/2', {'entities': [(0, 8, 'ORG')]})\n",
      "('CHICAGO 63 62 .504 4', {'entities': [(0, 7, 'ORG')]})\n",
      "('CINCINNATI 62 62 .500 4 1/2', {'entities': [(0, 10, 'ORG')]})\n",
      "('PITTSBURGH 53 73 .421 14 1/2', {'entities': [(0, 10, 'ORG')]})\n",
      "('WESTERN DIVISION', {'entities': [(0, 16, 'MISC')]})\n",
      "('SAN DIEGO 70 59 .543 -', {'entities': [(0, 9, 'ORG')]})\n",
      "('LOS ANGELES 66 60 .524 2 1/2', {'entities': [(0, 11, 'ORG')]})\n",
      "('COLORADO 65 62 .512 4', {'entities': [(0, 8, 'ORG')]})\n",
      "('SAN FRANCISCO 54 70 .435 13 1/2', {'entities': [(0, 13, 'ORG')]})\n",
      "('THURSDAY , AUGUST 22 SCHEDULE', {'entities': []})\n",
      "('ST LOUIS AT COLORADO', {'entities': [(0, 8, 'ORG'), (12, 20, 'LOC')]})\n",
      "('CINCINNATI AT ATLANTA', {'entities': [(0, 10, 'ORG'), (14, 21, 'LOC')]})\n",
      "('PITTSBURGH AT HOUSTON', {'entities': [(0, 10, 'ORG'), (14, 21, 'LOC')]})\n",
      "('PHILADELPHIA AT LOS ANGELES', {'entities': [(0, 12, 'ORG'), (16, 27, 'LOC')]})\n",
      "('MONTREAL AT SAN FRANCISCO', {'entities': [(0, 8, 'ORG'), (12, 25, 'LOC')]})\n",
      "('-DOCSTART-', {'entities': []})\n",
      "('BASEBALL - MAJOR LEAGUE RESULTS WEDNESDAY .', {'entities': [(11, 23, 'MISC')]})\n",
      "('NEW YORK 1996-08-22', {'entities': [(0, 8, 'LOC')]})\n",
      "('Results of Major League', {'entities': [(11, 23, 'MISC')]})\n",
      "('Baseball games played on Wednesday ( home team in CAPS ) :', {'entities': []})\n",
      "('American League', {'entities': [(0, 15, 'MISC')]})\n",
      "('California 7 NEW YORK 1', {'entities': [(0, 10, 'ORG'), (13, 21, 'ORG')]})\n",
      "('DETROIT 7 Chicago 4', {'entities': [(0, 7, 'ORG'), (10, 17, 'ORG')]})\n",
      "('Milwaukee 10 MINNESOTA 7', {'entities': [(0, 9, 'ORG'), (13, 22, 'ORG')]})\n",
      "('BOSTON 6 Oakland 4', {'entities': [(0, 6, 'ORG'), (9, 16, 'ORG')]})\n",
      "('BALTIMORE 10 Seattle 5', {'entities': [(0, 9, 'ORG'), (13, 20, 'ORG')]})\n",
      "('Texas 10 CLEVELAND 8 ( in 10 )', {'entities': [(0, 5, 'ORG'), (9, 18, 'ORG')]})\n",
      "('Toronto 6 KANSAS CITY 2', {'entities': [(0, 7, 'ORG'), (10, 21, 'ORG')]})\n",
      "('National League', {'entities': [(0, 15, 'MISC')]})\n",
      "('CHICAGO 8 Florida 3', {'entities': [(0, 7, 'ORG'), (10, 17, 'ORG')]})\n",
      "('SAN FRANCISCO 12 New York 11', {'entities': [(0, 13, 'ORG'), (17, 25, 'ORG')]})\n",
      "('ATLANTA 4 Cincinnati 3', {'entities': [(0, 7, 'ORG'), (10, 20, 'ORG')]})\n",
      "('Pittsburgh 5 HOUSTON 2', {'entities': [(0, 10, 'ORG'), (13, 20, 'ORG')]})\n",
      "('COLORADO 10 St Louis 2', {'entities': [(0, 8, 'ORG'), (12, 20, 'ORG')]})\n",
      "('Philadelphia 6 LOS ANGELES 0', {'entities': [(0, 12, 'ORG'), (15, 26, 'ORG')]})\n",
      "('SAN DIEGO 7 Montreal 2', {'entities': [(0, 9, 'ORG'), (12, 20, 'ORG')]})\n",
      "('-DOCSTART-', {'entities': []})\n",
      "('BASEBALL - GREER HOMER IN 10TH LIFTS TEXAS PAST INDIANS .', {'entities': [(11, 16, 'PER'), (37, 42, 'ORG'), (48, 55, 'ORG')]})\n",
      "('CLEVELAND 1996-08-22', {'entities': [(0, 9, 'LOC')]})\n",
      "(\"Rusty Greer 's two-run homer in the top of the 10th inning rallied the Texas Rangers to a 10-8 victory over the Cleveland Indians Wednesday in the rubber game of a three-game series between division leaders .\", {'entities': [(0, 11, 'PER'), (71, 84, 'ORG'), (112, 129, 'ORG')]})\n",
      "('With one out , Greer hit a 1-1 pitch from Julian Tavarez ( 4-7 ) over the right-field fence for his 15th home run .', {'entities': [(15, 20, 'PER'), (42, 56, 'PER')]})\n",
      "('\" It was an off-speed pitch and I just tried to get a good swing on it and put it in play , \" Greer said . \"', {'entities': [(94, 99, 'PER')]})\n",
      "('This was a big game .', {'entities': []})\n",
      "('The crowd was behind him and it was intense . \"', {'entities': []})\n",
      "('The shot brought home Ivan Rodriguez , who had his second double of the game , giving him 42 this season , 41 as a catcher .', {'entities': [(22, 36, 'PER')]})\n",
      "('He joined Mickey Cochrane , Johnny Bench and Terry Kennedy as the only catchers with 40 doubles in a season .', {'entities': [(10, 25, 'PER'), (28, 40, 'PER'), (45, 58, 'PER')]})\n",
      "('The Rangers have won 10 of their last 12 games and six of nine meetings against the Indians this season .', {'entities': [(4, 11, 'ORG'), (84, 91, 'ORG')]})\n",
      "(\"The American League Western leaders have won eight of 15 games at Jacobs Field , joining the Yankees as the only teams with a winning record at the A.L. Central leaders ' home .\", {'entities': [(4, 27, 'MISC'), (66, 78, 'LOC'), (93, 100, 'ORG'), (148, 160, 'MISC')]})\n",
      "('Cleveland lost for just the second time in six games .', {'entities': [(0, 9, 'ORG')]})\n",
      "(\"The Indians sent the game into extra innings in the ninth on Kenny Lofton 's two-run single .\", {'entities': [(4, 11, 'ORG'), (61, 73, 'PER')]})\n",
      "('Ed Vosberg ( 1-0 ) blew his first save opportunity but got the win , allowing three hits with two walks and three strikeouts in 1 2/3 scoreless innings .', {'entities': [(0, 10, 'PER')]})\n",
      "('Dean Palmer hit his 30th homer for the Rangers .', {'entities': [(0, 11, 'PER'), (39, 46, 'ORG')]})\n",
      "('In Baltimore , Cal Ripken had four hits and snapped a fifth-inning tie with a solo homer and Bobby Bonilla added a three-run shot in the seventh to power the surging Orioles to a 10-5 victory over the Seattle Mariners .', {'entities': [(3, 12, 'LOC'), (15, 25, 'PER'), (93, 106, 'PER'), (166, 173, 'ORG'), (201, 217, 'ORG')]})\n",
      "('The Mariners scored four runs in the top of the fifth to tie the game 5-5 but Ripken led off the bottom of the inning with his 21st homer off starter Sterling Hitchcock ( 12-6 ) .', {'entities': [(4, 12, 'ORG'), (78, 84, 'PER'), (150, 168, 'PER')]})\n",
      "(\"Bonilla 's blast was the first time Randy Johnson , last season 's Cy Young winner , allowed a run in five relief appearances since coming off the disabled list on August 6 .\", {'entities': [(0, 7, 'PER'), (36, 49, 'PER'), (67, 75, 'PER')]})\n",
      "('Bonilla has 21 RBI and 15 runs in his last 20 games .', {'entities': [(0, 7, 'PER'), (15, 18, 'MISC')]})\n",
      "(\"Baltimore has won seven of nine and 16 of its last 22 and cut the Yankees ' lead in the A.L. East to five games .\", {'entities': [(0, 9, 'LOC'), (66, 73, 'ORG'), (88, 97, 'MISC')]})\n",
      "('Scott Erickson ( 8-10 ) laboured to his third straight win .', {'entities': [(0, 14, 'PER')]})\n",
      "('Alex Rodriguez had two homers and four RBI for the Mariners , who have dropped three in a row and 11 of 15 .', {'entities': [(0, 14, 'PER'), (39, 42, 'MISC'), (51, 59, 'ORG')]})\n",
      "('He became the fifth shortstop in major-league history to hit 30 homers in a season and the first since Ripken hit 34 in 1991 .', {'entities': [(103, 109, 'PER')]})\n",
      "('Chris Hoiles hit his 22nd homer for Baltimore .', {'entities': [(0, 12, 'PER'), (36, 45, 'LOC')]})\n",
      "('In New York , Jason Dickson scattered 10 hits over 6 1/3 innings in his major-league debut and Chili Davis belted a homer from each side of the plate as the California Angels defeated the Yankees 7-1 .', {'entities': [(3, 11, 'LOC'), (14, 27, 'PER'), (95, 106, 'PER'), (157, 174, 'ORG'), (188, 195, 'ORG')]})\n",
      "('Dickson allowed a homer to Derek Jeter on his first major-league pitch but settled down .', {'entities': [(0, 7, 'PER'), (27, 38, 'PER')]})\n",
      "('He was the 27th pitcher used by the Angels this season , tying a major-league record .', {'entities': [(36, 42, 'ORG')]})\n",
      "('Jimmy Key ( 9-10 ) took the loss as the Yankees lost their ninth in 14 games .', {'entities': [(0, 9, 'PER'), (40, 47, 'ORG')]})\n",
      "('They stranded 11 baserunners .', {'entities': []})\n",
      "('California played without interim manager John McNamara , who was admitted to a New York hospital with a blood clot in his right calf .', {'entities': [(0, 10, 'LOC'), (42, 55, 'PER'), (80, 88, 'LOC')]})\n",
      "(\"In Boston , Mike Stanley 's bases-loaded two-run single snapped an eighth-inning tie and gave the Red Sox their third straight win , 6-4 over the Oakland Athletics .\", {'entities': [(3, 9, 'LOC'), (12, 24, 'PER'), (98, 105, 'ORG'), (146, 163, 'ORG')]})\n"
     ]
    },
    {
     "name": "stdout",
     "output_type": "stream",
     "text": [
      "('Stanley owns a .367 career batting average with the bases loaded ( 33-for-90 ) .', {'entities': [(0, 7, 'PER')]})\n",
      "(\"Boston 's Mo Vaughn went 3-for-3 with a walk , stole home for one of his three runs scored and collected his 116th RBI .\", {'entities': [(0, 6, 'LOC'), (10, 19, 'PER'), (115, 118, 'MISC')]})\n",
      "('Scott Brosius homered and drove in two runs for the Athletics , who have lost seven of their last nine games .', {'entities': [(0, 13, 'PER'), (52, 61, 'ORG')]})\n",
      "(\"In Detroit , Brad Ausmus 's three-run homer capped a four-run eighth and lifted the Tigers to a 7-4 victory over the reeling Chicago White Sox .\", {'entities': [(3, 10, 'LOC'), (13, 24, 'PER'), (84, 90, 'ORG'), (125, 142, 'ORG')]})\n",
      "('The Tigers have won consecutive games after dropping eight in a row , but have won nine of their last 12 at home .', {'entities': [(4, 10, 'ORG')]})\n",
      "('The White Sox have lost six of their last eight games .', {'entities': [(4, 13, 'ORG')]})\n",
      "('In Kansas City , Juan Guzman tossed a complete-game six-hitter to win for the first time in over a month and lower his league-best ERA as the Toronto Blue Jays won their fourth straight , 6-2 over the Royals .', {'entities': [(3, 14, 'LOC'), (17, 28, 'PER'), (131, 134, 'MISC'), (142, 159, 'ORG'), (201, 207, 'ORG')]})\n",
      "('Guzman ( 10-8 ) won for the first time since July 16 , a span of six starts .', {'entities': [(0, 6, 'PER')]})\n",
      "('He allowed two runs -- one earned -- and lowered his ERA to 2.99 .', {'entities': [(53, 56, 'MISC')]})\n",
      "(\"At Minnesota , John Jaha 's three-run homer , his 26th , capped a five-run eighth inning that rallied the Milwaukee Brewers to a 10-7 victory over the Twins .\", {'entities': [(3, 12, 'LOC'), (15, 24, 'PER'), (106, 123, 'ORG'), (151, 156, 'ORG')]})\n",
      "('Jaha added an RBI single in the ninth and had four RBI .', {'entities': [(0, 4, 'PER'), (14, 17, 'MISC'), (51, 54, 'MISC')]})\n",
      "('Jose Valentin hit his 21st homer for Milwaukee .', {'entities': [(0, 13, 'PER'), (37, 46, 'ORG')]})\n",
      "('-DOCSTART-', {'entities': []})\n",
      "('SOCCER - COCU DOUBLE EARNS PSV 4-1 WIN .', {'entities': [(9, 13, 'PER'), (27, 30, 'ORG')]})\n",
      "('AMSTERDAM 1996-08-22', {'entities': [(0, 9, 'LOC')]})\n",
      "('Philip Cocu scored twice in the second half to spur PSV Eindhoven to a 4-1 away win over NEC Nijmegen in the Dutch first division on Thursday .', {'entities': [(0, 11, 'PER'), (52, 65, 'ORG'), (89, 101, 'ORG'), (109, 114, 'MISC')]})\n",
      "('He scored from close range in the 54th minute and from a bicycle kick 13 minutes later .', {'entities': []})\n",
      "(\"Arthur Numan and Luc Nilis , Dutch top scorer last season , were PSV 's other marksmen .\", {'entities': [(0, 12, 'PER'), (17, 26, 'PER'), (29, 34, 'MISC'), (65, 68, 'ORG')]})\n",
      "('Ajax Amsterdam opened their title defence with a 1-0 win over NAC Breda on Wednesday .', {'entities': [(0, 14, 'ORG'), (62, 71, 'ORG')]})\n",
      "('-DOCSTART-', {'entities': []})\n",
      "('SOCCER - DUTCH FIRST DIVISION SUMMARY .', {'entities': [(9, 14, 'MISC')]})\n",
      "('AMSTERDAM 1996-08-22', {'entities': [(0, 9, 'LOC')]})\n",
      "(\"Summary of Thursday 's only\", {'entities': []})\n",
      "('Dutch first division match :', {'entities': [(0, 5, 'MISC')]})\n",
      "('NEC Nijmegen 1 ( Van Eykeren 15th ) PSV Eindhoven 4 ( Numan 11th ,', {'entities': [(0, 12, 'ORG'), (36, 49, 'ORG')]})\n",
      "('Nilis 42nd , Cocu 54th , 67th ) .', {'entities': [(0, 5, 'PER'), (13, 17, 'PER')]})\n",
      "('Halftime 1-2 .', {'entities': []})\n",
      "('Attendance 8,000', {'entities': []})\n",
      "('-DOCSTART-', {'entities': []})\n",
      "('SOCCER - DUTCH FIRST DIVISION RESULT .', {'entities': [(9, 14, 'MISC')]})\n",
      "('AMSTERDAM 1996-08-22', {'entities': [(0, 9, 'LOC')]})\n",
      "('Result of a Dutch first', {'entities': [(12, 17, 'MISC')]})\n",
      "('division match on Thursday :', {'entities': []})\n",
      "('NEC Nijmegen 1 PSV Eindhoven 4', {'entities': [(0, 12, 'ORG'), (15, 28, 'ORG')]})\n",
      "('-DOCSTART-', {'entities': []})\n",
      "('SOCCER - SHARPSHOOTER KNUP BACK IN SWISS SQUAD .', {'entities': [(22, 26, 'PER'), (35, 40, 'MISC')]})\n",
      "('GENEVA 1996-08-22', {'entities': [(0, 6, 'LOC')]})\n",
      "('Galatasaray striker Adrian Knup , scorer of 26 goals in 45 internationals , has been recalled by Switzerland for the World Cup qualifier against Azerbaijan in Baku on August 31 .', {'entities': [(0, 11, 'ORG'), (20, 31, 'PER'), (97, 108, 'LOC'), (117, 126, 'MISC'), (145, 155, 'LOC'), (159, 163, 'LOC')]})\n",
      "('Knup was overlooked by Artur Jorge for the European championship finals earlier this year .', {'entities': [(0, 4, 'PER'), (23, 34, 'PER'), (43, 51, 'MISC')]})\n",
      "('But new coach Rolf Fringer is clearly a Knup fan and included him in his 19-man squad on Thursday .', {'entities': [(14, 26, 'PER'), (40, 44, 'PER')]})\n",
      "('Switzerland failed to progress beyond the opening group phase in Euro 96 .', {'entities': [(0, 11, 'LOC'), (65, 72, 'MISC')]})\n",
      "('Squad :', {'entities': []})\n",
      "('Goalkeepers - Marco Pascolo ( Cagliari ) , Pascal Zuberbuehler ( Grasshoppers ) .', {'entities': [(14, 27, 'PER'), (30, 38, 'ORG'), (43, 62, 'PER'), (65, 77, 'ORG')]})\n",
      "('Defenders - Stephane Henchoz ( Hamburg ) , Marc Hottiger ( Everton ) , Yvan Quentin ( Sion ) , Ramon Vega ( Cagliari ) Raphael Wicky ( Sion ) .', {'entities': [(12, 28, 'PER'), (31, 38, 'ORG'), (43, 56, 'PER'), (59, 66, 'ORG'), (71, 83, 'PER'), (86, 90, 'ORG'), (95, 105, 'PER'), (108, 116, 'ORG'), (119, 132, 'PER'), (135, 139, 'ORG')]})\n",
      "('Midfielders - Alexandre Comisetti ( Grasshoppers ) , Antonio Esposito ( Grasshoppers ) , Sebastien Fournier ( Stuttgart ) , Christophe Ohrel ( Lausanne ) , Patrick Sylvestre ( Sion ) , David Sesa ( Servette ) , Ciriaco Sforza ( Inter Milan ) Murat Yakin ( Grasshoppers ) .', {'entities': [(14, 33, 'PER'), (36, 48, 'ORG'), (53, 69, 'PER'), (72, 84, 'ORG'), (89, 107, 'PER'), (110, 119, 'LOC'), (124, 140, 'PER'), (143, 151, 'LOC'), (156, 173, 'PER'), (176, 180, 'ORG'), (185, 195, 'PER'), (198, 206, 'ORG'), (211, 225, 'PER'), (228, 239, 'ORG'), (242, 253, 'PER'), (256, 268, 'ORG')]})\n",
      "('Strikers - Kubilay Turkyilmaz ( Grasshoppers ) , Adrian Knup ( Galatasaray ) , Christophe Bonvin ( Sion ) , Stephane Chapuisat ( Borussia Dortmund ) .', {'entities': [(11, 29, 'PER'), (32, 44, 'ORG'), (49, 60, 'PER'), (63, 74, 'ORG'), (79, 96, 'PER'), (99, 103, 'ORG'), (108, 126, 'PER'), (129, 146, 'ORG')]})\n",
      "('-DOCSTART-', {'entities': []})\n",
      "(\"ATHLETICS - IT 'S A RECORD - 40,000 BEERS ON THE HOUSE .\", {'entities': []})\n",
      "('BRUSSELS 1996-08-22', {'entities': [(0, 8, 'LOC')]})\n",
      "(\"Spectators at Friday 's Brussels grand prix meeting have an extra incentive to cheer on the athletes to world record performances -- a free glass of beer .\", {'entities': [(24, 32, 'LOC')]})\n",
      "('A Belgian brewery has offered to pay for a free round of drinks for all of the 40,000 crowd if a world record goes at the meeting , organisers said on Thursday .', {'entities': [(2, 9, 'MISC')]})\n",
      "('It could be one of the most expensive rounds of drinks ever .', {'entities': []})\n",
      "('The meeting is sold out already .', {'entities': []})\n",
      "(\"Two world records are in serious danger of being broken at the meeting -- the women 's 1,000 metres and the men 's 3,000 metres .\", {'entities': []})\n",
      "('-DOCSTART-', {'entities': []})\n",
      "('GOLF - GERMAN OPEN FIRST ROUND SCORES .', {'entities': [(7, 18, 'MISC')]})\n",
      "('STUTTGART , Germany 1996-08-22', {'entities': [(0, 9, 'LOC'), (12, 19, 'LOC')]})\n",
      "('Leading first round', {'entities': []})\n",
      "('scores in the German Open golf championship on Thursday ( Britain', {'entities': [(14, 25, 'MISC'), (58, 65, 'LOC')]})\n",
      "('unless stated ) :', {'entities': []})\n",
      "('62 Paul Broadhurst', {'entities': [(3, 18, 'PER')]})\n",
      "('63 Raymond Russell', {'entities': [(3, 18, 'PER')]})\n",
      "('64 David J. Russell , Michael Campbell ( New Zealand ) , Ian', {'entities': [(3, 19, 'PER'), (22, 38, 'PER'), (41, 52, 'LOC'), (57, 60, 'PER')]})\n",
      "('Woosnam , Bernhard Langer ( Germany ) , Ronan Rafferty , Mats', {'entities': [(0, 7, 'PER'), (10, 25, 'PER'), (28, 35, 'LOC'), (40, 54, 'PER'), (57, 61, 'PER')]})\n",
      "('Lanner ( Sweden ) , Wayne Riley ( Australia )', {'entities': [(0, 6, 'PER'), (9, 15, 'LOC'), (20, 31, 'PER'), (34, 43, 'LOC')]})\n",
      "('65 Eamonn Darcy ( Ireland ) , Per Nyman ( Sweden ) , Russell Claydon ,', {'entities': [(3, 15, 'PER'), (18, 25, 'LOC'), (30, 39, 'PER'), (42, 48, 'LOC'), (53, 68, 'PER')]})\n",
      "('Mark Roe , Retief Goosen ( South Africa ) , Carl Suneson', {'entities': [(0, 8, 'PER'), (11, 24, 'PER'), (27, 39, 'LOC'), (44, 56, 'PER')]})\n",
      "('66 Stephen Field , Paul Lawrie , Ian Pyman , Max Anglert', {'entities': [(3, 16, 'PER'), (19, 30, 'PER'), (33, 42, 'PER'), (45, 56, 'PER')]})\n",
      "('( Sweden ) , Miles Tunnicliff , Christian Cevaer ( France ) ,', {'entities': [(2, 8, 'LOC'), (13, 29, 'PER'), (32, 48, 'PER'), (51, 57, 'LOC')]})\n",
      "('Des Smyth ( Ireland ) , David Carter , Lee Westwood , Greg', {'entities': [(0, 9, 'PER'), (12, 19, 'LOC'), (24, 36, 'PER'), (39, 51, 'PER'), (54, 58, 'PER')]})\n",
      "('Chalmers ( Australia ) , Miguel Angel Martin ( Spain ) ,', {'entities': [(0, 8, 'PER'), (11, 20, 'LOC'), (25, 44, 'PER'), (47, 52, 'LOC')]})\n",
      "('Thomas Bjorn ( Denmark ) , Fernando Roca ( Spain ) , Derrick', {'entities': [(0, 12, 'PER'), (15, 22, 'LOC'), (27, 40, 'PER'), (43, 48, 'LOC'), (53, 60, 'PER')]})\n",
      "('Cooper', {'entities': [(0, 6, 'PER')]})\n",
      "('67 Jeff Hawksworth , Padraig Harrington ( Ireland ) , Michael', {'entities': [(3, 18, 'PER'), (21, 39, 'PER'), (42, 49, 'LOC'), (54, 61, 'PER')]})\n",
      "('Welch , Thomas Gogele ( Germany ) , Paul McGinley ( Ireland ) ,', {'entities': [(0, 5, 'PER'), (8, 21, 'PER'), (24, 31, 'LOC'), (36, 49, 'PER'), (52, 59, 'LOC')]})\n",
      "('Gary Orr , Jose-Maria Canizares ( Spain ) , Michael Jonzon', {'entities': [(0, 8, 'PER'), (11, 31, 'PER'), (34, 39, 'LOC'), (44, 58, 'PER')]})\n",
      "('( Sweden ) , Paul Eales , David Williams , Andrew Coltart ,', {'entities': [(2, 8, 'LOC'), (13, 23, 'PER'), (26, 40, 'PER'), (43, 57, 'PER')]})\n",
      "('Jonathan Lomas , Jose Rivero ( Spain ) , Robert Karlsson', {'entities': [(0, 14, 'PER'), (17, 28, 'PER'), (31, 36, 'LOC'), (41, 56, 'PER')]})\n",
      "('( Sweden ) , Marcus Wills , Pedro Linhart ( Spain ) , Jamie', {'entities': [(2, 8, 'LOC'), (13, 25, 'PER'), (28, 41, 'PER'), (44, 49, 'LOC'), (54, 59, 'PER')]})\n",
      "('Spence , Terry Price ( Australia ) , Juan Carlos Pinero ( Spain ) ,', {'entities': [(0, 6, 'PER'), (9, 20, 'PER'), (23, 32, 'LOC'), (37, 55, 'PER'), (58, 63, 'LOC')]})\n",
      "('Mark Mouland', {'entities': [(0, 12, 'PER')]})\n",
      "('-DOCSTART-', {'entities': []})\n"
     ]
    }
   ],
   "source": [
    "for t in (training_examples + test_examples)[0:1000]:\n",
    "    print(t)"
   ]
  },
  {
   "cell_type": "markdown",
   "metadata": {
    "colab_type": "text",
    "id": "CtUMMkhi7RKJ"
   },
   "source": [
    "# **Download and Load pretrained model**"
   ]
  },
  {
   "cell_type": "code",
   "execution_count": 24,
   "metadata": {
    "colab": {
     "base_uri": "https://localhost:8080/",
     "height": 50
    },
    "colab_type": "code",
    "id": "zLApjS-77RKK",
    "outputId": "2cec703a-6935-4f18-ca61-56ecdf559573"
   },
   "outputs": [
    {
     "name": "stdout",
     "output_type": "stream",
     "text": [
      "✔ Download and installation successful\n",
      "You can now load the model via spacy.load('en_core_web_md')\n"
     ]
    }
   ],
   "source": [
    "import spacy.cli\n",
    "spacy.cli.download(\"en_core_web_md\")\n",
    "pretrained_nlp = spacy.load('en_core_web_md')"
   ]
  },
  {
   "cell_type": "markdown",
   "metadata": {
    "colab_type": "text",
    "id": "lClWsYy17RKZ"
   },
   "source": [
    "# **Exploratory analysis of the dataset to find the texts corresponding different labels**\n",
    "\n",
    "The NER entities of SpaCy's model and the manually annotated labels of the dataset dont match. So we need to map those labels to the closest entities that SpaCy's NER model deals with. \n",
    "\n",
    "This analysis will help us figure out the intention of the human annotator such that we can then be able to map the labels from the dataset's domain to the closest labels that the model was trained on. \n",
    "\n",
    "Labels is the dataset:\n",
    "* 'LOC'\n",
    "* 'PER'\n",
    "* 'ORG'\n",
    "* 'MISC'\n",
    "\n",
    "Labels that the model was trained with:\n",
    "* 'NORP'       \n",
    "* 'WORK_OF_ART'\n",
    "* 'FAC'        \n",
    "* 'PRODUCT'    \n",
    "* 'EVENT'      \n",
    "* 'GPE'        \n",
    "* 'LOC'        \n",
    "* 'ORG'        \n",
    "* 'PERSON'     \n",
    "\n"
   ]
  },
  {
   "cell_type": "markdown",
   "metadata": {
    "colab_type": "text",
    "id": "r0ttKacx7RKW"
   },
   "source": [
    "**Printing annotated texts corresponding labels in the dataset's domain**"
   ]
  },
  {
   "cell_type": "code",
   "execution_count": 10,
   "metadata": {
    "colab": {
     "base_uri": "https://localhost:8080/",
     "height": 1000
    },
    "colab_type": "code",
    "id": "OgeSi6la7RKX",
    "outputId": "4faa1efa-740a-4dfb-cb12-8b34c9abb5ce",
    "scrolled": true
   },
   "outputs": [
    {
     "name": "stdout",
     "output_type": "stream",
     "text": [
      "set_len(ORG) = 795\n",
      "set_len(MISC) = 301\n",
      "set_len(PER) = 1099\n",
      "set_len(LOC) = 505\n",
      "{'LOC': ['MACEDONIA',\n",
      "         'Guangxi',\n",
      "         'Venezuela',\n",
      "         'East Kalimantan',\n",
      "         'Dampier',\n",
      "         'India',\n",
      "         'Nebraska',\n",
      "         'BALKAN',\n",
      "         'Hartford',\n",
      "         'Nevada',\n",
      "         'Kaohsiung',\n",
      "         'SEOUL',\n",
      "         'Minn',\n",
      "         'Venezuela',\n",
      "         'N.IRELAND',\n",
      "         'NJ',\n",
      "         'Asia',\n",
      "         'ABIDJAN',\n",
      "         'Fos',\n",
      "         'BONN',\n",
      "         'Burkina Faso',\n",
      "         'ALBANIA',\n",
      "         'Milan',\n",
      "         'League',\n",
      "         'KUUSAMO',\n",
      "         'San Francisco',\n",
      "         'Pakistan',\n",
      "         'Saudi Arabia',\n",
      "         'Czech Republic',\n",
      "         'London',\n",
      "         'PAKISTAN',\n",
      "         'SYRIA',\n",
      "         'Mexico City',\n",
      "         'Slovenia',\n",
      "         'DENVER',\n",
      "         'GOLDEN STATE',\n",
      "         'DETROIT',\n",
      "         'Hebron',\n",
      "         'WARSAW',\n",
      "         'Pacific Coast',\n",
      "         'NEW ORLEANS',\n",
      "         'SAN JOSE',\n",
      "         'Arad',\n",
      "         'TIGNES',\n",
      "         'Minn',\n",
      "         'Syria',\n",
      "         'Tunis',\n",
      "         'National stadium',\n",
      "         'APPLETON',\n",
      "         'Krasnoyarsk'],\n",
      " 'MISC': ['UK-US',\n",
      "          'Jewish',\n",
      "          'Muenchener',\n",
      "          'C$',\n",
      "          'Thai',\n",
      "          'World War Two',\n",
      "          'Tong Shun',\n",
      "          'cocker spaniels',\n",
      "          'GRAND SLAM CUP',\n",
      "          'ITALIAN',\n",
      "          'Saharan Blend',\n",
      "          'Codos',\n",
      "          'sales-USDA',\n",
      "          'Liberian',\n",
      "          'Frenchman',\n",
      "          'SKIING-WORLD CUP',\n",
      "          \"Christian-Shi'ite\",\n",
      "          'EUROLEAGUE',\n",
      "          'C$',\n",
      "          'British Airways-American',\n",
      "          'Croat',\n",
      "          'Thai',\n",
      "          'JCPENNEY CLASSIC',\n",
      "          'Mauritian',\n",
      "          'East Timorese-born',\n",
      "          'US$',\n",
      "          'ACCESS',\n",
      "          'Soveit-bloc',\n",
      "          'English',\n",
      "          'Dutch',\n",
      "          'Moroccan',\n",
      "          'Indonesians',\n",
      "          'Canadian',\n",
      "          'post-Communist',\n",
      "          'Kurd',\n",
      "          'ARAB',\n",
      "          'Zaireans',\n",
      "          'Lantau Peak',\n",
      "          'Sangthai Glory',\n",
      "          'Liberian',\n",
      "          'Moslems',\n",
      "          'GMT',\n",
      "          'Zairean',\n",
      "          'S.AFRICA',\n",
      "          'F.A. Challenge Cup',\n",
      "          'Nazi',\n",
      "          'DAX',\n",
      "          'Dow',\n",
      "          'Super G',\n",
      "          'Singaporean'],\n",
      " 'ORG': ['AZ Alkmaar',\n",
      "         'Boston',\n",
      "         'Lens',\n",
      "         'Economic Planning Agency',\n",
      "         'East Stirling',\n",
      "         'Dumbarton',\n",
      "         'Nice',\n",
      "         'SACRAMENTO',\n",
      "         'Association of Southeast Asian Nations',\n",
      "         'National Alliance',\n",
      "         'ASEAN',\n",
      "         'DOT',\n",
      "         'Homestake Mining Co',\n",
      "         'Cleveland',\n",
      "         'OAKLAND',\n",
      "         'OIC',\n",
      "         'Real Betis',\n",
      "         'Irish Republican Army',\n",
      "         'New Mexico Activities Association',\n",
      "         'REUTER',\n",
      "         'Benfica',\n",
      "         'Berwick',\n",
      "         'Zywiec',\n",
      "         'Glentoran',\n",
      "         'Dundee',\n",
      "         'Deportivo Coruna',\n",
      "         'British Airways',\n",
      "         'Ards',\n",
      "         'PLO',\n",
      "         'Fiorentina',\n",
      "         'Brussels Newsroom',\n",
      "         'Bury',\n",
      "         'Mobil',\n",
      "         'Boreham Wood',\n",
      "         'Real Sociedad',\n",
      "         'Sidek',\n",
      "         'Vancouver Canucks',\n",
      "         'NY RANGERS',\n",
      "         'Nantes',\n",
      "         'Gazzetta dello Sport',\n",
      "         'Czech Republic I',\n",
      "         'Celta Vigo',\n",
      "         'Watsonians',\n",
      "         'Dundee United',\n",
      "         'Montreal',\n",
      "         'Torquay',\n",
      "         'NY RANGERS',\n",
      "         'Marseille',\n",
      "         'Reading',\n",
      "         'First Union Capital Markets Corp.'],\n",
      " 'PER': ['Tatjana Mittermayer',\n",
      "         'Eduard Dervishi',\n",
      "         'Xue Rulhong',\n",
      "         'Waqar',\n",
      "         'Jose Ribalta',\n",
      "         'Tae Satoya',\n",
      "         'Umar Said',\n",
      "         'Doull',\n",
      "         'Christophe Grelombe',\n",
      "         'Alessandra Mussolini',\n",
      "         'Tony',\n",
      "         'R. Kennedy',\n",
      "         'Aung San',\n",
      "         'Gillespie',\n",
      "         'Juan Aisa',\n",
      "         'Paulo Alves',\n",
      "         'Gerard Van Velde',\n",
      "         'Fabio Cannavaro',\n",
      "         'P. Reiffel',\n",
      "         'Emiliano Bigica',\n",
      "         'Corrado Covi',\n",
      "         'L. Germon',\n",
      "         'Miller',\n",
      "         'Zieleniec',\n",
      "         'Ferguson',\n",
      "         'Konterman',\n",
      "         'Alena Koroleva',\n",
      "         'Massimo Giovanelli',\n",
      "         'Chernyshev',\n",
      "         'Nelson Mandela',\n",
      "         'Mubarak',\n",
      "         \"Japhet N'Doram\",\n",
      "         'Mikhail Gorbachev',\n",
      "         'Gilbert Le Gras',\n",
      "         'Robert Mugabe',\n",
      "         'Funaki',\n",
      "         'Leszic Betcher',\n",
      "         'Ryan Johnson',\n",
      "         'Alexander Bavykin',\n",
      "         'McGregor',\n",
      "         'Tim Gavin',\n",
      "         'Vialli',\n",
      "         'Curtly Ambrose',\n",
      "         'Indra Wijaya',\n",
      "         'Konstantin Chernyshev',\n",
      "         'Chirac',\n",
      "         'Ian Dougan',\n",
      "         'Gladishiva',\n",
      "         'Paramygina',\n",
      "         'Carlos Ponce']}\n"
     ]
    }
   ],
   "source": [
    "labels2text_dict_train    = spacy_get_annotations_by_labels(training_examples)\n",
    "labels2text_dict_test     = spacy_get_annotations_by_labels(test_examples)\n",
    "merged_dict               = merge_labels_to_text_dict(labels2text_dict_train, labels2text_dict_test)\n",
    "\n",
    "label_ = 'MISC'  # Query this labels\n",
    "display_labels2text_dict(merged_dict, 50)"
   ]
  },
  {
   "cell_type": "markdown",
   "metadata": {
    "colab_type": "text",
    "id": "KmCY4AkV0TB-"
   },
   "source": [
    "**Printing annotated texts corresponding labels in the model's domain**"
   ]
  },
  {
   "cell_type": "code",
   "execution_count": 25,
   "metadata": {},
   "outputs": [
    {
     "name": "stdout",
     "output_type": "stream",
     "text": [
      "['tagger', 'parser', 'ner']\n"
     ]
    }
   ],
   "source": [
    "doc = pretrained_nlp('Apple is a fruit')\n",
    "print(pretrained_nlp.pipe_names)\n",
    "for t in doc.ents: print(t.ent_label_)"
   ]
  },
  {
   "cell_type": "code",
   "execution_count": 19,
   "metadata": {
    "colab": {
     "base_uri": "https://localhost:8080/",
     "height": 1000
    },
    "colab_type": "code",
    "id": "a3ZxkQGf7RKa",
    "outputId": "50679b9e-33a1-448c-f82d-78d2f7e93d74",
    "scrolled": true
   },
   "outputs": [
    {
     "name": "stdout",
     "output_type": "stream",
     "text": [
      "{}\n"
     ]
    }
   ],
   "source": [
    "# Following call takes time. Uncommnet if contents of the parameter has changed\n",
    "pred_dict = spacy_ner_predictions_to_dict(test_examples, pretrained_nlp)\n",
    "\n",
    "display_labels2text_dict(pred_dict, 80)"
   ]
  },
  {
   "cell_type": "code",
   "execution_count": 17,
   "metadata": {},
   "outputs": [
    {
     "name": "stdout",
     "output_type": "stream",
     "text": [
      "{}\n"
     ]
    }
   ],
   "source": [
    "print(pred_dict)"
   ]
  },
  {
   "cell_type": "markdown",
   "metadata": {
    "colab_type": "text",
    "id": "ONnBP8KXVepd"
   },
   "source": [
    "**Post analysis mapping of labels from the dataset's domain to the model's domain**\n",
    "It was found after analysis that :\n",
    "* the label MISC from the dataset's domain map roughly to model domain labels: 'NORP', 'WORK_OF_ART', 'FAC', 'PRODUCT', 'EVENT'.\n",
    "* Dataset label 'LOC' can be mapped to model label 'GPE'/'LOC'\n",
    "* Dataset label 'ORG' can be mapped to model label 'ORG'\n",
    "* Dataset label 'PER' can be mapped to model label 'PERSON'"
   ]
  },
  {
   "cell_type": "code",
   "execution_count": 11,
   "metadata": {
    "colab": {},
    "colab_type": "code",
    "id": "z0EeqtGp7RKg"
   },
   "outputs": [],
   "source": [
    "PRED_LABELS_EQUIV_MAP = {\n",
    "    'NORP'       : 'MISC',\n",
    "    'WORK_OF_ART': 'MISC',\n",
    "    'FAC'        : 'MISC',\n",
    "    'PRODUCT'    : 'MISC',\n",
    "    'EVENT'      : 'MISC',\n",
    "    'GPE'        : 'LOC',\n",
    "    'LOC'        : 'LOC',\n",
    "    'ORG'        : 'ORG', \n",
    "    'PERSON'     : 'PER'\n",
    "}"
   ]
  },
  {
   "cell_type": "markdown",
   "metadata": {
    "colab_type": "text",
    "id": "sjHd1o4a7RKi"
   },
   "source": [
    "# **Evaluating on spaCy's pretrained, medium, vanilla model**\n",
    "\n",
    "This score would be compared with the score on the same model which has been retrained on the training data. We count the\n",
    "* Number of true positives  - Labelled correctly\n",
    "* Number of false positives - Labelled and did not got it correct AND those that should not have been labelled.\n",
    "* Number of false negatives - Those that were not labelled at all"
   ]
  },
  {
   "cell_type": "code",
   "execution_count": 12,
   "metadata": {
    "colab": {
     "base_uri": "https://localhost:8080/",
     "height": 420
    },
    "colab_type": "code",
    "id": "hJzH_cxO7RKj",
    "outputId": "27e78b04-6b1e-4b50-9091-e7eb41a1d3aa",
    "scrolled": true
   },
   "outputs": [
    {
     "name": "stdout",
     "output_type": "stream",
     "text": [
      "{'LOC': {'CNT': 34672, 'FN': 632, 'FP': 486, 'TN': 32242, 'TP': 1312},\n",
      " 'MISC': {'CNT': 23987, 'FN': 541, 'FP': 304, 'TN': 22659, 'TP': 483},\n",
      " 'ORG': {'CNT': 50198, 'FN': 1575, 'FP': 1179, 'TN': 46482, 'TP': 962},\n",
      " 'PER': {'CNT': 46624, 'FN': 958, 'FP': 731, 'TN': 43066, 'TP': 1869}}\n",
      "For label: \"PER\"\n",
      "\tAccuracy : 96.37740219629374%\n",
      "\tPrecision : 0.7188461538461538\n",
      "\tRecall : 0.6611248673505483\n",
      "\tF-score : 0.6887783305693754\n",
      "For label: \"LOC\"\n",
      "\tAccuracy : 96.77549607752654%\n",
      "\tPrecision : 0.7296996662958843\n",
      "\tRecall : 0.6748971193415638\n",
      "\tF-score : 0.7012292891501871\n",
      "For label: \"ORG\"\n",
      "\tAccuracy : 94.5137256464401%\n",
      "\tPrecision : 0.44932274638019615\n",
      "\tRecall : 0.37918801734331886\n",
      "\tF-score : 0.4112868747327918\n",
      "For label: \"MISC\"\n",
      "\tAccuracy : 96.47725851502898%\n",
      "\tPrecision : 0.613722998729352\n",
      "\tRecall : 0.4716796875\n",
      "\tF-score : 0.5334069574820541\n"
     ]
    }
   ],
   "source": [
    "#print_annotaions_and_predictions(test_examples)\n",
    "stats_per_tag = compute_scores(test_examples, pretrained_nlp, PRED_LABELS_EQUIV_MAP)\n",
    "display_perf_stats_per_tag(stats_per_tag)"
   ]
  },
  {
   "cell_type": "markdown",
   "metadata": {
    "colab_type": "text",
    "id": "TAgEQdC57RKm"
   },
   "source": [
    "# **Retraining pretrained-medium SpaCy model and evaluation**"
   ]
  },
  {
   "cell_type": "markdown",
   "metadata": {},
   "source": [
    "**Convert dataset to match domain**"
   ]
  },
  {
   "cell_type": "code",
   "execution_count": 33,
   "metadata": {},
   "outputs": [],
   "source": [
    "dataset_to_model_tag_map = { 'MISC': 'NORP',\n",
    "                             'LOC' : 'LOC',\n",
    "                             'ORG' : 'ORG',\n",
    "                             'PER' : 'PERSON'}\n",
    "mapped_examples = conv_dataset_to_match_domain(training_examples, \n",
    "                                               dataset_to_model_tag_map)"
   ]
  },
  {
   "cell_type": "code",
   "execution_count": null,
   "metadata": {
    "colab": {
     "base_uri": "https://localhost:8080/",
     "height": 370
    },
    "colab_type": "code",
    "id": "gr62Chk_7RKn",
    "outputId": "928b42a6-6bc8-4bd0-884b-2c54f75e9406",
    "scrolled": true
   },
   "outputs": [
    {
     "name": "stdout",
     "output_type": "stream",
     "text": [
      "Starting iteration 0\n"
     ]
    }
   ],
   "source": [
    "train_spacy_model(mapped_examples, pretrained_nlp)"
   ]
  },
  {
   "cell_type": "markdown",
   "metadata": {
    "colab_type": "text",
    "id": "4XX7oiws7RKp"
   },
   "source": [
    "**Evaluating the retrained model on test data** "
   ]
  },
  {
   "cell_type": "code",
   "execution_count": 14,
   "metadata": {
    "colab": {
     "base_uri": "https://localhost:8080/",
     "height": 420
    },
    "colab_type": "code",
    "id": "E6aIIvHe7RKq",
    "outputId": "8f345e3b-7b5a-4082-fd2d-c824f1b79f99"
   },
   "outputs": [
    {
     "name": "stdout",
     "output_type": "stream",
     "text": [
      "#Bytes-read: 224171774\n",
      "{'LOC': {'CNT': 34285, 'FN': 243, 'FP': 416, 'TN': 31925, 'TP': 1701},\n",
      " 'MISC': {'CNT': 23083, 'FN': 304, 'FP': 218, 'TN': 21841, 'TP': 720},\n",
      " 'ORG': {'CNT': 41865, 'FN': 673, 'FP': 359, 'TN': 38969, 'TP': 1864},\n",
      " 'PER': {'CNT': 43017, 'FN': 273, 'FP': 251, 'TN': 39939, 'TP': 2554}}\n",
      "For label: \"PER\"\n",
      "\tAccuracy : 98.78187693237557%\n",
      "\tPrecision : 0.9105169340463458\n",
      "\tRecall : 0.9034311991510435\n",
      "\tF-score : 0.9069602272727272\n",
      "For label: \"LOC\"\n",
      "\tAccuracy : 98.07787662242964%\n",
      "\tPrecision : 0.8034955125177138\n",
      "\tRecall : 0.875\n",
      "\tF-score : 0.8377246983501601\n",
      "For label: \"ORG\"\n",
      "\tAccuracy : 97.53493371551414%\n",
      "\tPrecision : 0.8385065227170491\n",
      "\tRecall : 0.7347260543949546\n",
      "\tF-score : 0.7831932773109245\n",
      "For label: \"MISC\"\n",
      "\tAccuracy : 97.73859550318417%\n",
      "\tPrecision : 0.767590618336887\n",
      "\tRecall : 0.703125\n",
      "\tF-score : 0.7339449541284404\n"
     ]
    }
   ],
   "source": [
    "#nlp_md_retrained = copy.deepcopy(pretrained_nlp) # *ExpensiveResource*. comment after execution\n",
    "\n",
    "#save_model_to_file(nlp_md_retrained, 'saved_models/retrained__md_spacy_model.bin')\n",
    "\n",
    "loaded = load_model_from_file('saved_models/retrained__md_spacy_model.bin', \n",
    "                              spacy.load('en_core_web_md'))\n",
    "\n",
    "stats_per_tag = compute_scores(test_examples, \n",
    "                               loaded,          ## Need to review before executing the cell\n",
    "                               PRED_LABELS_EQUIV_MAP)\n",
    "display_perf_stats_per_tag(stats_per_tag)"
   ]
  },
  {
   "cell_type": "markdown",
   "metadata": {
    "colab_type": "text",
    "id": "8aaO9dQ47RKu"
   },
   "source": [
    "# **Training a SpaCy model from scratch and its evaluation**\n",
    "\n",
    "Now lets train a model from sratch and compute the score. The idea here would be to see if the performance on the retrained spaCy model is better than that of on a model that has been trained from scratch "
   ]
  },
  {
   "cell_type": "code",
   "execution_count": 29,
   "metadata": {
    "colab": {
     "base_uri": "https://localhost:8080/",
     "height": 756
    },
    "colab_type": "code",
    "id": "7Idaj1sd7RKv",
    "outputId": "817d813f-8cd6-4b91-d879-66621282e3d4",
    "scrolled": true
   },
   "outputs": [
    {
     "name": "stdout",
     "output_type": "stream",
     "text": [
      "#Bytes-read: 151121373\n"
     ]
    },
    {
     "name": "stderr",
     "output_type": "stream",
     "text": [
      "D:\\Software_install_directory\\Anaconda3\\lib\\runpy.py:193: UserWarning: [W019] Changing vectors name from en_core_web_md.vectors to en_core_web_md.vectors_0, to avoid clash with previously loaded vectors. See Issue #3853.\n",
      "  \"__main__\", mod_spec)\n"
     ]
    },
    {
     "name": "stdout",
     "output_type": "stream",
     "text": [
      "{'LOC': {'CNT': 28470, 'FN': 1944, 'FP': 0, 'TN': 26526, 'TP': 0},\n",
      " 'MISC': {'CNT': 19528, 'FN': 1024, 'FP': 0, 'TN': 18504, 'TP': 0},\n",
      " 'ORG': {'CNT': 37694, 'FN': 2537, 'FP': 0, 'TN': 35157, 'TP': 0},\n",
      " 'PER': {'CNT': 39024, 'FN': 2827, 'FP': 0, 'TN': 36197, 'TP': 0}}\n",
      "For label: \"PER\"\n",
      "\tAccuracy : 92.75574005740057%\n",
      "\tPrecision : 0\n",
      "\tRecall : 0.0\n",
      "\tF-score : 0\n",
      "For label: \"LOC\"\n",
      "\tAccuracy : 93.17175974710221%\n",
      "\tPrecision : 0\n",
      "\tRecall : 0.0\n",
      "\tF-score : 0\n",
      "For label: \"MISC\"\n",
      "\tAccuracy : 94.75624743957395%\n",
      "\tPrecision : 0\n",
      "\tRecall : 0.0\n",
      "\tF-score : 0\n",
      "For label: \"ORG\"\n",
      "\tAccuracy : 93.26948585981853%\n",
      "\tPrecision : 0\n",
      "\tRecall : 0.0\n",
      "\tF-score : 0\n"
     ]
    }
   ],
   "source": [
    "#nlp_from_scratch = train_spacy_model(training_examples)   # No model specified i.e spacy.blank(...)\n",
    "\n",
    "#save_model_to_file(nlp_from_scratch, 'saved_models/space_model_from_scratch.bin')\n",
    "\n",
    "loaded =  load_model_from_file('saved_models/space_model_from_scratch.bin')\n",
    "\n",
    "stats_per_tag = compute_scores(test_examples, \n",
    "                               loaded,     ## Need to review before executing the cell\n",
    "                               PRED_LABELS_EQUIV_MAP)\n",
    "display_perf_stats_per_tag(stats_per_tag)"
   ]
  },
  {
   "cell_type": "markdown",
   "metadata": {
    "colab_type": "text",
    "id": "2MPHtFU7620Y"
   },
   "source": [
    "# **Evaluating on SpaCy's pretrained, large, vanilla model**\n",
    "\n",
    "Download spaCy's large model (en_core_web_lg) and find how it performs on the test examples. Get the performance scores.\n",
    "\n",
    "Later, retrain this \"large\" model and see how it compares with the vanilla and the retrained results on \"medium\" model. "
   ]
  },
  {
   "cell_type": "code",
   "execution_count": 30,
   "metadata": {
    "colab": {
     "base_uri": "https://localhost:8080/",
     "height": 50
    },
    "colab_type": "code",
    "id": "D1X9P9EO61eM",
    "outputId": "5ca176d1-39c8-4321-f649-c425bd22c7b7"
   },
   "outputs": [
    {
     "name": "stdout",
     "output_type": "stream",
     "text": [
      "✔ Download and installation successful\n",
      "You can now load the model via spacy.load('en_core_web_lg')\n"
     ]
    }
   ],
   "source": [
    "# Downloading large model\n",
    "import spacy.cli\n",
    "spacy.cli.download(\"en_core_web_lg\")\n",
    "nlp_lg_pretrained = spacy.load('en_core_web_lg')"
   ]
  },
  {
   "cell_type": "code",
   "execution_count": 31,
   "metadata": {
    "colab": {
     "base_uri": "https://localhost:8080/",
     "height": 420
    },
    "colab_type": "code",
    "id": "EG9NbWmM8F62",
    "outputId": "4f672890-68f4-4bff-9302-a0e29d70428e"
   },
   "outputs": [
    {
     "name": "stdout",
     "output_type": "stream",
     "text": [
      "{'LOC': {'CNT': 36046, 'FN': 423, 'FP': 789, 'TN': 33313, 'TP': 1521},\n",
      " 'MISC': {'CNT': 24347, 'FN': 483, 'FP': 356, 'TN': 22967, 'TP': 541},\n",
      " 'ORG': {'CNT': 48924, 'FN': 1372, 'FP': 1282, 'TN': 45105, 'TP': 1165},\n",
      " 'PER': {'CNT': 45835, 'FN': 679, 'FP': 706, 'TN': 42302, 'TP': 2148}}\n",
      "For label: \"PER\"\n",
      "\tAccuracy : 96.97829169848369%\n",
      "\tPrecision : 0.7526278906797477\n",
      "\tRecall : 0.7598160594269544\n",
      "\tF-score : 0.7562048935046648\n",
      "For label: \"LOC\"\n",
      "\tAccuracy : 96.63762969538922%\n",
      "\tPrecision : 0.6584415584415585\n",
      "\tRecall : 0.7824074074074074\n",
      "\tF-score : 0.7150916784203103\n",
      "For label: \"ORG\"\n",
      "\tAccuracy : 94.57525958629711%\n",
      "\tPrecision : 0.47609317531671436\n",
      "\tRecall : 0.4592037839968467\n",
      "\tF-score : 0.4674959871589085\n",
      "For label: \"MISC\"\n",
      "\tAccuracy : 96.55399022466834%\n",
      "\tPrecision : 0.6031215161649944\n",
      "\tRecall : 0.5283203125\n",
      "\tF-score : 0.5632483081728266\n"
     ]
    }
   ],
   "source": [
    "stats_per_tag = compute_scores(test_examples, nlp_lg_pretrained, PRED_LABELS_EQUIV_MAP)\n",
    "display_perf_stats_per_tag(stats_per_tag)"
   ]
  },
  {
   "cell_type": "markdown",
   "metadata": {
    "colab_type": "text",
    "id": "wZ_76m758UKy"
   },
   "source": [
    "# **Retraining pretrained-large SpaCy model and evaluation**"
   ]
  },
  {
   "cell_type": "code",
   "execution_count": null,
   "metadata": {
    "colab": {
     "base_uri": "https://localhost:8080/",
     "height": 353
    },
    "colab_type": "code",
    "id": "iZz_dwSG8aWA",
    "outputId": "ca66ecac-e002-4ac3-d206-4b618909a3b7"
   },
   "outputs": [],
   "source": [
    "train_spacy_model(mapped_examples, pretrained_nlp) # Comment after use"
   ]
  },
  {
   "cell_type": "code",
   "execution_count": 0,
   "metadata": {
    "colab": {
     "base_uri": "https://localhost:8080/",
     "height": 420
    },
    "colab_type": "code",
    "id": "nmwkvGZ98xez",
    "outputId": "bb6df8fa-562c-45a6-c26f-17acdd877363"
   },
   "outputs": [
    {
     "name": "stdout",
     "output_type": "stream",
     "text": [
      "{'LOC': {'CNT': 38238, 'FN': 264, 'FP': 637, 'TN': 35657, 'TP': 1680},\n",
      " 'MISC': {'CNT': 24728, 'FN': 325, 'FP': 345, 'TN': 23359, 'TP': 699},\n",
      " 'ORG': {'CNT': 46069, 'FN': 679, 'FP': 733, 'TN': 42799, 'TP': 1858},\n",
      " 'PER': {'CNT': 43711, 'FN': 441, 'FP': 371, 'TN': 40513, 'TP': 2386}}\n"
     ]
    },
    {
     "data": {
      "text/plain": [
       "'For label: \"LOC\"'"
      ]
     },
     "metadata": {
      "tags": []
     },
     "output_type": "display_data"
    },
    {
     "data": {
      "text/plain": [
       "'\\tAccuracy : 97.6437052147079%'"
      ]
     },
     "metadata": {
      "tags": []
     },
     "output_type": "display_data"
    },
    {
     "data": {
      "text/plain": [
       "'\\tPrecision : 0.7250755287009063'"
      ]
     },
     "metadata": {
      "tags": []
     },
     "output_type": "display_data"
    },
    {
     "data": {
      "text/plain": [
       "'\\tRecall : 0.8641975308641975'"
      ]
     },
     "metadata": {
      "tags": []
     },
     "output_type": "display_data"
    },
    {
     "data": {
      "text/plain": [
       "'\\tF-score : 0.7885472893686927'"
      ]
     },
     "metadata": {
      "tags": []
     },
     "output_type": "display_data"
    },
    {
     "data": {
      "text/plain": [
       "'For label: \"MISC\"'"
      ]
     },
     "metadata": {
      "tags": []
     },
     "output_type": "display_data"
    },
    {
     "data": {
      "text/plain": [
       "'\\tAccuracy : 97.29052086703332%'"
      ]
     },
     "metadata": {
      "tags": []
     },
     "output_type": "display_data"
    },
    {
     "data": {
      "text/plain": [
       "'\\tPrecision : 0.6695402298850575'"
      ]
     },
     "metadata": {
      "tags": []
     },
     "output_type": "display_data"
    },
    {
     "data": {
      "text/plain": [
       "'\\tRecall : 0.6826171875'"
      ]
     },
     "metadata": {
      "tags": []
     },
     "output_type": "display_data"
    },
    {
     "data": {
      "text/plain": [
       "'\\tF-score : 0.6760154738878144'"
      ]
     },
     "metadata": {
      "tags": []
     },
     "output_type": "display_data"
    },
    {
     "data": {
      "text/plain": [
       "'For label: \"ORG\"'"
      ]
     },
     "metadata": {
      "tags": []
     },
     "output_type": "display_data"
    },
    {
     "data": {
      "text/plain": [
       "'\\tAccuracy : 96.9350322342573%'"
      ]
     },
     "metadata": {
      "tags": []
     },
     "output_type": "display_data"
    },
    {
     "data": {
      "text/plain": [
       "'\\tPrecision : 0.7170976456966422'"
      ]
     },
     "metadata": {
      "tags": []
     },
     "output_type": "display_data"
    },
    {
     "data": {
      "text/plain": [
       "'\\tRecall : 0.7323610563657864'"
      ]
     },
     "metadata": {
      "tags": []
     },
     "output_type": "display_data"
    },
    {
     "data": {
      "text/plain": [
       "'\\tF-score : 0.7246489859594384'"
      ]
     },
     "metadata": {
      "tags": []
     },
     "output_type": "display_data"
    },
    {
     "data": {
      "text/plain": [
       "'For label: \"PER\"'"
      ]
     },
     "metadata": {
      "tags": []
     },
     "output_type": "display_data"
    },
    {
     "data": {
      "text/plain": [
       "'\\tAccuracy : 98.14234403239459%'"
      ]
     },
     "metadata": {
      "tags": []
     },
     "output_type": "display_data"
    },
    {
     "data": {
      "text/plain": [
       "'\\tPrecision : 0.8654334421472615'"
      ]
     },
     "metadata": {
      "tags": []
     },
     "output_type": "display_data"
    },
    {
     "data": {
      "text/plain": [
       "'\\tRecall : 0.844004244782455'"
      ]
     },
     "metadata": {
      "tags": []
     },
     "output_type": "display_data"
    },
    {
     "data": {
      "text/plain": [
       "'\\tF-score : 0.8545845272206304'"
      ]
     },
     "metadata": {
      "tags": []
     },
     "output_type": "display_data"
    }
   ],
   "source": [
    "#nlp_retrained_lg = copy.deepcopy(pretrained_nlp) # *ExpensiveResource*. comment after execution\n",
    "\n",
    "#save_model_to_file(nlp_retrained_lg, 'saved_models/space_model_from_scratch.bin')\n",
    "\n",
    "loaded =  load_model_from_file('saved_models/space_model_from_scratch.bin',  \n",
    "                               spacy.blank('en'))\n",
    "\n",
    "stats_per_tag = compute_scores(test_examples, \n",
    "                               loaded,     ## Need to review before executing the cell\n",
    "                               PRED_LABELS_EQUIV_MAP)\n",
    "display_perf_stats_per_tag(stats_per_tag)"
   ]
  },
  {
   "cell_type": "markdown",
   "metadata": {
    "colab_type": "text",
    "id": "uHgKzcO_8u9l"
   },
   "source": [
    "# **Results**\n",
    "Scores on \n",
    "\n",
    "# **Conclusions**\n"
   ]
  }
 ],
 "metadata": {
  "accelerator": "GPU",
  "colab": {
   "collapsed_sections": [],
   "name": "Copy of SpaCy_Retraining_POC.ipynb",
   "provenance": []
  },
  "kernelspec": {
   "display_name": "Python 3",
   "language": "python",
   "name": "python3"
  },
  "language_info": {
   "codemirror_mode": {
    "name": "ipython",
    "version": 3
   },
   "file_extension": ".py",
   "mimetype": "text/x-python",
   "name": "python",
   "nbconvert_exporter": "python",
   "pygments_lexer": "ipython3",
   "version": "3.7.3"
  }
 },
 "nbformat": 4,
 "nbformat_minor": 1
}
